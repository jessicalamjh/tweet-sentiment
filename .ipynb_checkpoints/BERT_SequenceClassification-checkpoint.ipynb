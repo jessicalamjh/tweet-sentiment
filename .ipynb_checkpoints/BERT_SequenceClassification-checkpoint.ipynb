{
 "cells": [
  {
   "cell_type": "markdown",
   "metadata": {},
   "source": [
    "# tweet-sentiment with BERT\n",
    "\n",
    "In this notebook, we analyse the tweet-sentiment dataset with Google's BERT model. BERT stands for Bidirectional Encoder Representations from Transformers, and since being published in 2018, it has consistently presented state-of-the-art results with various tasks in Natural Language Processing. "
   ]
  },
  {
   "cell_type": "markdown",
   "metadata": {},
   "source": [
    "## 0. Set-up\n",
    "\n",
    "The first step is to load all the necessary libraries. For this project, we use the pretrained models and tokenizers provided in the Transformers library. "
   ]
  },
  {
   "cell_type": "code",
   "execution_count": 1,
   "metadata": {
    "colab": {
     "base_uri": "https://localhost:8080/",
     "height": 697
    },
    "colab_type": "code",
    "id": "nx74fjZQuGIT",
    "outputId": "9c296dfd-10da-4d2b-ee65-47e449bed8ca",
    "scrolled": false
   },
   "outputs": [
    {
     "name": "stdout",
     "output_type": "stream",
     "text": [
      "Collecting transformers\n",
      "\u001b[?25l  Downloading https://files.pythonhosted.org/packages/a3/78/92cedda05552398352ed9784908b834ee32a0bd071a9b32de287327370b7/transformers-2.8.0-py3-none-any.whl (563kB)\n",
      "\r",
      "\u001b[K     |▋                               | 10kB 6.7MB/s eta 0:00:01\r",
      "\u001b[K     |█▏                              | 20kB 1.7MB/s eta 0:00:01\r",
      "\u001b[K     |█▊                              | 30kB 2.2MB/s eta 0:00:01\r",
      "\u001b[K     |██▎                             | 40kB 2.5MB/s eta 0:00:01\r",
      "\u001b[K     |███                             | 51kB 2.0MB/s eta 0:00:01\r",
      "\u001b[K     |███▌                            | 61kB 2.2MB/s eta 0:00:01\r",
      "\u001b[K     |████                            | 71kB 2.5MB/s eta 0:00:01\r",
      "\u001b[K     |████▋                           | 81kB 2.7MB/s eta 0:00:01\r",
      "\u001b[K     |█████▎                          | 92kB 2.9MB/s eta 0:00:01\r",
      "\u001b[K     |█████▉                          | 102kB 2.7MB/s eta 0:00:01\r",
      "\u001b[K     |██████▍                         | 112kB 2.7MB/s eta 0:00:01\r",
      "\u001b[K     |███████                         | 122kB 2.7MB/s eta 0:00:01\r",
      "\u001b[K     |███████▋                        | 133kB 2.7MB/s eta 0:00:01\r",
      "\u001b[K     |████████▏                       | 143kB 2.7MB/s eta 0:00:01\r",
      "\u001b[K     |████████▊                       | 153kB 2.7MB/s eta 0:00:01\r",
      "\u001b[K     |█████████▎                      | 163kB 2.7MB/s eta 0:00:01\r",
      "\u001b[K     |█████████▉                      | 174kB 2.7MB/s eta 0:00:01\r",
      "\u001b[K     |██████████▌                     | 184kB 2.7MB/s eta 0:00:01\r",
      "\u001b[K     |███████████                     | 194kB 2.7MB/s eta 0:00:01\r",
      "\u001b[K     |███████████▋                    | 204kB 2.7MB/s eta 0:00:01\r",
      "\u001b[K     |████████████▏                   | 215kB 2.7MB/s eta 0:00:01\r",
      "\u001b[K     |████████████▉                   | 225kB 2.7MB/s eta 0:00:01\r",
      "\u001b[K     |█████████████▍                  | 235kB 2.7MB/s eta 0:00:01\r",
      "\u001b[K     |██████████████                  | 245kB 2.7MB/s eta 0:00:01\r",
      "\u001b[K     |██████████████▌                 | 256kB 2.7MB/s eta 0:00:01\r",
      "\u001b[K     |███████████████▏                | 266kB 2.7MB/s eta 0:00:01\r",
      "\u001b[K     |███████████████▊                | 276kB 2.7MB/s eta 0:00:01\r",
      "\u001b[K     |████████████████▎               | 286kB 2.7MB/s eta 0:00:01\r",
      "\u001b[K     |████████████████▉               | 296kB 2.7MB/s eta 0:00:01\r",
      "\u001b[K     |█████████████████▍              | 307kB 2.7MB/s eta 0:00:01\r",
      "\u001b[K     |██████████████████              | 317kB 2.7MB/s eta 0:00:01\r",
      "\u001b[K     |██████████████████▋             | 327kB 2.7MB/s eta 0:00:01\r",
      "\u001b[K     |███████████████████▏            | 337kB 2.7MB/s eta 0:00:01\r",
      "\u001b[K     |███████████████████▊            | 348kB 2.7MB/s eta 0:00:01\r",
      "\u001b[K     |████████████████████▍           | 358kB 2.7MB/s eta 0:00:01\r",
      "\u001b[K     |█████████████████████           | 368kB 2.7MB/s eta 0:00:01\r",
      "\u001b[K     |█████████████████████▌          | 378kB 2.7MB/s eta 0:00:01\r",
      "\u001b[K     |██████████████████████          | 389kB 2.7MB/s eta 0:00:01\r",
      "\u001b[K     |██████████████████████▊         | 399kB 2.7MB/s eta 0:00:01\r",
      "\u001b[K     |███████████████████████▎        | 409kB 2.7MB/s eta 0:00:01\r",
      "\u001b[K     |███████████████████████▉        | 419kB 2.7MB/s eta 0:00:01\r",
      "\u001b[K     |████████████████████████▍       | 430kB 2.7MB/s eta 0:00:01\r",
      "\u001b[K     |█████████████████████████       | 440kB 2.7MB/s eta 0:00:01\r",
      "\u001b[K     |█████████████████████████▋      | 450kB 2.7MB/s eta 0:00:01\r",
      "\u001b[K     |██████████████████████████▏     | 460kB 2.7MB/s eta 0:00:01\r",
      "\u001b[K     |██████████████████████████▊     | 471kB 2.7MB/s eta 0:00:01\r",
      "\u001b[K     |███████████████████████████▎    | 481kB 2.7MB/s eta 0:00:01\r",
      "\u001b[K     |████████████████████████████    | 491kB 2.7MB/s eta 0:00:01\r",
      "\u001b[K     |████████████████████████████▌   | 501kB 2.7MB/s eta 0:00:01\r",
      "\u001b[K     |█████████████████████████████   | 512kB 2.7MB/s eta 0:00:01\r",
      "\u001b[K     |█████████████████████████████▋  | 522kB 2.7MB/s eta 0:00:01\r",
      "\u001b[K     |██████████████████████████████▎ | 532kB 2.7MB/s eta 0:00:01\r",
      "\u001b[K     |██████████████████████████████▉ | 542kB 2.7MB/s eta 0:00:01\r",
      "\u001b[K     |███████████████████████████████▍| 552kB 2.7MB/s eta 0:00:01\r",
      "\u001b[K     |████████████████████████████████| 563kB 2.7MB/s eta 0:00:01\r",
      "\u001b[K     |████████████████████████████████| 573kB 2.7MB/s \n",
      "\u001b[?25hCollecting tokenizers==0.5.2\n",
      "\u001b[?25l  Downloading https://files.pythonhosted.org/packages/d1/3f/73c881ea4723e43c1e9acf317cf407fab3a278daab3a69c98dcac511c04f/tokenizers-0.5.2-cp36-cp36m-manylinux1_x86_64.whl (3.7MB)\n",
      "\u001b[K     |████████████████████████████████| 3.7MB 8.5MB/s \n",
      "\u001b[?25hRequirement already satisfied: boto3 in /usr/local/lib/python3.6/dist-packages (from transformers) (1.13.1)\n",
      "Requirement already satisfied: filelock in /usr/local/lib/python3.6/dist-packages (from transformers) (3.0.12)\n",
      "Requirement already satisfied: dataclasses; python_version < \"3.7\" in /usr/local/lib/python3.6/dist-packages (from transformers) (0.7)\n",
      "Requirement already satisfied: tqdm>=4.27 in /usr/local/lib/python3.6/dist-packages (from transformers) (4.38.0)\n",
      "Requirement already satisfied: requests in /usr/local/lib/python3.6/dist-packages (from transformers) (2.23.0)\n",
      "Requirement already satisfied: regex!=2019.12.17 in /usr/local/lib/python3.6/dist-packages (from transformers) (2019.12.20)\n",
      "Collecting sacremoses\n",
      "\u001b[?25l  Downloading https://files.pythonhosted.org/packages/7d/34/09d19aff26edcc8eb2a01bed8e98f13a1537005d31e95233fd48216eed10/sacremoses-0.0.43.tar.gz (883kB)\n",
      "\u001b[K     |████████████████████████████████| 890kB 19.2MB/s \n",
      "\u001b[?25hCollecting sentencepiece\n",
      "\u001b[?25l  Downloading https://files.pythonhosted.org/packages/98/2c/8df20f3ac6c22ac224fff307ebc102818206c53fc454ecd37d8ac2060df5/sentencepiece-0.1.86-cp36-cp36m-manylinux1_x86_64.whl (1.0MB)\n",
      "\u001b[K     |████████████████████████████████| 1.0MB 37.7MB/s \n",
      "\u001b[?25hRequirement already satisfied: numpy in /usr/local/lib/python3.6/dist-packages (from transformers) (1.18.3)\n",
      "Requirement already satisfied: jmespath<1.0.0,>=0.7.1 in /usr/local/lib/python3.6/dist-packages (from boto3->transformers) (0.9.5)\n",
      "Requirement already satisfied: botocore<1.17.0,>=1.16.1 in /usr/local/lib/python3.6/dist-packages (from boto3->transformers) (1.16.1)\n",
      "Requirement already satisfied: s3transfer<0.4.0,>=0.3.0 in /usr/local/lib/python3.6/dist-packages (from boto3->transformers) (0.3.3)\n",
      "Requirement already satisfied: urllib3!=1.25.0,!=1.25.1,<1.26,>=1.21.1 in /usr/local/lib/python3.6/dist-packages (from requests->transformers) (1.24.3)\n",
      "Requirement already satisfied: certifi>=2017.4.17 in /usr/local/lib/python3.6/dist-packages (from requests->transformers) (2020.4.5.1)\n",
      "Requirement already satisfied: idna<3,>=2.5 in /usr/local/lib/python3.6/dist-packages (from requests->transformers) (2.9)\n",
      "Requirement already satisfied: chardet<4,>=3.0.2 in /usr/local/lib/python3.6/dist-packages (from requests->transformers) (3.0.4)\n",
      "Requirement already satisfied: six in /usr/local/lib/python3.6/dist-packages (from sacremoses->transformers) (1.12.0)\n",
      "Requirement already satisfied: click in /usr/local/lib/python3.6/dist-packages (from sacremoses->transformers) (7.1.2)\n",
      "Requirement already satisfied: joblib in /usr/local/lib/python3.6/dist-packages (from sacremoses->transformers) (0.14.1)\n",
      "Requirement already satisfied: docutils<0.16,>=0.10 in /usr/local/lib/python3.6/dist-packages (from botocore<1.17.0,>=1.16.1->boto3->transformers) (0.15.2)\n",
      "Requirement already satisfied: python-dateutil<3.0.0,>=2.1 in /usr/local/lib/python3.6/dist-packages (from botocore<1.17.0,>=1.16.1->boto3->transformers) (2.8.1)\n",
      "Building wheels for collected packages: sacremoses\n",
      "  Building wheel for sacremoses (setup.py) ... \u001b[?25l\u001b[?25hdone\n",
      "  Created wheel for sacremoses: filename=sacremoses-0.0.43-cp36-none-any.whl size=893260 sha256=169dea20b849d76a8b160831e15de96f64648888c2d310357c5d91ca9f26d191\n",
      "  Stored in directory: /root/.cache/pip/wheels/29/3c/fd/7ce5c3f0666dab31a50123635e6fb5e19ceb42ce38d4e58f45\n",
      "Successfully built sacremoses\n",
      "Installing collected packages: tokenizers, sacremoses, sentencepiece, transformers\n",
      "Successfully installed sacremoses-0.0.43 sentencepiece-0.1.86 tokenizers-0.5.2 transformers-2.8.0\n"
     ]
    },
    {
     "name": "stderr",
     "output_type": "stream",
     "text": [
      "/usr/local/lib/python3.6/dist-packages/statsmodels/tools/_testing.py:19: FutureWarning: pandas.util.testing is deprecated. Use the functions in the public API at pandas.testing instead.\n",
      "  import pandas.util.testing as tm\n"
     ]
    }
   ],
   "source": [
    "!pip install transformers \n",
    "\n",
    "import numpy as np \n",
    "import pandas as pd \n",
    "import tensorflow as tf\n",
    "import torch \n",
    "\n",
    "from sklearn.model_selection import train_test_split \n",
    "\n",
    "from torch.utils.data import TensorDataset, random_split \n",
    "from torch.utils.data import DataLoader, RandomSampler, SequentialSampler\n",
    "\n",
    "from transformers import BertTokenizer\n",
    "from transformers import BertForSequenceClassification, BertConfig\n",
    "from transformers import get_linear_schedule_with_warmup, AdamW\n",
    "\n",
    "import matplotlib.pyplot as plt\n",
    "import seaborn as sns\n",
    "\n",
    "import time \n",
    "import datetime\n",
    "import random"
   ]
  },
  {
   "cell_type": "markdown",
   "metadata": {},
   "source": [
    "For reproducibility purposes we also fix a seed value of 42 throughout the project. "
   ]
  },
  {
   "cell_type": "code",
   "execution_count": 0,
   "metadata": {
    "colab": {},
    "colab_type": "code",
    "id": "tjW_sWRpuGIc"
   },
   "outputs": [],
   "source": [
    "seed = 42"
   ]
  },
  {
   "cell_type": "code",
   "execution_count": 3,
   "metadata": {
    "colab": {
     "base_uri": "https://localhost:8080/",
     "height": 68
    },
    "colab_type": "code",
    "id": "anCFh6eLuGIm",
    "outputId": "84c47520-e268-44fa-8de1-9adb85d6b80f"
   },
   "outputs": [
    {
     "name": "stdout",
     "output_type": "stream",
     "text": [
      "Found GPU at /device:GPU:0\n",
      "There are 1 GPU(s) available\n",
      "We will use the GPU Tesla K80\n"
     ]
    }
   ],
   "source": [
    "# check for GPU \n",
    "device_name = tf.test.gpu_device_name()\n",
    "\n",
    "if device_name == \"/device:GPU:0\":\n",
    "  print(\"Found GPU at {}\".format(device_name))\n",
    "else:\n",
    "  raise SystemError(\"GPU device not found\")\n",
    "  \n",
    "if torch.cuda.is_available():\n",
    "  device = torch.device(\"cuda\")\n",
    "  print(\"There are {} GPU(s) available\".format(torch.cuda.device_count()))\n",
    "  print(\"We will use the GPU\", torch.cuda.get_device_name(0))\n",
    "else: \n",
    "  device = torch.device(\"cpu\")\n",
    "  print(\"No GPU available, we use the CPU instead\")"
   ]
  },
  {
   "cell_type": "markdown",
   "metadata": {
    "colab_type": "text",
    "id": "Vmu-PpcFuGIt"
   },
   "source": [
    "## 1. Load the dataset\n",
    "\n",
    "Using the functions defined in our eda module, we load and do simple cleaning of the dataset. This includes: \n",
    "- removing NA values; \n",
    "- converting the categorical variable `sentiment` to numerical values. \n",
    "\n",
    "The functions `load_dataset` and `clean_data` are taken from the eda module because of importing difficulties when using Google Colab to run the notebook."
   ]
  },
  {
   "cell_type": "code",
   "execution_count": 0,
   "metadata": {
    "colab": {},
    "colab_type": "code",
    "id": "ki8orJxuuGIu"
   },
   "outputs": [],
   "source": [
    "def load_dataset(url):\n",
    "    # load dataset \n",
    "    dat = pd.read_csv(url)\n",
    "    return pd.DataFrame(data=dat, columns=[\"text\", \"sentiment\"])\n",
    "\n",
    "def clean_dataset(df):\n",
    "    # convert sentiment (categorical) to label (numerical)\n",
    "    # negative = 0, neutral = 1, positive = 2\n",
    "    df[\"sentiment\"]  = df.sentiment.map({\"negative\": 0, \"neutral\": 1, \"positive\": 2}) \n",
    "\n",
    "    # remove missing values \n",
    "    df = df[df.text.notna()]\n",
    "    return df"
   ]
  },
  {
   "cell_type": "code",
   "execution_count": 5,
   "metadata": {
    "colab": {
     "base_uri": "https://localhost:8080/",
     "height": 221
    },
    "colab_type": "code",
    "id": "U5vyAOBnuGI0",
    "outputId": "6345632c-5391-4235-f67d-e4561fbcf372",
    "scrolled": true
   },
   "outputs": [
    {
     "name": "stdout",
     "output_type": "stream",
     "text": [
      "This dataset consists of 27485 tweets.\n"
     ]
    },
    {
     "data": {
      "text/html": [
       "<div>\n",
       "<style scoped>\n",
       "    .dataframe tbody tr th:only-of-type {\n",
       "        vertical-align: middle;\n",
       "    }\n",
       "\n",
       "    .dataframe tbody tr th {\n",
       "        vertical-align: top;\n",
       "    }\n",
       "\n",
       "    .dataframe thead th {\n",
       "        text-align: right;\n",
       "    }\n",
       "</style>\n",
       "<table border=\"1\" class=\"dataframe\">\n",
       "  <thead>\n",
       "    <tr style=\"text-align: right;\">\n",
       "      <th></th>\n",
       "      <th>text</th>\n",
       "      <th>sentiment</th>\n",
       "    </tr>\n",
       "  </thead>\n",
       "  <tbody>\n",
       "    <tr>\n",
       "      <th>0</th>\n",
       "      <td>Spent the entire morning in a meeting w/ a ven...</td>\n",
       "      <td>1</td>\n",
       "    </tr>\n",
       "    <tr>\n",
       "      <th>1</th>\n",
       "      <td>Oh! Good idea about putting them on ice cream</td>\n",
       "      <td>2</td>\n",
       "    </tr>\n",
       "    <tr>\n",
       "      <th>2</th>\n",
       "      <td>says good (or should i say bad?) afternoon!  h...</td>\n",
       "      <td>1</td>\n",
       "    </tr>\n",
       "    <tr>\n",
       "      <th>3</th>\n",
       "      <td>i dont think you can vote anymore! i tried</td>\n",
       "      <td>0</td>\n",
       "    </tr>\n",
       "    <tr>\n",
       "      <th>4</th>\n",
       "      <td>haha better drunken tweeting you mean?</td>\n",
       "      <td>2</td>\n",
       "    </tr>\n",
       "  </tbody>\n",
       "</table>\n",
       "</div>"
      ],
      "text/plain": [
       "                                                text  sentiment\n",
       "0  Spent the entire morning in a meeting w/ a ven...          1\n",
       "1      Oh! Good idea about putting them on ice cream          2\n",
       "2  says good (or should i say bad?) afternoon!  h...          1\n",
       "3         i dont think you can vote anymore! i tried          0\n",
       "4             haha better drunken tweeting you mean?          2"
      ]
     },
     "execution_count": 5,
     "metadata": {
      "tags": []
     },
     "output_type": "execute_result"
    }
   ],
   "source": [
    "df = load_dataset(url=\"https://raw.github.com/ant1code/tweet-sentiment/master/data/train.csv\")\n",
    "\n",
    "# clean the data: remove na, convert categorical to numerical\n",
    "df = clean_dataset(df)\n",
    "\n",
    "print(f\"This dataset consists of {len(df)} tweets.\")\n",
    "df.head()"
   ]
  },
  {
   "cell_type": "markdown",
   "metadata": {
    "colab_type": "text",
    "id": "_Pwi5H7CuGI5"
   },
   "source": [
    "## 2. Data Processing \n",
    "\n",
    "We have already verified that the dataset is balanced, so we go straight into the processing of the data. Note that for the BERT model, there are very specific formatting requirements for the input: \n",
    "- all tweets must have (or be padded to) the same length; \n",
    "- all tweets require special tokens to separate sentences and for padding; \n",
    "- each tweet has an *attention mask* that indicates where real tokens end and padding tokens begin. \n",
    "\n",
    "This part is somewhat involved, so we first work with the following made-up tweet to explain the details. "
   ]
  },
  {
   "cell_type": "code",
   "execution_count": 0,
   "metadata": {
    "colab": {},
    "colab_type": "code",
    "id": "vpuDpY5quGI6"
   },
   "outputs": [],
   "source": [
    "tweet = \"I'm in LOVE with this game! It makes me happy @nintendo\" "
   ]
  },
  {
   "cell_type": "markdown",
   "metadata": {
    "colab_type": "text",
    "id": "M6xGj7mOuGJE"
   },
   "source": [
    "The first step is to load a pretrained Bert tokenizer: "
   ]
  },
  {
   "cell_type": "code",
   "execution_count": 11,
   "metadata": {
    "colab": {
     "base_uri": "https://localhost:8080/",
     "height": 66,
     "referenced_widgets": [
      "09cc0c7d653948e691fff5cfd4d163a5",
      "704303219afc4fea8200367dd4cd7093",
      "3c8daaccd1824cdea19a160b5fb8be2a",
      "b0df46abb0b842aaab24ac2624f523a7",
      "0f76d87a70a14ae8931c2ba75cc5c7c2",
      "5db1e819af1d4e8ebab25b7b18566808",
      "2018ccb0b5714fa89a2073059cbf3796",
      "30cadd7eb89f421684d2ea3a3c37069f"
     ]
    },
    "colab_type": "code",
    "id": "42KnWM-4uGJF",
    "outputId": "9cd1a92e-d5f4-407d-d2e3-7e3241da429c"
   },
   "outputs": [
    {
     "data": {
      "application/vnd.jupyter.widget-view+json": {
       "model_id": "09cc0c7d653948e691fff5cfd4d163a5",
       "version_major": 2,
       "version_minor": 0
      },
      "text/plain": [
       "HBox(children=(IntProgress(value=0, description='Downloading', max=231508, style=ProgressStyle(description_wid…"
      ]
     },
     "metadata": {
      "tags": []
     },
     "output_type": "display_data"
    },
    {
     "name": "stdout",
     "output_type": "stream",
     "text": [
      "\n"
     ]
    }
   ],
   "source": [
    "tokenizer = BertTokenizer.from_pretrained(\"bert-base-uncased\") "
   ]
  },
  {
   "cell_type": "markdown",
   "metadata": {
    "colab_type": "text",
    "id": "rohs8hp6uGJK"
   },
   "source": [
    "Using this tokenizer, we can convert the words in our tweet to tokens, then assign unique integers (token ids) to these tokens: "
   ]
  },
  {
   "cell_type": "code",
   "execution_count": 12,
   "metadata": {
    "colab": {
     "base_uri": "https://localhost:8080/",
     "height": 68
    },
    "colab_type": "code",
    "id": "8o05hI0SuGJL",
    "outputId": "972d9a59-cf25-426c-ee64-56ecb2f01cbf"
   },
   "outputs": [
    {
     "name": "stdout",
     "output_type": "stream",
     "text": [
      "Text: I'm in LOVE with this game! It makes me happy @nintendo\n",
      "Tokens: ['i', \"'\", 'm', 'in', 'love', 'with', 'this', 'game', '!', 'it', 'makes', 'me', 'happy', '@', 'nintendo']\n",
      "Token IDs: [1045, 1005, 1049, 1999, 2293, 2007, 2023, 2208, 999, 2009, 3084, 2033, 3407, 1030, 10022]\n"
     ]
    }
   ],
   "source": [
    "tokens = tokenizer.tokenize(tweet)\n",
    "token_ids = tokenizer.convert_tokens_to_ids(tokens)\n",
    "\n",
    "print(f\"Text: {tweet}\")\n",
    "print(f\"Tokens: {tokens}\")\n",
    "print(f\"Token IDs: {token_ids}\")"
   ]
  },
  {
   "cell_type": "markdown",
   "metadata": {
    "colab_type": "text",
    "id": "4z_HUymIuGJT"
   },
   "source": [
    "The next step is to add special tokens to the tweet. These special tokens (and their token ids) are: \n",
    "- `[CLS], 101`: to specify the start of a sentence and to tell DistilBert that we are doing classification\n",
    "- `[SEP], 102`: to specify the end of a sentence \n",
    "- `[PAD], 0`  : used to pad all tweets to the same length \n",
    "\n",
    "This step can be accomplished easily with the help of the `encode_plus()` method like so: "
   ]
  },
  {
   "cell_type": "code",
   "execution_count": 0,
   "metadata": {
    "colab": {},
    "colab_type": "code",
    "id": "2JMFe4MouGJU"
   },
   "outputs": [],
   "source": [
    "encoded_dict = tokenizer.encode_plus(\n",
    "    tweet, add_special_tokens=True, max_length=20, \n",
    "    pad_to_max_length=True\n",
    ")\n",
    "\n",
    "print(encoded_dict[\"input_ids\"])"
   ]
  },
  {
   "cell_type": "markdown",
   "metadata": {
    "colab_type": "text",
    "id": "6_zltnHXuGJZ"
   },
   "source": [
    "The final step is to make an attention mask for the tokenized tweet, which is a list of zeros and ones that represent whether or not the respective token is a real token or a padding token. This can also be done with the `encode_plus` function: "
   ]
  },
  {
   "cell_type": "code",
   "execution_count": 13,
   "metadata": {
    "colab": {
     "base_uri": "https://localhost:8080/",
     "height": 51
    },
    "colab_type": "code",
    "id": "npBKeGmHuGJg",
    "outputId": "38ac6823-6604-4abb-c647-587a1042cdbd"
   },
   "outputs": [
    {
     "name": "stdout",
     "output_type": "stream",
     "text": [
      "[101, 1045, 1005, 1049, 1999, 2293, 2007, 2023, 2208, 999, 2009, 3084, 2033, 3407, 1030, 10022, 102, 0, 0, 0]\n",
      "[1, 1, 1, 1, 1, 1, 1, 1, 1, 1, 1, 1, 1, 1, 1, 1, 1, 0, 0, 0]\n"
     ]
    }
   ],
   "source": [
    "encoded_dict = tokenizer.encode_plus(\n",
    "    tweet, add_special_tokens=True, max_length=20, \n",
    "    pad_to_max_length=True, return_attention_mask=True\n",
    ")\n",
    "\n",
    "print(encoded_dict[\"input_ids\"])\n",
    "print(encoded_dict[\"attention_mask\"])"
   ]
  },
  {
   "cell_type": "markdown",
   "metadata": {
    "colab_type": "text",
    "id": "CercQDjeuGJo"
   },
   "source": [
    "The tokenization of a single tweet is a simple process. however when dealing with an entire dataset, it is important to have a suitable value for the `max_length` parameter; once fixed, Bert (and its variants) will only be able to work with sequences with no more than `max_length` many tokens. \n",
    "\n",
    "Let us plot the distribution of number of tokens in the entire dataset: "
   ]
  },
  {
   "cell_type": "code",
   "execution_count": 14,
   "metadata": {
    "colab": {
     "base_uri": "https://localhost:8080/",
     "height": 51
    },
    "colab_type": "code",
    "id": "enLMZKm-uGJp",
    "outputId": "676f0089-5536-4d10-de80-126d2d0e424f"
   },
   "outputs": [
    {
     "name": "stdout",
     "output_type": "stream",
     "text": [
      "The highest number of tokens in the entire dataset is 110.\n",
      "There are 2 tweets with more than 80 tokens.\n"
     ]
    }
   ],
   "source": [
    "token_lengths = []\n",
    "\n",
    "max_tokens = 0\n",
    "count_more_than_80 = 0\n",
    "for text in df.text: \n",
    "    tokens = tokenizer.encode(text, max_length=160)\n",
    "    n = len(tokens)\n",
    "    token_lengths.append(n)\n",
    "    \n",
    "    if n > 80: count_more_than_80 += 1\n",
    "    if n > max_tokens: max_tokens = n\n",
    "    \n",
    "print(f\"The highest number of tokens in the entire dataset is {max_tokens}.\")\n",
    "print(f\"There are {count_more_than_80} tweets with more than 80 tokens.\")"
   ]
  },
  {
   "cell_type": "code",
   "execution_count": 15,
   "metadata": {
    "colab": {
     "base_uri": "https://localhost:8080/",
     "height": 1000
    },
    "colab_type": "code",
    "id": "hqTYNikNuGJw",
    "outputId": "e10276fa-64b0-4637-aa8d-cb2efcfc7182"
   },
   "outputs": [
    {
     "data": {
      "image/png": "[encoded data removed]",
      "text/plain": [
       "<Figure size 3600x2160 with 1 Axes>"
      ]
     },
     "metadata": {
      "tags": []
     },
     "output_type": "display_data"
    }
   ],
   "source": [
    "# plot token lengths \n",
    "plt.style.use([\"seaborn\"])\n",
    "plt.figure(figsize=(50,30))\n",
    "\n",
    "sns.distplot(token_lengths)\n",
    "\n",
    "plt.title(\"Frequency Distribution of Number of Tokens\", fontsize=80)\n",
    "plt.xlabel(\"Number of tokens\", fontsize=50)\n",
    "plt.xticks(fontsize=50)\n",
    "plt.ylabel(\"Frequency\", fontsize=50)\n",
    "plt.yticks(fontsize=50)\n",
    "\n",
    "plt.show()"
   ]
  },
  {
   "cell_type": "markdown",
   "metadata": {
    "colab_type": "text",
    "id": "NYUD26uNuGJ4"
   },
   "source": [
    "Most tweets have fewer than 60 tokens, but there are two tweets with more than 80 tokens, and the highest number of tokens is 110. To avoid changing the dataset too much we leave the dataset as-is. For future projects, removing these two tweets may be a good idea as the resulting Bert model would be smaller and less complex, and fewer padding tokens would be needed. \n",
    "\n",
    "Having analysed our dataset, we can safely set a maximum length of 120 tokens (to be on the safe side) and proceed with tokenizing all tweets. "
   ]
  },
  {
   "cell_type": "code",
   "execution_count": 0,
   "metadata": {
    "colab": {},
    "colab_type": "code",
    "id": "w1PPh1GFuGJ5"
   },
   "outputs": [],
   "source": [
    "token_ids = [] \n",
    "attention_masks = []\n",
    "\n",
    "for text in df.text:\n",
    "  encoded_dict = tokenizer.encode_plus(\n",
    "      text, add_special_tokens=True, max_length=120,\n",
    "      pad_to_max_length=True, return_attention_mask=True, return_tensors=\"pt\"\n",
    "  )\n",
    "\n",
    "  token_ids.append(encoded_dict[\"input_ids\"])\n",
    "  attention_masks.append(encoded_dict[\"attention_mask\"])"
   ]
  },
  {
   "cell_type": "code",
   "execution_count": 0,
   "metadata": {
    "colab": {},
    "colab_type": "code",
    "id": "A_lISd6TuGJ-"
   },
   "outputs": [],
   "source": [
    "# create torch tensors size(train_set) x max_length\n",
    "token_ids = torch.cat(token_ids, dim=0)\n",
    "attention_masks = torch.cat(attention_masks, dim=0)"
   ]
  },
  {
   "cell_type": "markdown",
   "metadata": {
    "colab_type": "text",
    "id": "fzwpM2n7uGKI"
   },
   "source": [
    "Now that all data preprocessing is complete, it remains to split the dataset into train, validation, and test sets. We also make use of data loaders, which help reduce RAM usage by loading data in batches instead of all at once. "
   ]
  },
  {
   "cell_type": "code",
   "execution_count": 18,
   "metadata": {
    "colab": {
     "base_uri": "https://localhost:8080/",
     "height": 34
    },
    "colab_type": "code",
    "id": "-SKvng6PuGKK",
    "outputId": "9ddfb1ee-1d18-4610-c458-a2cb4c798df9"
   },
   "outputs": [
    {
     "name": "stdout",
     "output_type": "stream",
     "text": [
      "The training, validation, and testing sets consist of 16491, 5497, and 5497 tweets respectively.\n"
     ]
    }
   ],
   "source": [
    "labels = torch.tensor(df.sentiment.values) \n",
    "dataset = TensorDataset(token_ids, attention_masks, labels)\n",
    "\n",
    "# split into train, validation, test sets (60-20-20)\n",
    "train_dataset, remainder = train_test_split(dataset, test_size=0.4, random_state=seed)\n",
    "valid_dataset, test_dataset = train_test_split(remainder, test_size=0.5, random_state=seed)\n",
    "\n",
    "print(f\"The training, validation, and testing sets consist of {len(train_dataset)}, {len(valid_dataset)}, and {len(test_dataset)} tweets respectively.\")"
   ]
  },
  {
   "cell_type": "code",
   "execution_count": 0,
   "metadata": {
    "colab": {},
    "colab_type": "code",
    "id": "ZUhAl6HAuGKP"
   },
   "outputs": [],
   "source": [
    "# create train, validation, test dataloaders\n",
    "batch_size = 32\n",
    "\n",
    "train_dataloader = DataLoader(\n",
    "    train_dataset, sampler=RandomSampler(train_dataset), batch_size=batch_size\n",
    ")\n",
    "\n",
    "valid_dataloader = DataLoader(\n",
    "    valid_dataset, sampler=SequentialSampler(valid_dataset), batch_size=batch_size\n",
    ")\n",
    "\n",
    "test_dataloader = DataLoader(\n",
    "    test_dataset, sampler=SequentialSampler(test_dataset), batch_size=batch_size\n",
    ")"
   ]
  },
  {
   "cell_type": "markdown",
   "metadata": {
    "colab_type": "text",
    "id": "WyvtMcv7uGKX"
   },
   "source": [
    "## 4. Fine-Tuning BERT\n",
    "\n",
    "The main point of this part is the training loop, which is used to fine-tune a pretrained BERT model to our dataset. "
   ]
  },
  {
   "cell_type": "code",
   "execution_count": 20,
   "metadata": {
    "colab": {
     "base_uri": "https://localhost:8080/",
     "height": 115,
     "referenced_widgets": [
      "fe6d5339618748868f3cb678f6075a37",
      "8a87b46bfd9546c4829755a0be057535",
      "901249abd3164ba79eabcf32215d688f",
      "0ce60001dbc043f185b128499811cbf8",
      "60392b14a5234027a3c2c2a41587c498",
      "ef65d9df4a674c569be8a209f24abf19",
      "4f914a08b6df4766a83d6c7422c107bf",
      "155b28fd169e4d78bf26f1d718644164",
      "2b55a7f7f9ba4b4db859e14f7c1192e4",
      "7c3c9f247bdd4c09afd51f6c3453e612",
      "3bc2253b09a044a59e982bfa257fc103",
      "7589fcba897c462ba2792aa196650e1b",
      "6c111bae870249db9b7c1c3d7810ba3d",
      "9a26d609934341908b1d0632d091b777",
      "0def5b005110401fb73632d134ff46fe",
      "31030a0dea4d40ab90aba3f353c6774f"
     ]
    },
    "colab_type": "code",
    "id": "YMRUOJONuGKZ",
    "outputId": "62ff85ae-8e81-426b-f04e-490fbf9960bf"
   },
   "outputs": [
    {
     "data": {
      "application/vnd.jupyter.widget-view+json": {
       "model_id": "fe6d5339618748868f3cb678f6075a37",
       "version_major": 2,
       "version_minor": 0
      },
      "text/plain": [
       "HBox(children=(IntProgress(value=0, description='Downloading', max=433, style=ProgressStyle(description_width=…"
      ]
     },
     "metadata": {
      "tags": []
     },
     "output_type": "display_data"
    },
    {
     "name": "stdout",
     "output_type": "stream",
     "text": [
      "\n"
     ]
    },
    {
     "data": {
      "application/vnd.jupyter.widget-view+json": {
       "model_id": "2b55a7f7f9ba4b4db859e14f7c1192e4",
       "version_major": 2,
       "version_minor": 0
      },
      "text/plain": [
       "HBox(children=(IntProgress(value=0, description='Downloading', max=440473133, style=ProgressStyle(description_…"
      ]
     },
     "metadata": {
      "tags": []
     },
     "output_type": "display_data"
    },
    {
     "name": "stdout",
     "output_type": "stream",
     "text": [
      "\n"
     ]
    }
   ],
   "source": [
    "model = BertForSequenceClassification.from_pretrained(\n",
    "    \"bert-base-uncased\", num_labels=3, output_attentions=False, output_hidden_states=False\n",
    ")"
   ]
  },
  {
   "cell_type": "markdown",
   "metadata": {
    "colab_type": "text",
    "id": "nxoN3C1_uGKd"
   },
   "source": [
    "The following command puts the model on the current GPU device, which was set at the beginning of this notebook. Doing this allows us to make use of sophisticated parallel computing architecture to speed up computations and therefore train the model more efficiently. "
   ]
  },
  {
   "cell_type": "code",
   "execution_count": 21,
   "metadata": {
    "colab": {
     "base_uri": "https://localhost:8080/",
     "height": 1000
    },
    "colab_type": "code",
    "id": "lUSyAmGQuGKe",
    "outputId": "d91e3f0f-1385-40ee-ebe4-90e6867356c6"
   },
   "outputs": [
    {
     "data": {
      "text/plain": [
       "BertForSequenceClassification(\n",
       "  (bert): BertModel(\n",
       "    (embeddings): BertEmbeddings(\n",
       "      (word_embeddings): Embedding(30522, 768, padding_idx=0)\n",
       "      (position_embeddings): Embedding(512, 768)\n",
       "      (token_type_embeddings): Embedding(2, 768)\n",
       "      (LayerNorm): LayerNorm((768,), eps=1e-12, elementwise_affine=True)\n",
       "      (dropout): Dropout(p=0.1, inplace=False)\n",
       "    )\n",
       "    (encoder): BertEncoder(\n",
       "      (layer): ModuleList(\n",
       "        (0): BertLayer(\n",
       "          (attention): BertAttention(\n",
       "            (self): BertSelfAttention(\n",
       "              (query): Linear(in_features=768, out_features=768, bias=True)\n",
       "              (key): Linear(in_features=768, out_features=768, bias=True)\n",
       "              (value): Linear(in_features=768, out_features=768, bias=True)\n",
       "              (dropout): Dropout(p=0.1, inplace=False)\n",
       "            )\n",
       "            (output): BertSelfOutput(\n",
       "              (dense): Linear(in_features=768, out_features=768, bias=True)\n",
       "              (LayerNorm): LayerNorm((768,), eps=1e-12, elementwise_affine=True)\n",
       "              (dropout): Dropout(p=0.1, inplace=False)\n",
       "            )\n",
       "          )\n",
       "          (intermediate): BertIntermediate(\n",
       "            (dense): Linear(in_features=768, out_features=3072, bias=True)\n",
       "          )\n",
       "          (output): BertOutput(\n",
       "            (dense): Linear(in_features=3072, out_features=768, bias=True)\n",
       "            (LayerNorm): LayerNorm((768,), eps=1e-12, elementwise_affine=True)\n",
       "            (dropout): Dropout(p=0.1, inplace=False)\n",
       "          )\n",
       "        )\n",
       "        (1): BertLayer(\n",
       "          (attention): BertAttention(\n",
       "            (self): BertSelfAttention(\n",
       "              (query): Linear(in_features=768, out_features=768, bias=True)\n",
       "              (key): Linear(in_features=768, out_features=768, bias=True)\n",
       "              (value): Linear(in_features=768, out_features=768, bias=True)\n",
       "              (dropout): Dropout(p=0.1, inplace=False)\n",
       "            )\n",
       "            (output): BertSelfOutput(\n",
       "              (dense): Linear(in_features=768, out_features=768, bias=True)\n",
       "              (LayerNorm): LayerNorm((768,), eps=1e-12, elementwise_affine=True)\n",
       "              (dropout): Dropout(p=0.1, inplace=False)\n",
       "            )\n",
       "          )\n",
       "          (intermediate): BertIntermediate(\n",
       "            (dense): Linear(in_features=768, out_features=3072, bias=True)\n",
       "          )\n",
       "          (output): BertOutput(\n",
       "            (dense): Linear(in_features=3072, out_features=768, bias=True)\n",
       "            (LayerNorm): LayerNorm((768,), eps=1e-12, elementwise_affine=True)\n",
       "            (dropout): Dropout(p=0.1, inplace=False)\n",
       "          )\n",
       "        )\n",
       "        (2): BertLayer(\n",
       "          (attention): BertAttention(\n",
       "            (self): BertSelfAttention(\n",
       "              (query): Linear(in_features=768, out_features=768, bias=True)\n",
       "              (key): Linear(in_features=768, out_features=768, bias=True)\n",
       "              (value): Linear(in_features=768, out_features=768, bias=True)\n",
       "              (dropout): Dropout(p=0.1, inplace=False)\n",
       "            )\n",
       "            (output): BertSelfOutput(\n",
       "              (dense): Linear(in_features=768, out_features=768, bias=True)\n",
       "              (LayerNorm): LayerNorm((768,), eps=1e-12, elementwise_affine=True)\n",
       "              (dropout): Dropout(p=0.1, inplace=False)\n",
       "            )\n",
       "          )\n",
       "          (intermediate): BertIntermediate(\n",
       "            (dense): Linear(in_features=768, out_features=3072, bias=True)\n",
       "          )\n",
       "          (output): BertOutput(\n",
       "            (dense): Linear(in_features=3072, out_features=768, bias=True)\n",
       "            (LayerNorm): LayerNorm((768,), eps=1e-12, elementwise_affine=True)\n",
       "            (dropout): Dropout(p=0.1, inplace=False)\n",
       "          )\n",
       "        )\n",
       "        (3): BertLayer(\n",
       "          (attention): BertAttention(\n",
       "            (self): BertSelfAttention(\n",
       "              (query): Linear(in_features=768, out_features=768, bias=True)\n",
       "              (key): Linear(in_features=768, out_features=768, bias=True)\n",
       "              (value): Linear(in_features=768, out_features=768, bias=True)\n",
       "              (dropout): Dropout(p=0.1, inplace=False)\n",
       "            )\n",
       "            (output): BertSelfOutput(\n",
       "              (dense): Linear(in_features=768, out_features=768, bias=True)\n",
       "              (LayerNorm): LayerNorm((768,), eps=1e-12, elementwise_affine=True)\n",
       "              (dropout): Dropout(p=0.1, inplace=False)\n",
       "            )\n",
       "          )\n",
       "          (intermediate): BertIntermediate(\n",
       "            (dense): Linear(in_features=768, out_features=3072, bias=True)\n",
       "          )\n",
       "          (output): BertOutput(\n",
       "            (dense): Linear(in_features=3072, out_features=768, bias=True)\n",
       "            (LayerNorm): LayerNorm((768,), eps=1e-12, elementwise_affine=True)\n",
       "            (dropout): Dropout(p=0.1, inplace=False)\n",
       "          )\n",
       "        )\n",
       "        (4): BertLayer(\n",
       "          (attention): BertAttention(\n",
       "            (self): BertSelfAttention(\n",
       "              (query): Linear(in_features=768, out_features=768, bias=True)\n",
       "              (key): Linear(in_features=768, out_features=768, bias=True)\n",
       "              (value): Linear(in_features=768, out_features=768, bias=True)\n",
       "              (dropout): Dropout(p=0.1, inplace=False)\n",
       "            )\n",
       "            (output): BertSelfOutput(\n",
       "              (dense): Linear(in_features=768, out_features=768, bias=True)\n",
       "              (LayerNorm): LayerNorm((768,), eps=1e-12, elementwise_affine=True)\n",
       "              (dropout): Dropout(p=0.1, inplace=False)\n",
       "            )\n",
       "          )\n",
       "          (intermediate): BertIntermediate(\n",
       "            (dense): Linear(in_features=768, out_features=3072, bias=True)\n",
       "          )\n",
       "          (output): BertOutput(\n",
       "            (dense): Linear(in_features=3072, out_features=768, bias=True)\n",
       "            (LayerNorm): LayerNorm((768,), eps=1e-12, elementwise_affine=True)\n",
       "            (dropout): Dropout(p=0.1, inplace=False)\n",
       "          )\n",
       "        )\n",
       "        (5): BertLayer(\n",
       "          (attention): BertAttention(\n",
       "            (self): BertSelfAttention(\n",
       "              (query): Linear(in_features=768, out_features=768, bias=True)\n",
       "              (key): Linear(in_features=768, out_features=768, bias=True)\n",
       "              (value): Linear(in_features=768, out_features=768, bias=True)\n",
       "              (dropout): Dropout(p=0.1, inplace=False)\n",
       "            )\n",
       "            (output): BertSelfOutput(\n",
       "              (dense): Linear(in_features=768, out_features=768, bias=True)\n",
       "              (LayerNorm): LayerNorm((768,), eps=1e-12, elementwise_affine=True)\n",
       "              (dropout): Dropout(p=0.1, inplace=False)\n",
       "            )\n",
       "          )\n",
       "          (intermediate): BertIntermediate(\n",
       "            (dense): Linear(in_features=768, out_features=3072, bias=True)\n",
       "          )\n",
       "          (output): BertOutput(\n",
       "            (dense): Linear(in_features=3072, out_features=768, bias=True)\n",
       "            (LayerNorm): LayerNorm((768,), eps=1e-12, elementwise_affine=True)\n",
       "            (dropout): Dropout(p=0.1, inplace=False)\n",
       "          )\n",
       "        )\n",
       "        (6): BertLayer(\n",
       "          (attention): BertAttention(\n",
       "            (self): BertSelfAttention(\n",
       "              (query): Linear(in_features=768, out_features=768, bias=True)\n",
       "              (key): Linear(in_features=768, out_features=768, bias=True)\n",
       "              (value): Linear(in_features=768, out_features=768, bias=True)\n",
       "              (dropout): Dropout(p=0.1, inplace=False)\n",
       "            )\n",
       "            (output): BertSelfOutput(\n",
       "              (dense): Linear(in_features=768, out_features=768, bias=True)\n",
       "              (LayerNorm): LayerNorm((768,), eps=1e-12, elementwise_affine=True)\n",
       "              (dropout): Dropout(p=0.1, inplace=False)\n",
       "            )\n",
       "          )\n",
       "          (intermediate): BertIntermediate(\n",
       "            (dense): Linear(in_features=768, out_features=3072, bias=True)\n",
       "          )\n",
       "          (output): BertOutput(\n",
       "            (dense): Linear(in_features=3072, out_features=768, bias=True)\n",
       "            (LayerNorm): LayerNorm((768,), eps=1e-12, elementwise_affine=True)\n",
       "            (dropout): Dropout(p=0.1, inplace=False)\n",
       "          )\n",
       "        )\n",
       "        (7): BertLayer(\n",
       "          (attention): BertAttention(\n",
       "            (self): BertSelfAttention(\n",
       "              (query): Linear(in_features=768, out_features=768, bias=True)\n",
       "              (key): Linear(in_features=768, out_features=768, bias=True)\n",
       "              (value): Linear(in_features=768, out_features=768, bias=True)\n",
       "              (dropout): Dropout(p=0.1, inplace=False)\n",
       "            )\n",
       "            (output): BertSelfOutput(\n",
       "              (dense): Linear(in_features=768, out_features=768, bias=True)\n",
       "              (LayerNorm): LayerNorm((768,), eps=1e-12, elementwise_affine=True)\n",
       "              (dropout): Dropout(p=0.1, inplace=False)\n",
       "            )\n",
       "          )\n",
       "          (intermediate): BertIntermediate(\n",
       "            (dense): Linear(in_features=768, out_features=3072, bias=True)\n",
       "          )\n",
       "          (output): BertOutput(\n",
       "            (dense): Linear(in_features=3072, out_features=768, bias=True)\n",
       "            (LayerNorm): LayerNorm((768,), eps=1e-12, elementwise_affine=True)\n",
       "            (dropout): Dropout(p=0.1, inplace=False)\n",
       "          )\n",
       "        )\n",
       "        (8): BertLayer(\n",
       "          (attention): BertAttention(\n",
       "            (self): BertSelfAttention(\n",
       "              (query): Linear(in_features=768, out_features=768, bias=True)\n",
       "              (key): Linear(in_features=768, out_features=768, bias=True)\n",
       "              (value): Linear(in_features=768, out_features=768, bias=True)\n",
       "              (dropout): Dropout(p=0.1, inplace=False)\n",
       "            )\n",
       "            (output): BertSelfOutput(\n",
       "              (dense): Linear(in_features=768, out_features=768, bias=True)\n",
       "              (LayerNorm): LayerNorm((768,), eps=1e-12, elementwise_affine=True)\n",
       "              (dropout): Dropout(p=0.1, inplace=False)\n",
       "            )\n",
       "          )\n",
       "          (intermediate): BertIntermediate(\n",
       "            (dense): Linear(in_features=768, out_features=3072, bias=True)\n",
       "          )\n",
       "          (output): BertOutput(\n",
       "            (dense): Linear(in_features=3072, out_features=768, bias=True)\n",
       "            (LayerNorm): LayerNorm((768,), eps=1e-12, elementwise_affine=True)\n",
       "            (dropout): Dropout(p=0.1, inplace=False)\n",
       "          )\n",
       "        )\n",
       "        (9): BertLayer(\n",
       "          (attention): BertAttention(\n",
       "            (self): BertSelfAttention(\n",
       "              (query): Linear(in_features=768, out_features=768, bias=True)\n",
       "              (key): Linear(in_features=768, out_features=768, bias=True)\n",
       "              (value): Linear(in_features=768, out_features=768, bias=True)\n",
       "              (dropout): Dropout(p=0.1, inplace=False)\n",
       "            )\n",
       "            (output): BertSelfOutput(\n",
       "              (dense): Linear(in_features=768, out_features=768, bias=True)\n",
       "              (LayerNorm): LayerNorm((768,), eps=1e-12, elementwise_affine=True)\n",
       "              (dropout): Dropout(p=0.1, inplace=False)\n",
       "            )\n",
       "          )\n",
       "          (intermediate): BertIntermediate(\n",
       "            (dense): Linear(in_features=768, out_features=3072, bias=True)\n",
       "          )\n",
       "          (output): BertOutput(\n",
       "            (dense): Linear(in_features=3072, out_features=768, bias=True)\n",
       "            (LayerNorm): LayerNorm((768,), eps=1e-12, elementwise_affine=True)\n",
       "            (dropout): Dropout(p=0.1, inplace=False)\n",
       "          )\n",
       "        )\n",
       "        (10): BertLayer(\n",
       "          (attention): BertAttention(\n",
       "            (self): BertSelfAttention(\n",
       "              (query): Linear(in_features=768, out_features=768, bias=True)\n",
       "              (key): Linear(in_features=768, out_features=768, bias=True)\n",
       "              (value): Linear(in_features=768, out_features=768, bias=True)\n",
       "              (dropout): Dropout(p=0.1, inplace=False)\n",
       "            )\n",
       "            (output): BertSelfOutput(\n",
       "              (dense): Linear(in_features=768, out_features=768, bias=True)\n",
       "              (LayerNorm): LayerNorm((768,), eps=1e-12, elementwise_affine=True)\n",
       "              (dropout): Dropout(p=0.1, inplace=False)\n",
       "            )\n",
       "          )\n",
       "          (intermediate): BertIntermediate(\n",
       "            (dense): Linear(in_features=768, out_features=3072, bias=True)\n",
       "          )\n",
       "          (output): BertOutput(\n",
       "            (dense): Linear(in_features=3072, out_features=768, bias=True)\n",
       "            (LayerNorm): LayerNorm((768,), eps=1e-12, elementwise_affine=True)\n",
       "            (dropout): Dropout(p=0.1, inplace=False)\n",
       "          )\n",
       "        )\n",
       "        (11): BertLayer(\n",
       "          (attention): BertAttention(\n",
       "            (self): BertSelfAttention(\n",
       "              (query): Linear(in_features=768, out_features=768, bias=True)\n",
       "              (key): Linear(in_features=768, out_features=768, bias=True)\n",
       "              (value): Linear(in_features=768, out_features=768, bias=True)\n",
       "              (dropout): Dropout(p=0.1, inplace=False)\n",
       "            )\n",
       "            (output): BertSelfOutput(\n",
       "              (dense): Linear(in_features=768, out_features=768, bias=True)\n",
       "              (LayerNorm): LayerNorm((768,), eps=1e-12, elementwise_affine=True)\n",
       "              (dropout): Dropout(p=0.1, inplace=False)\n",
       "            )\n",
       "          )\n",
       "          (intermediate): BertIntermediate(\n",
       "            (dense): Linear(in_features=768, out_features=3072, bias=True)\n",
       "          )\n",
       "          (output): BertOutput(\n",
       "            (dense): Linear(in_features=3072, out_features=768, bias=True)\n",
       "            (LayerNorm): LayerNorm((768,), eps=1e-12, elementwise_affine=True)\n",
       "            (dropout): Dropout(p=0.1, inplace=False)\n",
       "          )\n",
       "        )\n",
       "      )\n",
       "    )\n",
       "    (pooler): BertPooler(\n",
       "      (dense): Linear(in_features=768, out_features=768, bias=True)\n",
       "      (activation): Tanh()\n",
       "    )\n",
       "  )\n",
       "  (dropout): Dropout(p=0.1, inplace=False)\n",
       "  (classifier): Linear(in_features=768, out_features=3, bias=True)\n",
       ")"
      ]
     },
     "execution_count": 21,
     "metadata": {
      "tags": []
     },
     "output_type": "execute_result"
    }
   ],
   "source": [
    "model.cuda()"
   ]
  },
  {
   "cell_type": "markdown",
   "metadata": {
    "colab_type": "text",
    "id": "W9zbq736uGKl"
   },
   "source": [
    "Before going into the fine-tuning process, we have to take care of a few more details, namely: \n",
    "- loss function \n",
    "- optimization algorithm \n",
    "- scheduler\n",
    "\n",
    "The choice of loss function is straightforward; since the problem is one of classification, we can simply use the accuracy of predictions as a loss function: "
   ]
  },
  {
   "cell_type": "code",
   "execution_count": 0,
   "metadata": {
    "colab": {},
    "colab_type": "code",
    "id": "uQXZe8giuGKm"
   },
   "outputs": [],
   "source": [
    "def flat_accuracy(logits, labels):\n",
    "  # let prediction be the logit with highest value \n",
    "  pred_flat = np.argmax(logits, axis=1).flatten()\n",
    "  labels_flat = labels.flatten()\n",
    "  return np.sum(pred_flat == labels_flat) / len(labels_flat)"
   ]
  },
  {
   "cell_type": "markdown",
   "metadata": {
    "colab_type": "text",
    "id": "o62o0uuauGKs"
   },
   "source": [
    "Next, we choose an optimization algorithm, which are meant to help in minimizing the loss function. There are many good algorithms to choose from, but for this project, we opt for a variant of the well-known Adam optimization algorithm that is known to be suitable for fine-tuning models:  "
   ]
  },
  {
   "cell_type": "code",
   "execution_count": 0,
   "metadata": {
    "colab": {},
    "colab_type": "code",
    "id": "v9FHIZkMuGKs"
   },
   "outputs": [],
   "source": [
    "optimizer = AdamW(\n",
    "    model.parameters(), lr=2e-5, eps=1e-8\n",
    ") "
   ]
  },
  {
   "cell_type": "markdown",
   "metadata": {
    "colab_type": "text",
    "id": "Jpt4nInfuGKx"
   },
   "source": [
    "For the scheduler, we choose a linear schedule with warmup steps. The idea is that initial steps should be large because it is unlikely that we start near the minima, but as time goes on and we approach the minima, the steps taken should be smaller so that we can converge towards it. \n",
    "\n",
    "As recommended by the authors of Bert, the number of epochs is set to 3. (It turns out that even just 3 epochs results in overfitting of the model, and ultimately we will only fine-tune over 2 epochs.)"
   ]
  },
  {
   "cell_type": "code",
   "execution_count": 0,
   "metadata": {
    "colab": {},
    "colab_type": "code",
    "id": "JeBHXpZ5uGKz"
   },
   "outputs": [],
   "source": [
    "n_epochs = 3\n",
    "total_steps = len(train_dataloader) * n_epochs\n",
    "\n",
    "scheduler = get_linear_schedule_with_warmup(\n",
    "    optimizer, num_warmup_steps=0, num_training_steps=total_steps\n",
    ")"
   ]
  },
  {
   "cell_type": "markdown",
   "metadata": {
    "colab_type": "text",
    "id": "Qmm3849QuGK8"
   },
   "source": [
    "We are finally ready for fine-tuning the DistilBert model on our dataset! This involves: \n",
    "- letting the model train on the train set; \n",
    "- evaluating the model on the validation set;\n",
    "- repeating the above for 2 more epochs"
   ]
  },
  {
   "cell_type": "code",
   "execution_count": 0,
   "metadata": {
    "colab": {},
    "colab_type": "code",
    "id": "TPOhC_iKuGK9"
   },
   "outputs": [],
   "source": [
    "# for nicer formatting\n",
    "def format_time(elapsed):\n",
    "  elapsed_rounded = int(round(elapsed)) \n",
    "  return str(datetime.timedelta(seconds=elapsed_rounded))\n",
    "\n",
    "# for reproducibility purposes \n",
    "random.seed(seed)\n",
    "np.random.seed(seed)\n",
    "torch.manual_seed(seed)\n",
    "torch.cuda.manual_seed_all(seed)"
   ]
  },
  {
   "cell_type": "code",
   "execution_count": 26,
   "metadata": {
    "colab": {
     "base_uri": "https://localhost:8080/",
     "height": 952
    },
    "colab_type": "code",
    "id": "K7VS323iuGLA",
    "outputId": "dafa1697-0efd-47e8-e0b7-1fea6e7a79b1"
   },
   "outputs": [
    {
     "name": "stdout",
     "output_type": "stream",
     "text": [
      "\n",
      "=============== Epoch 1 / 3 ===============\n",
      "Training...\n"
     ]
    },
    {
     "name": "stderr",
     "output_type": "stream",
     "text": [
      "/pytorch/torch/csrc/utils/python_arg_parser.cpp:756: UserWarning: This overload of add_ is deprecated:\n",
      "\tadd_(Number alpha, Tensor other)\n",
      "Consider using one of the following signatures instead:\n",
      "\tadd_(Tensor other, *, Number alpha)\n"
     ]
    },
    {
     "name": "stdout",
     "output_type": "stream",
     "text": [
      "  batch   100 of   516;    elapsed: 0:02:02\n",
      "  batch   200 of   516;    elapsed: 0:04:02\n",
      "  batch   300 of   516;    elapsed: 0:06:02\n",
      "  batch   400 of   516;    elapsed: 0:08:01\n",
      "  batch   500 of   516;    elapsed: 0:10:01\n",
      "\n",
      "  average training loss: 0.63\n",
      "  time taken for training: 0:10:19\n",
      "\n",
      "Running validation...\n",
      "  accuracy: 0.78\n",
      "  validation loss: 0.55\n",
      "  time taken for validation: 0:01:14\n",
      "\n",
      "=============== Epoch 2 / 3 ===============\n",
      "Training...\n",
      "  batch   100 of   516;    elapsed: 0:02:01\n",
      "  batch   200 of   516;    elapsed: 0:04:01\n",
      "  batch   300 of   516;    elapsed: 0:06:01\n",
      "  batch   400 of   516;    elapsed: 0:08:01\n",
      "  batch   500 of   516;    elapsed: 0:10:00\n",
      "\n",
      "  average training loss: 0.43\n",
      "  time taken for training: 0:10:18\n",
      "\n",
      "Running validation...\n",
      "  accuracy: 0.78\n",
      "  validation loss: 0.56\n",
      "  time taken for validation: 0:01:14\n",
      "\n",
      "=============== Epoch 3 / 3 ===============\n",
      "Training...\n",
      "  batch   100 of   516;    elapsed: 0:02:01\n",
      "  batch   200 of   516;    elapsed: 0:04:01\n",
      "  batch   300 of   516;    elapsed: 0:06:01\n",
      "  batch   400 of   516;    elapsed: 0:08:01\n",
      "  batch   500 of   516;    elapsed: 0:10:01\n",
      "\n",
      "  average training loss: 0.33\n",
      "  time taken for training: 0:10:18\n",
      "\n",
      "Running validation...\n",
      "  accuracy: 0.78\n",
      "  validation loss: 0.59\n",
      "  time taken for validation: 0:01:14\n",
      "\n",
      "Training is complete.\n",
      "Training time: 0:34:35\n"
     ]
    }
   ],
   "source": [
    "# main training loop \n",
    "training_stats = [] \n",
    "total_t0 = time.time()\n",
    "\n",
    "for epoch_i in range(0, n_epochs): \n",
    "  print(\"\")\n",
    "  print(\"=============== Epoch {:} / {:} ===============\".format(epoch_i+1, n_epochs))\n",
    "  print(\"Training...\")\n",
    "\n",
    "  t0 = time.time()\n",
    "  total_train_loss = 0\n",
    "\n",
    "  # put model in training mode \n",
    "  model.train() \n",
    "  \n",
    "  for step, batch in enumerate(train_dataloader):\n",
    "    # unpack input and labels \n",
    "    b_input_ids  = batch[0].to(device)\n",
    "    b_input_mask = batch[1].to(device)\n",
    "    b_labels     = batch[2].to(device)\n",
    "\n",
    "    # clear previously calculated gradients - must be done before backward pass! \n",
    "    model.zero_grad()\n",
    "\n",
    "    # forward pass to evaluate model on this batch \n",
    "    loss, logits = model(\n",
    "        input_ids      = b_input_ids, \n",
    "        attention_mask = b_input_mask, \n",
    "        labels         = b_labels.long() \n",
    "    ) \n",
    "\n",
    "    # increment by this batch's training loss \n",
    "    total_train_loss += loss.item() \n",
    "\n",
    "    # backward pass to calculate gradients \n",
    "    loss.backward() \n",
    "\n",
    "    # limit gradients to 1.0 to avoid infinite gradients \n",
    "    torch.nn.utils.clip_grad_norm_(model.parameters(), 1.0)\n",
    "\n",
    "    # update parameters (according to optimizer) \n",
    "    optimizer.step() \n",
    "    \n",
    "    # update learning rate (according to scheduler)\n",
    "    scheduler.step() \n",
    "\n",
    "    # print training progress every 100 batches \n",
    "    if step % 100 == 0 and not step == 0:\n",
    "      elapsed = format_time(time.time() - t0)\n",
    "      print(\"  batch {:>5,} of {:>5,};    elapsed: {:}\".format(step, len(train_dataloader), elapsed))\n",
    "\n",
    "  # average training loss for this epoch \n",
    "  avg_train_loss = total_train_loss / len(train_dataloader)\n",
    "  \n",
    "  # time taken for training in this epoch\n",
    "  training_time = format_time(time.time() - t0)\n",
    "\n",
    "  print(\"\")\n",
    "  print(\"  average training loss: {0:.2f}\".format(avg_train_loss))\n",
    "  print(\"  time taken for training: {:}\".format(training_time))\n",
    "\n",
    "  print(\"\")\n",
    "  print(\"Running validation...\")\n",
    "\n",
    "  t0 = time.time() \n",
    "  total_eval_accuracy = 0\n",
    "  total_eval_loss = 0 \n",
    "  nb_eval_steps = 0 \n",
    "\n",
    "  # put model in evaluation mode\n",
    "  model.eval()\n",
    "\n",
    "  for batch in valid_dataloader: \n",
    "    # unpack input and labels \n",
    "    b_input_ids  = batch[0].to(device)\n",
    "    b_input_mask = batch[1].to(device)\n",
    "    b_labels     = batch[2].to(device).long()\n",
    "\n",
    "    # disable gradient calculation, since there are no backward passes \n",
    "    with torch.no_grad(): \n",
    "      # forward pass to evaluate model on this batch \n",
    "      loss, logits = model(\n",
    "          b_input_ids, attention_mask=b_input_mask, labels=b_labels\n",
    "      ) \n",
    "    \n",
    "    # increment by this batch's validation loss \n",
    "    total_eval_loss += loss.item()\n",
    "\n",
    "    # move logits and labels to cpu \n",
    "    logits = logits.detach().cpu().numpy()\n",
    "    label_ids = b_labels.to(\"cpu\").numpy()\n",
    "\n",
    "    total_eval_accuracy += flat_accuracy(logits, label_ids)\n",
    "\n",
    "  # average validation statistics for this epoch\n",
    "  avg_val_accuracy = total_eval_accuracy / len(valid_dataloader)\n",
    "  avg_val_loss = total_eval_loss / len(valid_dataloader)\n",
    "  valid_time = format_time(time.time() - t0)\n",
    "  print(\"  accuracy: {0:.2f}\".format(avg_val_accuracy))\n",
    "  print(\"  validation loss: {0:.2f}\".format(avg_val_loss))\n",
    "  print(\"  time taken for validation: {:}\".format(valid_time))\n",
    "  \n",
    "  valid_time = format_time(time.time() - t0)\n",
    "\n",
    "  # record this epoch's train/validation statistics\n",
    "  training_stats.append(\n",
    "      {\n",
    "          \"epoch\": epoch_i+1, \n",
    "          \"training loss\": avg_train_loss, \n",
    "          \"valid. loss\": avg_val_loss, \n",
    "          \"valid. accuracy\": avg_val_accuracy, \n",
    "          \"training time\": training_time, \n",
    "          \"valid. time\": valid_time\n",
    "      }\n",
    "  )\n",
    "\n",
    "print(\"\")\n",
    "print(\"Training is complete.\")\n",
    "print(\"Training time: {:}\".format(format_time(time.time() - total_t0)))"
   ]
  },
  {
   "cell_type": "markdown",
   "metadata": {
    "colab_type": "text",
    "id": "K3UZRuMIEs-_"
   },
   "source": [
    "Let us visualise the training and validation information:"
   ]
  },
  {
   "cell_type": "code",
   "execution_count": 27,
   "metadata": {
    "colab": {
     "base_uri": "https://localhost:8080/",
     "height": 173
    },
    "colab_type": "code",
    "id": "vLAxwl8BuGLK",
    "outputId": "55ea0a8d-489b-4d36-cd56-5ebab1a31076"
   },
   "outputs": [
    {
     "data": {
      "text/html": [
       "<div>\n",
       "<style scoped>\n",
       "    .dataframe tbody tr th:only-of-type {\n",
       "        vertical-align: middle;\n",
       "    }\n",
       "\n",
       "    .dataframe tbody tr th {\n",
       "        vertical-align: top;\n",
       "    }\n",
       "\n",
       "    .dataframe thead th {\n",
       "        text-align: right;\n",
       "    }\n",
       "</style>\n",
       "<table border=\"1\" class=\"dataframe\">\n",
       "  <thead>\n",
       "    <tr style=\"text-align: right;\">\n",
       "      <th></th>\n",
       "      <th>training loss</th>\n",
       "      <th>valid. loss</th>\n",
       "      <th>valid. accuracy</th>\n",
       "      <th>training time</th>\n",
       "      <th>valid. time</th>\n",
       "    </tr>\n",
       "    <tr>\n",
       "      <th>epoch</th>\n",
       "      <th></th>\n",
       "      <th></th>\n",
       "      <th></th>\n",
       "      <th></th>\n",
       "      <th></th>\n",
       "    </tr>\n",
       "  </thead>\n",
       "  <tbody>\n",
       "    <tr>\n",
       "      <th>1</th>\n",
       "      <td>0.63</td>\n",
       "      <td>0.55</td>\n",
       "      <td>0.78</td>\n",
       "      <td>0:10:19</td>\n",
       "      <td>0:01:14</td>\n",
       "    </tr>\n",
       "    <tr>\n",
       "      <th>2</th>\n",
       "      <td>0.43</td>\n",
       "      <td>0.56</td>\n",
       "      <td>0.78</td>\n",
       "      <td>0:10:18</td>\n",
       "      <td>0:01:14</td>\n",
       "    </tr>\n",
       "    <tr>\n",
       "      <th>3</th>\n",
       "      <td>0.33</td>\n",
       "      <td>0.59</td>\n",
       "      <td>0.78</td>\n",
       "      <td>0:10:18</td>\n",
       "      <td>0:01:14</td>\n",
       "    </tr>\n",
       "  </tbody>\n",
       "</table>\n",
       "</div>"
      ],
      "text/plain": [
       "       training loss  valid. loss  valid. accuracy training time valid. time\n",
       "epoch                                                                       \n",
       "1               0.63         0.55             0.78       0:10:19     0:01:14\n",
       "2               0.43         0.56             0.78       0:10:18     0:01:14\n",
       "3               0.33         0.59             0.78       0:10:18     0:01:14"
      ]
     },
     "execution_count": 27,
     "metadata": {
      "tags": []
     },
     "output_type": "execute_result"
    }
   ],
   "source": [
    "pd.set_option(\"precision\", 2)\n",
    "training_stats = pd.DataFrame(data=training_stats)\n",
    "training_stats = training_stats.set_index(\"epoch\")\n",
    "\n",
    "training_stats"
   ]
  },
  {
   "cell_type": "code",
   "execution_count": 28,
   "metadata": {
    "colab": {
     "base_uri": "https://localhost:8080/",
     "height": 1000
    },
    "colab_type": "code",
    "id": "GO7kqF1euGLO",
    "outputId": "1f4de2f1-08e1-49df-f66c-f81cc05c3f87"
   },
   "outputs": [
    {
     "data": {
      "text/plain": [
       "<matplotlib.legend.Legend at 0x7fe4301eb208>"
      ]
     },
     "execution_count": 28,
     "metadata": {
      "tags": []
     },
     "output_type": "execute_result"
    },
    {
     "data": {
      "image/png": "[encoded data removed]",
      "text/plain": [
       "<Figure size 3600x2160 with 1 Axes>"
      ]
     },
     "metadata": {
      "tags": []
     },
     "output_type": "display_data"
    }
   ],
   "source": [
    "% matplotlib inline\n",
    "\n",
    "sns.set(style=\"darkgrid\")\n",
    "plt.figure(figsize=(50, 30))\n",
    "\n",
    "plt.plot(training_stats[\"training loss\"], \"b-o\", label=\"training\")\n",
    "plt.plot(training_stats[\"valid. loss\"], \"g-o\", label=\"validation\")\n",
    "\n",
    "plt.title(\"Training & Validation loss\")\n",
    "plt.xlabel(\"epoch\")\n",
    "plt.xticks(range(1,n_epochs+1))\n",
    "plt.ylabel(\"loss\")\n",
    "plt.legend()"
   ]
  },
  {
   "cell_type": "markdown",
   "metadata": {
    "colab_type": "text",
    "id": "ET6eLl24GKM1"
   },
   "source": [
    "Observe how there is an increase in validation loss from the very start. This indicates that the classifier starts to overfit to the training set after the first epoch. \n",
    "\n",
    "Below, we repeat the fine-tuning process with a new instance of the pretrained BERT model, but this time with only first epoch. \n",
    "\n",
    "Note: a better way to go about this would be to implement early-stopping in the training loop, so as to avoid spending too much time on re-training. "
   ]
  },
  {
   "cell_type": "code",
   "execution_count": 30,
   "metadata": {
    "colab": {
     "base_uri": "https://localhost:8080/",
     "height": 340
    },
    "colab_type": "code",
    "id": "hCi8HntxuGLU",
    "outputId": "6eadc909-295b-4c76-8b1a-ca6586aa6bca"
   },
   "outputs": [
    {
     "name": "stdout",
     "output_type": "stream",
     "text": [
      "\n",
      "=============== Epoch 1 / 1 ===============\n",
      "Training...\n",
      "  batch   100 of   516;    elapsed: 0:02:02\n",
      "  batch   200 of   516;    elapsed: 0:04:01\n",
      "  batch   300 of   516;    elapsed: 0:06:01\n",
      "  batch   400 of   516;    elapsed: 0:08:01\n",
      "  batch   500 of   516;    elapsed: 0:10:01\n",
      "\n",
      "  average training loss: 0.64\n",
      "  time taken for training: 0:10:18\n",
      "\n",
      "Running validation...\n",
      "  accuracy: 0.77\n",
      "  validation loss: 0.55\n",
      "  time taken for validation: 0:01:14\n",
      "\n",
      "Training is complete.\n",
      "Training time: 0:11:32\n"
     ]
    }
   ],
   "source": [
    "# load pretrained model \n",
    "model = BertForSequenceClassification.from_pretrained(\n",
    "    \"bert-base-uncased\", num_labels=3, output_attentions=False, output_hidden_states=False\n",
    ")\n",
    "\n",
    "# put model on cuda\n",
    "model.cuda()\n",
    "\n",
    "# optimizer \n",
    "optimizer = AdamW(\n",
    "    model.parameters(), lr=2e-5, eps=1e-8\n",
    ") \n",
    "\n",
    "# scheduler\n",
    "n_epochs = 1\n",
    "total_steps = len(train_dataloader) * n_epochs\n",
    "\n",
    "scheduler = get_linear_schedule_with_warmup(\n",
    "    optimizer, num_warmup_steps=0, num_training_steps=total_steps\n",
    ")\n",
    "\n",
    "# main training loop \n",
    "training_stats = []\n",
    "total_t0 = time.time()\n",
    "\n",
    "for epoch_i in range(0, n_epochs): \n",
    "  print(\"\")\n",
    "  print(\"=============== Epoch {:} / {:} ===============\".format(epoch_i+1, n_epochs))\n",
    "  print(\"Training...\")\n",
    "\n",
    "  t0 = time.time()\n",
    "  total_train_loss = 0\n",
    "\n",
    "  # put model in training mode \n",
    "  model.train() \n",
    "  \n",
    "  for step, batch in enumerate(train_dataloader):\n",
    "    # unpack input and labels \n",
    "    b_input_ids  = batch[0].to(device)\n",
    "    b_input_mask = batch[1].to(device)\n",
    "    b_labels     = batch[2].to(device)\n",
    "\n",
    "    # clear previously calculated gradients - must be done before backward pass! \n",
    "    model.zero_grad()\n",
    "\n",
    "    # forward pass to evaluate model on this batch \n",
    "    loss, logits = model(\n",
    "        input_ids      = b_input_ids, \n",
    "        attention_mask = b_input_mask, \n",
    "        labels         = b_labels.long() \n",
    "    ) \n",
    "\n",
    "    # increment by this batch's training loss \n",
    "    total_train_loss += loss.item() \n",
    "\n",
    "    # backward pass to calculate gradients \n",
    "    loss.backward() \n",
    "\n",
    "    # limit gradients to 1.0 to avoid infinite gradients \n",
    "    torch.nn.utils.clip_grad_norm_(model.parameters(), 1.0)\n",
    "\n",
    "    # update parameters (according to optimizer) \n",
    "    optimizer.step() \n",
    "    \n",
    "    # update learning rate (according to scheduler)\n",
    "    scheduler.step() \n",
    "\n",
    "    # print training progress every 100 batches \n",
    "    if step % 100 == 0 and not step == 0:\n",
    "      elapsed = format_time(time.time() - t0)\n",
    "      print(\"  batch {:>5,} of {:>5,};    elapsed: {:}\".format(step, len(train_dataloader), elapsed))\n",
    "\n",
    "  # average training loss for this epoch \n",
    "  avg_train_loss = total_train_loss / len(train_dataloader)\n",
    "  \n",
    "  # time taken for training in this epoch\n",
    "  training_time = format_time(time.time() - t0)\n",
    "\n",
    "  print(\"\")\n",
    "  print(\"  average training loss: {0:.2f}\".format(avg_train_loss))\n",
    "  print(\"  time taken for training: {:}\".format(training_time))\n",
    "\n",
    "  print(\"\")\n",
    "  print(\"Running validation...\")\n",
    "\n",
    "  t0 = time.time() \n",
    "  total_eval_accuracy = 0\n",
    "  total_eval_loss = 0 \n",
    "  nb_eval_steps = 0 \n",
    "\n",
    "  # put model in evaluation mode\n",
    "  model.eval()\n",
    "\n",
    "  for batch in valid_dataloader: \n",
    "    # unpack input and labels \n",
    "    b_input_ids  = batch[0].to(device)\n",
    "    b_input_mask = batch[1].to(device)\n",
    "    b_labels     = batch[2].to(device).long()\n",
    "\n",
    "    # disable gradient calculation, since there are no backward passes \n",
    "    with torch.no_grad(): \n",
    "      # forward pass to evaluate model on this batch \n",
    "      loss, logits = model(\n",
    "          b_input_ids, attention_mask=b_input_mask, labels=b_labels\n",
    "      ) \n",
    "    \n",
    "    # increment by this batch's validation loss \n",
    "    total_eval_loss += loss.item()\n",
    "\n",
    "    # move logits and labels to cpu \n",
    "    logits = logits.detach().cpu().numpy()\n",
    "    label_ids = b_labels.to(\"cpu\").numpy()\n",
    "\n",
    "    total_eval_accuracy += flat_accuracy(logits, label_ids)\n",
    "\n",
    "  # average validation statistics for this epoch\n",
    "  avg_val_accuracy = total_eval_accuracy / len(valid_dataloader)\n",
    "  avg_val_loss = total_eval_loss / len(valid_dataloader)\n",
    "  valid_time = format_time(time.time() - t0)\n",
    "  print(\"  accuracy: {0:.2f}\".format(avg_val_accuracy))\n",
    "  print(\"  validation loss: {0:.2f}\".format(avg_val_loss))\n",
    "  print(\"  time taken for validation: {:}\".format(valid_time))\n",
    "  \n",
    "  valid_time = format_time(time.time() - t0)\n",
    "\n",
    "  # record this epoch's train/validation statistics\n",
    "  training_stats.append(\n",
    "      {\n",
    "          \"epoch\": epoch_i+1, \n",
    "          \"training loss\": avg_train_loss, \n",
    "          \"valid. loss\": avg_val_loss, \n",
    "          \"valid. accuracy\": avg_val_accuracy, \n",
    "          \"training time\": training_time, \n",
    "          \"valid. time\": valid_time\n",
    "      }\n",
    "  )\n",
    "\n",
    "print(\"\")\n",
    "print(\"Training is complete.\")\n",
    "print(\"Training time: {:}\".format(format_time(time.time() - total_t0)))"
   ]
  },
  {
   "cell_type": "markdown",
   "metadata": {
    "colab_type": "text",
    "id": "aQgzkAyQN2Bt"
   },
   "source": [
    "## 5. Testing the BERT classifier\n",
    "\n",
    "To truly understand the performance of our classifier, it is important to test it on data it has not seen. Here we make use of the earlier-defined `test_dataloader` to evaluate how accurate the classifier is. "
   ]
  },
  {
   "cell_type": "code",
   "execution_count": 31,
   "metadata": {
    "colab": {
     "base_uri": "https://localhost:8080/",
     "height": 34
    },
    "colab_type": "code",
    "id": "v16RSfVbuGLc",
    "outputId": "203794c8-0e8c-4c94-8f95-9ae1d5d930bb"
   },
   "outputs": [
    {
     "name": "stdout",
     "output_type": "stream",
     "text": [
      "  test accuracy: 0.7839825581395349\n"
     ]
    }
   ],
   "source": [
    "predictions = [] \n",
    "total_test_accuracy = 0\n",
    "\n",
    "model.eval() \n",
    "\n",
    "for batch in test_dataloader:  \n",
    "  b_input_ids  = batch[0].to(device)\n",
    "  b_input_mask = batch[1].to(device)\n",
    "  b_labels     = batch[2].to(device).long()\n",
    "\n",
    "  with torch.no_grad():\n",
    "    output = model(\n",
    "        b_input_ids, attention_mask=b_input_mask\n",
    "    )\n",
    "\n",
    "  logits = output[0]\n",
    "  logits = logits.detach().cpu().numpy()\n",
    "  label_ids = b_labels.to(\"cpu\").numpy()\n",
    "\n",
    "  predictions.append(logits)\n",
    "  total_test_accuracy += flat_accuracy(logits, label_ids)\n",
    "\n",
    "avg_test_accuracy = total_test_accuracy / len(test_dataloader)\n",
    "print(\"  test accuracy: {:}\".format(avg_test_accuracy))"
   ]
  }
 ],
 "metadata": {
  "accelerator": "GPU",
  "colab": {
   "collapsed_sections": [],
   "name": "Bert_SequenceClassification.ipynb",
   "provenance": []
  },
  "kernelspec": {
   "display_name": "Python 3",
   "language": "python",
   "name": "python3"
  },
  "language_info": {
   "codemirror_mode": {
    "name": "ipython",
    "version": 3
   },
   "file_extension": ".py",
   "mimetype": "text/x-python",
   "name": "python",
   "nbconvert_exporter": "python",
   "pygments_lexer": "ipython3",
   "version": "3.7.6"
  },
  "widgets": {
   "application/vnd.jupyter.widget-state+json": {
    "09cc0c7d653948e691fff5cfd4d163a5": {
     "model_module": "@jupyter-widgets/controls",
     "model_name": "HBoxModel",
     "state": {
      "_dom_classes": [],
      "_model_module": "@jupyter-widgets/controls",
      "_model_module_version": "1.5.0",
      "_model_name": "HBoxModel",
      "_view_count": null,
      "_view_module": "@jupyter-widgets/controls",
      "_view_module_version": "1.5.0",
      "_view_name": "HBoxView",
      "box_style": "",
      "children": [
       "IPY_MODEL_3c8daaccd1824cdea19a160b5fb8be2a",
       "IPY_MODEL_b0df46abb0b842aaab24ac2624f523a7"
      ],
      "layout": "IPY_MODEL_704303219afc4fea8200367dd4cd7093"
     }
    },
    "0ce60001dbc043f185b128499811cbf8": {
     "model_module": "@jupyter-widgets/controls",
     "model_name": "HTMLModel",
     "state": {
      "_dom_classes": [],
      "_model_module": "@jupyter-widgets/controls",
      "_model_module_version": "1.5.0",
      "_model_name": "HTMLModel",
      "_view_count": null,
      "_view_module": "@jupyter-widgets/controls",
      "_view_module_version": "1.5.0",
      "_view_name": "HTMLView",
      "description": "",
      "description_tooltip": null,
      "layout": "IPY_MODEL_155b28fd169e4d78bf26f1d718644164",
      "placeholder": "​",
      "style": "IPY_MODEL_4f914a08b6df4766a83d6c7422c107bf",
      "value": " 433/433 [00:40&lt;00:00, 10.8B/s]"
     }
    },
    "0def5b005110401fb73632d134ff46fe": {
     "model_module": "@jupyter-widgets/controls",
     "model_name": "DescriptionStyleModel",
     "state": {
      "_model_module": "@jupyter-widgets/controls",
      "_model_module_version": "1.5.0",
      "_model_name": "DescriptionStyleModel",
      "_view_count": null,
      "_view_module": "@jupyter-widgets/base",
      "_view_module_version": "1.2.0",
      "_view_name": "StyleView",
      "description_width": ""
     }
    },
    "0f76d87a70a14ae8931c2ba75cc5c7c2": {
     "model_module": "@jupyter-widgets/controls",
     "model_name": "ProgressStyleModel",
     "state": {
      "_model_module": "@jupyter-widgets/controls",
      "_model_module_version": "1.5.0",
      "_model_name": "ProgressStyleModel",
      "_view_count": null,
      "_view_module": "@jupyter-widgets/base",
      "_view_module_version": "1.2.0",
      "_view_name": "StyleView",
      "bar_color": null,
      "description_width": "initial"
     }
    },
    "155b28fd169e4d78bf26f1d718644164": {
     "model_module": "@jupyter-widgets/base",
     "model_name": "LayoutModel",
     "state": {
      "_model_module": "@jupyter-widgets/base",
      "_model_module_version": "1.2.0",
      "_model_name": "LayoutModel",
      "_view_count": null,
      "_view_module": "@jupyter-widgets/base",
      "_view_module_version": "1.2.0",
      "_view_name": "LayoutView",
      "align_content": null,
      "align_items": null,
      "align_self": null,
      "border": null,
      "bottom": null,
      "display": null,
      "flex": null,
      "flex_flow": null,
      "grid_area": null,
      "grid_auto_columns": null,
      "grid_auto_flow": null,
      "grid_auto_rows": null,
      "grid_column": null,
      "grid_gap": null,
      "grid_row": null,
      "grid_template_areas": null,
      "grid_template_columns": null,
      "grid_template_rows": null,
      "height": null,
      "justify_content": null,
      "justify_items": null,
      "left": null,
      "margin": null,
      "max_height": null,
      "max_width": null,
      "min_height": null,
      "min_width": null,
      "object_fit": null,
      "object_position": null,
      "order": null,
      "overflow": null,
      "overflow_x": null,
      "overflow_y": null,
      "padding": null,
      "right": null,
      "top": null,
      "visibility": null,
      "width": null
     }
    },
    "2018ccb0b5714fa89a2073059cbf3796": {
     "model_module": "@jupyter-widgets/controls",
     "model_name": "DescriptionStyleModel",
     "state": {
      "_model_module": "@jupyter-widgets/controls",
      "_model_module_version": "1.5.0",
      "_model_name": "DescriptionStyleModel",
      "_view_count": null,
      "_view_module": "@jupyter-widgets/base",
      "_view_module_version": "1.2.0",
      "_view_name": "StyleView",
      "description_width": ""
     }
    },
    "2b55a7f7f9ba4b4db859e14f7c1192e4": {
     "model_module": "@jupyter-widgets/controls",
     "model_name": "HBoxModel",
     "state": {
      "_dom_classes": [],
      "_model_module": "@jupyter-widgets/controls",
      "_model_module_version": "1.5.0",
      "_model_name": "HBoxModel",
      "_view_count": null,
      "_view_module": "@jupyter-widgets/controls",
      "_view_module_version": "1.5.0",
      "_view_name": "HBoxView",
      "box_style": "",
      "children": [
       "IPY_MODEL_3bc2253b09a044a59e982bfa257fc103",
       "IPY_MODEL_7589fcba897c462ba2792aa196650e1b"
      ],
      "layout": "IPY_MODEL_7c3c9f247bdd4c09afd51f6c3453e612"
     }
    },
    "30cadd7eb89f421684d2ea3a3c37069f": {
     "model_module": "@jupyter-widgets/base",
     "model_name": "LayoutModel",
     "state": {
      "_model_module": "@jupyter-widgets/base",
      "_model_module_version": "1.2.0",
      "_model_name": "LayoutModel",
      "_view_count": null,
      "_view_module": "@jupyter-widgets/base",
      "_view_module_version": "1.2.0",
      "_view_name": "LayoutView",
      "align_content": null,
      "align_items": null,
      "align_self": null,
      "border": null,
      "bottom": null,
      "display": null,
      "flex": null,
      "flex_flow": null,
      "grid_area": null,
      "grid_auto_columns": null,
      "grid_auto_flow": null,
      "grid_auto_rows": null,
      "grid_column": null,
      "grid_gap": null,
      "grid_row": null,
      "grid_template_areas": null,
      "grid_template_columns": null,
      "grid_template_rows": null,
      "height": null,
      "justify_content": null,
      "justify_items": null,
      "left": null,
      "margin": null,
      "max_height": null,
      "max_width": null,
      "min_height": null,
      "min_width": null,
      "object_fit": null,
      "object_position": null,
      "order": null,
      "overflow": null,
      "overflow_x": null,
      "overflow_y": null,
      "padding": null,
      "right": null,
      "top": null,
      "visibility": null,
      "width": null
     }
    },
    "31030a0dea4d40ab90aba3f353c6774f": {
     "model_module": "@jupyter-widgets/base",
     "model_name": "LayoutModel",
     "state": {
      "_model_module": "@jupyter-widgets/base",
      "_model_module_version": "1.2.0",
      "_model_name": "LayoutModel",
      "_view_count": null,
      "_view_module": "@jupyter-widgets/base",
      "_view_module_version": "1.2.0",
      "_view_name": "LayoutView",
      "align_content": null,
      "align_items": null,
      "align_self": null,
      "border": null,
      "bottom": null,
      "display": null,
      "flex": null,
      "flex_flow": null,
      "grid_area": null,
      "grid_auto_columns": null,
      "grid_auto_flow": null,
      "grid_auto_rows": null,
      "grid_column": null,
      "grid_gap": null,
      "grid_row": null,
      "grid_template_areas": null,
      "grid_template_columns": null,
      "grid_template_rows": null,
      "height": null,
      "justify_content": null,
      "justify_items": null,
      "left": null,
      "margin": null,
      "max_height": null,
      "max_width": null,
      "min_height": null,
      "min_width": null,
      "object_fit": null,
      "object_position": null,
      "order": null,
      "overflow": null,
      "overflow_x": null,
      "overflow_y": null,
      "padding": null,
      "right": null,
      "top": null,
      "visibility": null,
      "width": null
     }
    },
    "3bc2253b09a044a59e982bfa257fc103": {
     "model_module": "@jupyter-widgets/controls",
     "model_name": "IntProgressModel",
     "state": {
      "_dom_classes": [],
      "_model_module": "@jupyter-widgets/controls",
      "_model_module_version": "1.5.0",
      "_model_name": "IntProgressModel",
      "_view_count": null,
      "_view_module": "@jupyter-widgets/controls",
      "_view_module_version": "1.5.0",
      "_view_name": "ProgressView",
      "bar_style": "success",
      "description": "Downloading: 100%",
      "description_tooltip": null,
      "layout": "IPY_MODEL_9a26d609934341908b1d0632d091b777",
      "max": 440473133,
      "min": 0,
      "orientation": "horizontal",
      "style": "IPY_MODEL_6c111bae870249db9b7c1c3d7810ba3d",
      "value": 440473133
     }
    },
    "3c8daaccd1824cdea19a160b5fb8be2a": {
     "model_module": "@jupyter-widgets/controls",
     "model_name": "IntProgressModel",
     "state": {
      "_dom_classes": [],
      "_model_module": "@jupyter-widgets/controls",
      "_model_module_version": "1.5.0",
      "_model_name": "IntProgressModel",
      "_view_count": null,
      "_view_module": "@jupyter-widgets/controls",
      "_view_module_version": "1.5.0",
      "_view_name": "ProgressView",
      "bar_style": "success",
      "description": "Downloading: 100%",
      "description_tooltip": null,
      "layout": "IPY_MODEL_5db1e819af1d4e8ebab25b7b18566808",
      "max": 231508,
      "min": 0,
      "orientation": "horizontal",
      "style": "IPY_MODEL_0f76d87a70a14ae8931c2ba75cc5c7c2",
      "value": 231508
     }
    },
    "4f914a08b6df4766a83d6c7422c107bf": {
     "model_module": "@jupyter-widgets/controls",
     "model_name": "DescriptionStyleModel",
     "state": {
      "_model_module": "@jupyter-widgets/controls",
      "_model_module_version": "1.5.0",
      "_model_name": "DescriptionStyleModel",
      "_view_count": null,
      "_view_module": "@jupyter-widgets/base",
      "_view_module_version": "1.2.0",
      "_view_name": "StyleView",
      "description_width": ""
     }
    },
    "5db1e819af1d4e8ebab25b7b18566808": {
     "model_module": "@jupyter-widgets/base",
     "model_name": "LayoutModel",
     "state": {
      "_model_module": "@jupyter-widgets/base",
      "_model_module_version": "1.2.0",
      "_model_name": "LayoutModel",
      "_view_count": null,
      "_view_module": "@jupyter-widgets/base",
      "_view_module_version": "1.2.0",
      "_view_name": "LayoutView",
      "align_content": null,
      "align_items": null,
      "align_self": null,
      "border": null,
      "bottom": null,
      "display": null,
      "flex": null,
      "flex_flow": null,
      "grid_area": null,
      "grid_auto_columns": null,
      "grid_auto_flow": null,
      "grid_auto_rows": null,
      "grid_column": null,
      "grid_gap": null,
      "grid_row": null,
      "grid_template_areas": null,
      "grid_template_columns": null,
      "grid_template_rows": null,
      "height": null,
      "justify_content": null,
      "justify_items": null,
      "left": null,
      "margin": null,
      "max_height": null,
      "max_width": null,
      "min_height": null,
      "min_width": null,
      "object_fit": null,
      "object_position": null,
      "order": null,
      "overflow": null,
      "overflow_x": null,
      "overflow_y": null,
      "padding": null,
      "right": null,
      "top": null,
      "visibility": null,
      "width": null
     }
    },
    "60392b14a5234027a3c2c2a41587c498": {
     "model_module": "@jupyter-widgets/controls",
     "model_name": "ProgressStyleModel",
     "state": {
      "_model_module": "@jupyter-widgets/controls",
      "_model_module_version": "1.5.0",
      "_model_name": "ProgressStyleModel",
      "_view_count": null,
      "_view_module": "@jupyter-widgets/base",
      "_view_module_version": "1.2.0",
      "_view_name": "StyleView",
      "bar_color": null,
      "description_width": "initial"
     }
    },
    "6c111bae870249db9b7c1c3d7810ba3d": {
     "model_module": "@jupyter-widgets/controls",
     "model_name": "ProgressStyleModel",
     "state": {
      "_model_module": "@jupyter-widgets/controls",
      "_model_module_version": "1.5.0",
      "_model_name": "ProgressStyleModel",
      "_view_count": null,
      "_view_module": "@jupyter-widgets/base",
      "_view_module_version": "1.2.0",
      "_view_name": "StyleView",
      "bar_color": null,
      "description_width": "initial"
     }
    },
    "704303219afc4fea8200367dd4cd7093": {
     "model_module": "@jupyter-widgets/base",
     "model_name": "LayoutModel",
     "state": {
      "_model_module": "@jupyter-widgets/base",
      "_model_module_version": "1.2.0",
      "_model_name": "LayoutModel",
      "_view_count": null,
      "_view_module": "@jupyter-widgets/base",
      "_view_module_version": "1.2.0",
      "_view_name": "LayoutView",
      "align_content": null,
      "align_items": null,
      "align_self": null,
      "border": null,
      "bottom": null,
      "display": null,
      "flex": null,
      "flex_flow": null,
      "grid_area": null,
      "grid_auto_columns": null,
      "grid_auto_flow": null,
      "grid_auto_rows": null,
      "grid_column": null,
      "grid_gap": null,
      "grid_row": null,
      "grid_template_areas": null,
      "grid_template_columns": null,
      "grid_template_rows": null,
      "height": null,
      "justify_content": null,
      "justify_items": null,
      "left": null,
      "margin": null,
      "max_height": null,
      "max_width": null,
      "min_height": null,
      "min_width": null,
      "object_fit": null,
      "object_position": null,
      "order": null,
      "overflow": null,
      "overflow_x": null,
      "overflow_y": null,
      "padding": null,
      "right": null,
      "top": null,
      "visibility": null,
      "width": null
     }
    },
    "7589fcba897c462ba2792aa196650e1b": {
     "model_module": "@jupyter-widgets/controls",
     "model_name": "HTMLModel",
     "state": {
      "_dom_classes": [],
      "_model_module": "@jupyter-widgets/controls",
      "_model_module_version": "1.5.0",
      "_model_name": "HTMLModel",
      "_view_count": null,
      "_view_module": "@jupyter-widgets/controls",
      "_view_module_version": "1.5.0",
      "_view_name": "HTMLView",
      "description": "",
      "description_tooltip": null,
      "layout": "IPY_MODEL_31030a0dea4d40ab90aba3f353c6774f",
      "placeholder": "​",
      "style": "IPY_MODEL_0def5b005110401fb73632d134ff46fe",
      "value": " 440M/440M [00:37&lt;00:00, 11.6MB/s]"
     }
    },
    "7c3c9f247bdd4c09afd51f6c3453e612": {
     "model_module": "@jupyter-widgets/base",
     "model_name": "LayoutModel",
     "state": {
      "_model_module": "@jupyter-widgets/base",
      "_model_module_version": "1.2.0",
      "_model_name": "LayoutModel",
      "_view_count": null,
      "_view_module": "@jupyter-widgets/base",
      "_view_module_version": "1.2.0",
      "_view_name": "LayoutView",
      "align_content": null,
      "align_items": null,
      "align_self": null,
      "border": null,
      "bottom": null,
      "display": null,
      "flex": null,
      "flex_flow": null,
      "grid_area": null,
      "grid_auto_columns": null,
      "grid_auto_flow": null,
      "grid_auto_rows": null,
      "grid_column": null,
      "grid_gap": null,
      "grid_row": null,
      "grid_template_areas": null,
      "grid_template_columns": null,
      "grid_template_rows": null,
      "height": null,
      "justify_content": null,
      "justify_items": null,
      "left": null,
      "margin": null,
      "max_height": null,
      "max_width": null,
      "min_height": null,
      "min_width": null,
      "object_fit": null,
      "object_position": null,
      "order": null,
      "overflow": null,
      "overflow_x": null,
      "overflow_y": null,
      "padding": null,
      "right": null,
      "top": null,
      "visibility": null,
      "width": null
     }
    },
    "8a87b46bfd9546c4829755a0be057535": {
     "model_module": "@jupyter-widgets/base",
     "model_name": "LayoutModel",
     "state": {
      "_model_module": "@jupyter-widgets/base",
      "_model_module_version": "1.2.0",
      "_model_name": "LayoutModel",
      "_view_count": null,
      "_view_module": "@jupyter-widgets/base",
      "_view_module_version": "1.2.0",
      "_view_name": "LayoutView",
      "align_content": null,
      "align_items": null,
      "align_self": null,
      "border": null,
      "bottom": null,
      "display": null,
      "flex": null,
      "flex_flow": null,
      "grid_area": null,
      "grid_auto_columns": null,
      "grid_auto_flow": null,
      "grid_auto_rows": null,
      "grid_column": null,
      "grid_gap": null,
      "grid_row": null,
      "grid_template_areas": null,
      "grid_template_columns": null,
      "grid_template_rows": null,
      "height": null,
      "justify_content": null,
      "justify_items": null,
      "left": null,
      "margin": null,
      "max_height": null,
      "max_width": null,
      "min_height": null,
      "min_width": null,
      "object_fit": null,
      "object_position": null,
      "order": null,
      "overflow": null,
      "overflow_x": null,
      "overflow_y": null,
      "padding": null,
      "right": null,
      "top": null,
      "visibility": null,
      "width": null
     }
    },
    "901249abd3164ba79eabcf32215d688f": {
     "model_module": "@jupyter-widgets/controls",
     "model_name": "IntProgressModel",
     "state": {
      "_dom_classes": [],
      "_model_module": "@jupyter-widgets/controls",
      "_model_module_version": "1.5.0",
      "_model_name": "IntProgressModel",
      "_view_count": null,
      "_view_module": "@jupyter-widgets/controls",
      "_view_module_version": "1.5.0",
      "_view_name": "ProgressView",
      "bar_style": "success",
      "description": "Downloading: 100%",
      "description_tooltip": null,
      "layout": "IPY_MODEL_ef65d9df4a674c569be8a209f24abf19",
      "max": 433,
      "min": 0,
      "orientation": "horizontal",
      "style": "IPY_MODEL_60392b14a5234027a3c2c2a41587c498",
      "value": 433
     }
    },
    "9a26d609934341908b1d0632d091b777": {
     "model_module": "@jupyter-widgets/base",
     "model_name": "LayoutModel",
     "state": {
      "_model_module": "@jupyter-widgets/base",
      "_model_module_version": "1.2.0",
      "_model_name": "LayoutModel",
      "_view_count": null,
      "_view_module": "@jupyter-widgets/base",
      "_view_module_version": "1.2.0",
      "_view_name": "LayoutView",
      "align_content": null,
      "align_items": null,
      "align_self": null,
      "border": null,
      "bottom": null,
      "display": null,
      "flex": null,
      "flex_flow": null,
      "grid_area": null,
      "grid_auto_columns": null,
      "grid_auto_flow": null,
      "grid_auto_rows": null,
      "grid_column": null,
      "grid_gap": null,
      "grid_row": null,
      "grid_template_areas": null,
      "grid_template_columns": null,
      "grid_template_rows": null,
      "height": null,
      "justify_content": null,
      "justify_items": null,
      "left": null,
      "margin": null,
      "max_height": null,
      "max_width": null,
      "min_height": null,
      "min_width": null,
      "object_fit": null,
      "object_position": null,
      "order": null,
      "overflow": null,
      "overflow_x": null,
      "overflow_y": null,
      "padding": null,
      "right": null,
      "top": null,
      "visibility": null,
      "width": null
     }
    },
    "b0df46abb0b842aaab24ac2624f523a7": {
     "model_module": "@jupyter-widgets/controls",
     "model_name": "HTMLModel",
     "state": {
      "_dom_classes": [],
      "_model_module": "@jupyter-widgets/controls",
      "_model_module_version": "1.5.0",
      "_model_name": "HTMLModel",
      "_view_count": null,
      "_view_module": "@jupyter-widgets/controls",
      "_view_module_version": "1.5.0",
      "_view_name": "HTMLView",
      "description": "",
      "description_tooltip": null,
      "layout": "IPY_MODEL_30cadd7eb89f421684d2ea3a3c37069f",
      "placeholder": "​",
      "style": "IPY_MODEL_2018ccb0b5714fa89a2073059cbf3796",
      "value": " 232k/232k [00:00&lt;00:00, 295kB/s]"
     }
    },
    "ef65d9df4a674c569be8a209f24abf19": {
     "model_module": "@jupyter-widgets/base",
     "model_name": "LayoutModel",
     "state": {
      "_model_module": "@jupyter-widgets/base",
      "_model_module_version": "1.2.0",
      "_model_name": "LayoutModel",
      "_view_count": null,
      "_view_module": "@jupyter-widgets/base",
      "_view_module_version": "1.2.0",
      "_view_name": "LayoutView",
      "align_content": null,
      "align_items": null,
      "align_self": null,
      "border": null,
      "bottom": null,
      "display": null,
      "flex": null,
      "flex_flow": null,
      "grid_area": null,
      "grid_auto_columns": null,
      "grid_auto_flow": null,
      "grid_auto_rows": null,
      "grid_column": null,
      "grid_gap": null,
      "grid_row": null,
      "grid_template_areas": null,
      "grid_template_columns": null,
      "grid_template_rows": null,
      "height": null,
      "justify_content": null,
      "justify_items": null,
      "left": null,
      "margin": null,
      "max_height": null,
      "max_width": null,
      "min_height": null,
      "min_width": null,
      "object_fit": null,
      "object_position": null,
      "order": null,
      "overflow": null,
      "overflow_x": null,
      "overflow_y": null,
      "padding": null,
      "right": null,
      "top": null,
      "visibility": null,
      "width": null
     }
    },
    "fe6d5339618748868f3cb678f6075a37": {
     "model_module": "@jupyter-widgets/controls",
     "model_name": "HBoxModel",
     "state": {
      "_dom_classes": [],
      "_model_module": "@jupyter-widgets/controls",
      "_model_module_version": "1.5.0",
      "_model_name": "HBoxModel",
      "_view_count": null,
      "_view_module": "@jupyter-widgets/controls",
      "_view_module_version": "1.5.0",
      "_view_name": "HBoxView",
      "box_style": "",
      "children": [
       "IPY_MODEL_901249abd3164ba79eabcf32215d688f",
       "IPY_MODEL_0ce60001dbc043f185b128499811cbf8"
      ],
      "layout": "IPY_MODEL_8a87b46bfd9546c4829755a0be057535"
     }
    }
   }
  }
 },
 "nbformat": 4,
 "nbformat_minor": 1
}
