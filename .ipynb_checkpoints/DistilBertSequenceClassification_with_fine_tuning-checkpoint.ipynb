{
 "cells": [
  {
   "cell_type": "code",
   "execution_count": 1,
   "metadata": {
    "colab": {
     "base_uri": "https://localhost:8080/",
     "height": 462
    },
    "colab_type": "code",
    "id": "NwYSjJgX943S",
    "outputId": "ce06ce49-995a-411f-ae26-2da619c03708"
   },
   "outputs": [
    {
     "name": "stdout",
     "output_type": "stream",
     "text": [
      "Requirement already satisfied: transformers in /usr/local/lib/python3.6/dist-packages (2.8.0)\n",
      "Requirement already satisfied: dataclasses; python_version < \"3.7\" in /usr/local/lib/python3.6/dist-packages (from transformers) (0.7)\n",
      "Requirement already satisfied: filelock in /usr/local/lib/python3.6/dist-packages (from transformers) (3.0.12)\n",
      "Requirement already satisfied: tqdm>=4.27 in /usr/local/lib/python3.6/dist-packages (from transformers) (4.38.0)\n",
      "Requirement already satisfied: requests in /usr/local/lib/python3.6/dist-packages (from transformers) (2.21.0)\n",
      "Requirement already satisfied: sacremoses in /usr/local/lib/python3.6/dist-packages (from transformers) (0.0.41)\n",
      "Requirement already satisfied: sentencepiece in /usr/local/lib/python3.6/dist-packages (from transformers) (0.1.85)\n",
      "Requirement already satisfied: numpy in /usr/local/lib/python3.6/dist-packages (from transformers) (1.18.2)\n",
      "Requirement already satisfied: tokenizers==0.5.2 in /usr/local/lib/python3.6/dist-packages (from transformers) (0.5.2)\n",
      "Requirement already satisfied: regex!=2019.12.17 in /usr/local/lib/python3.6/dist-packages (from transformers) (2019.12.20)\n",
      "Requirement already satisfied: boto3 in /usr/local/lib/python3.6/dist-packages (from transformers) (1.12.38)\n",
      "Requirement already satisfied: idna<2.9,>=2.5 in /usr/local/lib/python3.6/dist-packages (from requests->transformers) (2.8)\n",
      "Requirement already satisfied: chardet<3.1.0,>=3.0.2 in /usr/local/lib/python3.6/dist-packages (from requests->transformers) (3.0.4)\n",
      "Requirement already satisfied: urllib3<1.25,>=1.21.1 in /usr/local/lib/python3.6/dist-packages (from requests->transformers) (1.24.3)\n",
      "Requirement already satisfied: certifi>=2017.4.17 in /usr/local/lib/python3.6/dist-packages (from requests->transformers) (2020.4.5.1)\n",
      "Requirement already satisfied: joblib in /usr/local/lib/python3.6/dist-packages (from sacremoses->transformers) (0.14.1)\n",
      "Requirement already satisfied: click in /usr/local/lib/python3.6/dist-packages (from sacremoses->transformers) (7.1.1)\n",
      "Requirement already satisfied: six in /usr/local/lib/python3.6/dist-packages (from sacremoses->transformers) (1.12.0)\n",
      "Requirement already satisfied: botocore<1.16.0,>=1.15.38 in /usr/local/lib/python3.6/dist-packages (from boto3->transformers) (1.15.38)\n",
      "Requirement already satisfied: jmespath<1.0.0,>=0.7.1 in /usr/local/lib/python3.6/dist-packages (from boto3->transformers) (0.9.5)\n",
      "Requirement already satisfied: s3transfer<0.4.0,>=0.3.0 in /usr/local/lib/python3.6/dist-packages (from boto3->transformers) (0.3.3)\n",
      "Requirement already satisfied: python-dateutil<3.0.0,>=2.1 in /usr/local/lib/python3.6/dist-packages (from botocore<1.16.0,>=1.15.38->boto3->transformers) (2.8.1)\n",
      "Requirement already satisfied: docutils<0.16,>=0.10 in /usr/local/lib/python3.6/dist-packages (from botocore<1.16.0,>=1.15.38->boto3->transformers) (0.15.2)\n"
     ]
    },
    {
     "name": "stderr",
     "output_type": "stream",
     "text": [
      "/usr/local/lib/python3.6/dist-packages/statsmodels/tools/_testing.py:19: FutureWarning: pandas.util.testing is deprecated. Use the functions in the public API at pandas.testing instead.\n",
      "  import pandas.util.testing as tm\n"
     ]
    }
   ],
   "source": [
    "!pip install transformers \n",
    "\n",
    "import time \n",
    "import datetime\n",
    "import random\n",
    "\n",
    "import matplotlib.pyplot as plt\n",
    "import seaborn as sns\n",
    "\n",
    "import numpy as np \n",
    "import pandas as pd \n",
    "import tensorflow as tf\n",
    "import torch \n",
    "\n",
    "from sklearn.model_selection import train_test_split \n",
    "\n",
    "from torch.utils.data import TensorDataset, random_split \n",
    "from torch.utils.data import DataLoader, RandomSampler, SequentialSampler\n",
    "\n",
    "from transformers import DistilBertTokenizer\n",
    "from transformers import DistilBertForSequenceClassification, BertConfig\n",
    "from transformers import get_linear_schedule_with_warmup, AdamW"
   ]
  },
  {
   "cell_type": "code",
   "execution_count": 2,
   "metadata": {
    "colab": {
     "base_uri": "https://localhost:8080/",
     "height": 68
    },
    "colab_type": "code",
    "id": "WPLUlj1jy3k2",
    "outputId": "d56e1aea-be6e-4124-dd8a-2cd631f9e4bc"
   },
   "outputs": [
    {
     "name": "stdout",
     "output_type": "stream",
     "text": [
      "Found GPU at /device:GPU:0\n",
      "There are 1 GPU(s) available\n",
      "We will use the GPU Tesla K80\n"
     ]
    }
   ],
   "source": [
    "# check for GPU \n",
    "device_name = tf.test.gpu_device_name()\n",
    "\n",
    "if device_name == \"/device:GPU:0\":\n",
    "  print(\"Found GPU at {}\".format(device_name))\n",
    "else:\n",
    "  raise SystemError(\"GPU device not found\")\n",
    "  \n",
    "if torch.cuda.is_available():\n",
    "  device = torch.device(\"cuda\")\n",
    "  print(\"There are {} GPU(s) available\".format(torch.cuda.device_count()))\n",
    "  print(\"We will use the GPU\", torch.cuda.get_device_name(0))\n",
    "else: \n",
    "  device = torch.device(\"cpu\")\n",
    "  print(\"No GPU available, we use the CPU instead\")"
   ]
  },
  {
   "cell_type": "code",
   "execution_count": 0,
   "metadata": {
    "colab": {},
    "colab_type": "code",
    "id": "vn5CrUV80Ugc"
   },
   "outputs": [],
   "source": [
    "# loading the dataset \n",
    "url = \"https://raw.githubusercontent.com/ant1code/tweet-sentiment/master/data/train.csv\"\n",
    "df = pd.read_csv(url)\n",
    "\n",
    "# converting sentiment (categorical) to label (numerical)\n",
    "# 0: negative, 1: neutral, 2: positive \n",
    "# FIXED: mapping was arbitrary\n",
    "sentiment_to_label = {\"negative\": 0, \"neutral\": 1, \"positive\": 2}\n",
    "df[\"label\"]  = df.sentiment.map(sentiment_to_label) \n",
    "\n",
    "# drop irrelevant columns and rows with missing values \n",
    "df.drop([\"textID\", \"selected_text\", \"sentiment\"], axis=1, inplace=True)\n",
    "df = df[df.text.notna()]\n",
    "\n",
    "# convert all text to lowercase because we use uncased DistilBert \n",
    "# NOTE: try cased DistilBert also \n",
    "df.text = df.text.str.lower()\n",
    "\n",
    "# get length of longest sentence in total dataset (train+valid+test)\n",
    "# all sentences in Bert models must have the same length after tokenization \n",
    "# NOTE: does this count as using the test set? \n",
    "max_length = max(df.text.apply(len))\n",
    "\n",
    "# split into train and test sets (80-20 split)\n",
    "# this already shuffles the dataset \n",
    "x_train, x_test, y_train, y_test = train_test_split(df.text, df.label, test_size=0.2)"
   ]
  },
  {
   "cell_type": "code",
   "execution_count": 0,
   "metadata": {
    "colab": {},
    "colab_type": "code",
    "id": "kicWO4tf1jlW"
   },
   "outputs": [],
   "source": [
    "# load DistilBert tokenizer \n",
    "# NOTE: also try DistilBertTokenizerFast and distil-bert-cased\n",
    "pretrained_weights = \"distilbert-base-uncased\"\n",
    "tokenizer = DistilBertTokenizer.from_pretrained(pretrained_weights) "
   ]
  },
  {
   "cell_type": "code",
   "execution_count": 0,
   "metadata": {
    "colab": {},
    "colab_type": "code",
    "id": "vh_t1EMj6_jn"
   },
   "outputs": [],
   "source": [
    "# Bert formatting requirements: \n",
    "# - special tokens ([CLS], [SEP]) at start and end of every sentence \n",
    "# - all sentences have, or are padded to, the same length \n",
    "# - sentences have <= 512 tokens\n",
    "# - each sentence has an \"attention mask\" that specifies where real tokens end \n",
    "#   and padding tokens begin \n",
    "\n",
    "token_ids = [] \n",
    "attention_masks = []\n",
    "\n",
    "for text in x_train.values:\n",
    "  encoded_dict = tokenizer.encode_plus(\n",
    "      # NOTE: return_token_type_ids is None by default \n",
    "      # NOTE: what if the model is fed a sentence with #tokens > max_length?\n",
    "      text, add_special_tokens=True, max_length=max_length,\n",
    "      pad_to_max_length=True, return_attention_mask=True, return_tensors=\"pt\"\n",
    "  )\n",
    "\n",
    "  token_ids.append(encoded_dict[\"input_ids\"])\n",
    "  attention_masks.append(encoded_dict[\"attention_mask\"])\n",
    "\n",
    "# create torch tensors size(train_set) x max_length\n",
    "token_ids = torch.cat(token_ids, dim=0)\n",
    "attention_masks = torch.cat(attention_masks, dim=0)"
   ]
  },
  {
   "cell_type": "code",
   "execution_count": 0,
   "metadata": {
    "colab": {},
    "colab_type": "code",
    "id": "b3UmaPAEIUr-"
   },
   "outputs": [],
   "source": [
    "labels = torch.tensor(y_train.values) \n",
    "dataset = TensorDataset(token_ids, attention_masks, labels)\n",
    "\n",
    "# split into train and validation sets (80-20 split)\n",
    "train_size = int(0.8 * len(dataset))\n",
    "valid_size = len(dataset) - train_size\n",
    "train_dataset, valid_dataset = random_split(dataset, [train_size, valid_size])"
   ]
  },
  {
   "cell_type": "code",
   "execution_count": 0,
   "metadata": {
    "colab": {},
    "colab_type": "code",
    "id": "AyrQH1LiK3Rm"
   },
   "outputs": [],
   "source": [
    "# create train and validation dataloaders\n",
    "# DataLoaders are supposed to help reduce RAM usage by not loading the entire \n",
    "# dataset into memory \n",
    "# NOTE: also try batch_size=16\n",
    "batch_size = 32\n",
    "\n",
    "# NOTE: is sampling randomly necessary? we already shuffled the dataset at the start \n",
    "train_dataloader = DataLoader(\n",
    "    train_dataset, sampler=RandomSampler(train_dataset), batch_size=batch_size\n",
    ")\n",
    "\n",
    "valid_dataloader = DataLoader(\n",
    "    valid_dataset, sampler=SequentialSampler(valid_dataset), batch_size=batch_size\n",
    ")"
   ]
  },
  {
   "cell_type": "code",
   "execution_count": 0,
   "metadata": {
    "colab": {},
    "colab_type": "code",
    "id": "dAu0wd4eKzjr"
   },
   "outputs": [],
   "source": [
    "# load the (pretrained) classification model \n",
    "# DistilBertForSequenceClassification = DistilBert with a single linear layer \n",
    "# on top for sequence classification \n",
    "# NOTE: try BertForSequenceClassification? though it's a lot larger\n",
    "\n",
    "model = DistilBertForSequenceClassification.from_pretrained(\n",
    "    pretrained_weights, num_labels=3, output_attentions=False, output_hidden_states=False\n",
    ")\n",
    "\n",
    "model.cuda()"
   ]
  },
  {
   "cell_type": "code",
   "execution_count": 0,
   "metadata": {
    "colab": {},
    "colab_type": "code",
    "id": "AlVUsZNFL865"
   },
   "outputs": [],
   "source": [
    "# optimizer with fixed weight decay - used in fine-tuning models\n",
    "# NOTE: plot graphs to find best values for learning rate and epsilon?\n",
    "\n",
    "optimizer = AdamW(model.parameters(), lr=2e-5, eps=1e-8) "
   ]
  },
  {
   "cell_type": "code",
   "execution_count": 0,
   "metadata": {
    "colab": {},
    "colab_type": "code",
    "id": "62T7fBuwMLAs"
   },
   "outputs": [],
   "source": [
    "# NOTE: plot graphs to find best number of epochs\n",
    "# Bert authors recommend only 2-4 epochs for reasons unknown\n",
    "n_epochs = 3 # be careful colab keeps disconnecting due to inactivity\n",
    "total_steps = len(train_dataloader) * n_epochs\n",
    "\n",
    "# this scheduler has a learning rate that first increases linearly (this is \n",
    "# called the \"warmup period\") then decreases linearly \n",
    "# NOTE: try other schedules e.g. exponential decay\n",
    "scheduler = get_linear_schedule_with_warmup(\n",
    "    optimizer, num_warmup_steps=0, num_training_steps=total_steps\n",
    ")"
   ]
  },
  {
   "cell_type": "code",
   "execution_count": 0,
   "metadata": {
    "colab": {},
    "colab_type": "code",
    "id": "uoxlOwmKManx"
   },
   "outputs": [],
   "source": [
    "def flat_accuracy(logits, labels):\n",
    "  # let prediction be the logit with highest value \n",
    "  pred_flat = np.argmax(logits, axis=1).flatten()\n",
    "  labels_flat = labels.flatten()\n",
    "  return np.sum(pred_flat == labels_flat) / len(labels_flat)\n",
    "\n",
    "def format_time(elapsed):\n",
    "  elapsed_rounded = int(round(elapsed)) \n",
    "  return str(datetime.timedelta(seconds=elapsed_rounded))"
   ]
  },
  {
   "cell_type": "code",
   "execution_count": 0,
   "metadata": {
    "colab": {},
    "colab_type": "code",
    "id": "_Goj2FPWO8PA"
   },
   "outputs": [],
   "source": [
    "# for reproducibility purposes\n",
    "# comment out for real training \n",
    "\n",
    "seed_val = 10 \n",
    "random.seed(seed_val)\n",
    "np.random.seed(seed_val)\n",
    "torch.manual_seed(seed_val)\n",
    "torch.cuda.manual_seed_all(seed_val)"
   ]
  },
  {
   "cell_type": "code",
   "execution_count": 13,
   "metadata": {
    "colab": {
     "base_uri": "https://localhost:8080/",
     "height": 884
    },
    "colab_type": "code",
    "id": "OTq4GLRsPVa0",
    "outputId": "46499012-4a19-415d-83cf-64fd55f74f32"
   },
   "outputs": [
    {
     "name": "stdout",
     "output_type": "stream",
     "text": [
      "\n",
      "============== Epoch 1 / 3 ==============\n",
      "Training...\n",
      "  batch   100 of   550;    elapsed: 0:01:27\n",
      "  batch   200 of   550;    elapsed: 0:02:54\n",
      "  batch   300 of   550;    elapsed: 0:04:21\n",
      "  batch   400 of   550;    elapsed: 0:05:48\n",
      "  batch   500 of   550;    elapsed: 0:07:15\n",
      "\n",
      "  average training loss: 0.63\n",
      "  time taken for training: 0:07:58\n",
      "\n",
      "Running validation...\n",
      "  accuracy: 0.79\n",
      "  validation loss: 0.53\n",
      "  time taken for validation: 0:00:43\n",
      "\n",
      "============== Epoch 2 / 3 ==============\n",
      "Training...\n",
      "  batch   100 of   550;    elapsed: 0:01:28\n",
      "  batch   200 of   550;    elapsed: 0:02:55\n",
      "  batch   300 of   550;    elapsed: 0:04:21\n",
      "  batch   400 of   550;    elapsed: 0:05:48\n",
      "  batch   500 of   550;    elapsed: 0:07:15\n",
      "\n",
      "  average training loss: 0.46\n",
      "  time taken for training: 0:07:57\n",
      "\n",
      "Running validation...\n",
      "  accuracy: 0.80\n",
      "  validation loss: 0.51\n",
      "  time taken for validation: 0:00:43\n",
      "\n",
      "============== Epoch 3 / 3 ==============\n",
      "Training...\n",
      "  batch   100 of   550;    elapsed: 0:01:28\n",
      "  batch   200 of   550;    elapsed: 0:02:55\n",
      "  batch   300 of   550;    elapsed: 0:04:22\n",
      "  batch   400 of   550;    elapsed: 0:05:48\n",
      "  batch   500 of   550;    elapsed: 0:07:15\n",
      "\n",
      "  average training loss: 0.37\n",
      "  time taken for training: 0:07:58\n",
      "\n",
      "Running validation...\n",
      "  accuracy: 0.79\n",
      "  validation loss: 0.54\n",
      "  time taken for validation: 0:00:43\n",
      "\n",
      "Training is complete.\n",
      "Training time: 0:26:01\n"
     ]
    }
   ],
   "source": [
    "# main training loop \n",
    "training_stats = []\n",
    "early_stopping_models = {}\n",
    "total_t0 = time.time()\n",
    "\n",
    "for epoch_i in range(0, n_epochs): \n",
    "  print(\"\")\n",
    "  print(\"============== Epoch {:} / {:} ==============\".format(epoch_i+1, n_epochs))\n",
    "  print(\"Training...\")\n",
    "\n",
    "  t0 = time.time()\n",
    "  total_train_loss = 0\n",
    "\n",
    "  # put model in training mode \n",
    "  model.train() \n",
    "  \n",
    "  for step, batch in enumerate(train_dataloader):\n",
    "    # unpack input and labels \n",
    "    b_input_ids  = batch[0].to(device)\n",
    "    b_input_mask = batch[1].to(device)\n",
    "    b_labels     = batch[2].to(device)\n",
    "\n",
    "    # clear previously calculated gradients - must be done before backward pass! \n",
    "    model.zero_grad()\n",
    "\n",
    "    # forward pass to evaluate model on this batch \n",
    "    # NOTE: without conversion to long, error occurs. but is there a more elegant method? \n",
    "    loss, logits = model(\n",
    "        input_ids      = b_input_ids, \n",
    "        attention_mask = b_input_mask, \n",
    "        labels         = b_labels.long() \n",
    "    ) \n",
    "\n",
    "    # increment by this batch's training loss \n",
    "    total_train_loss += loss.item() \n",
    "\n",
    "    # backward pass to calculate gradients \n",
    "    loss.backward() \n",
    "\n",
    "    # limit gradients to 1.0 to avoid infinite gradients \n",
    "    # NOTE: try commenting this out too lol\n",
    "    torch.nn.utils.clip_grad_norm_(model.parameters(), 1.0)\n",
    "\n",
    "    # update parameters (according to optimizer) \n",
    "    optimizer.step() \n",
    "    \n",
    "    # update learning rate (according to scheduler)\n",
    "    scheduler.step() \n",
    "\n",
    "    # print training progress every 100 batches \n",
    "    if step % 100 == 0 and not step == 0:\n",
    "      elapsed = format_time(time.time() - t0)\n",
    "      print(\"  batch {:>5,} of {:>5,};    elapsed: {:}\".format(step, len(train_dataloader), elapsed))\n",
    "\n",
    "  # average training loss for this epoch \n",
    "  avg_train_loss = total_train_loss / len(train_dataloader)\n",
    "  \n",
    "  # time taken for training in this epoch\n",
    "  training_time = format_time(time.time() - t0)\n",
    "\n",
    "  print(\"\")\n",
    "  print(\"  average training loss: {0:.2f}\".format(avg_train_loss))\n",
    "  print(\"  time taken for training: {:}\".format(training_time))\n",
    "\n",
    "  print(\"\")\n",
    "  print(\"Running validation...\")\n",
    "\n",
    "  t0 = time.time() \n",
    "  total_eval_accuracy = 0\n",
    "  total_eval_loss = 0 \n",
    "  nb_eval_steps = 0 \n",
    "\n",
    "  # put model in evaluation mode\n",
    "  model.eval()\n",
    "\n",
    "  for batch in valid_dataloader: \n",
    "    # unpack input and labels \n",
    "    b_input_ids  = batch[0].to(device)\n",
    "    b_input_mask = batch[1].to(device)\n",
    "    b_labels     = batch[2].to(device).long()\n",
    "\n",
    "    # disable gradient calculation, since there are no backward passes \n",
    "    with torch.no_grad(): \n",
    "      # forward pass to evaluate model on this batch \n",
    "      loss, logits = model(\n",
    "          b_input_ids, attention_mask=b_input_mask, labels=b_labels\n",
    "      ) \n",
    "    \n",
    "    # increment by this batch's validation loss \n",
    "    total_eval_loss += loss.item()\n",
    "\n",
    "    # move logits and labels to cpu \n",
    "    logits = logits.detach().cpu().numpy()\n",
    "    label_ids = b_labels.to(\"cpu\").numpy()\n",
    "\n",
    "    total_eval_accuracy += flat_accuracy(logits, label_ids)\n",
    "\n",
    "  # average validation statistics for this epoch\n",
    "  avg_val_accuracy = total_eval_accuracy / len(valid_dataloader)\n",
    "  avg_val_loss = total_eval_loss / len(valid_dataloader)\n",
    "  valid_time = format_time(time.time() - t0)\n",
    "  print(\"  accuracy: {0:.2f}\".format(avg_val_accuracy))\n",
    "  print(\"  validation loss: {0:.2f}\".format(avg_val_loss))\n",
    "  print(\"  time taken for validation: {:}\".format(valid_time))\n",
    "  \n",
    "  valid_time = format_time(time.time() - t0)\n",
    "\n",
    "  # record this epoch's train/validation statistics\n",
    "  training_stats.append(\n",
    "      {\n",
    "          \"epoch\": epoch_i+1, \n",
    "          \"training loss\": avg_train_loss, \n",
    "          \"valid. loss\": avg_val_loss, \n",
    "          \"valid. accuracy\": avg_val_accuracy, \n",
    "          \"training time\": training_time, \n",
    "          \"valid. time\": valid_time\n",
    "      }\n",
    "  )\n",
    "\n",
    "print(\"\")\n",
    "print(\"Training is complete.\")\n",
    "print(\"Training time: {:}\".format(format_time(time.time() - total_t0)))"
   ]
  },
  {
   "cell_type": "code",
   "execution_count": 0,
   "metadata": {
    "colab": {},
    "colab_type": "code",
    "id": "OoVJ9saSY41h"
   },
   "outputs": [],
   "source": [
    "# summary of fine-tuning \n",
    "pd.set_option(\"precision\", 2)\n",
    "training_stats = pd.DataFrame(data=training_stats)\n",
    "training_stats = training_stats.set_index(\"epoch\")\n",
    "\n",
    "training_stats"
   ]
  },
  {
   "cell_type": "code",
   "execution_count": 27,
   "metadata": {
    "colab": {
     "base_uri": "https://localhost:8080/",
     "height": 478
    },
    "colab_type": "code",
    "id": "8HAN0PZIY4lq",
    "outputId": "cea5fac8-1343-43c2-8448-81f2a30d3daf"
   },
   "outputs": [
    {
     "data": {
      "text/plain": [
       "([<matplotlib.axis.XTick at 0x7f6601ab4668>,\n",
       "  <matplotlib.axis.XTick at 0x7f6601ab4630>,\n",
       "  <matplotlib.axis.XTick at 0x7f6601ab4278>],\n",
       " <a list of 3 Text major ticklabel objects>)"
      ]
     },
     "execution_count": 27,
     "metadata": {
      "tags": []
     },
     "output_type": "execute_result"
    },
    {
     "data": {
      "image/png": "[encoded data removed]",
      "text/plain": [
       "<Figure size 864x432 with 1 Axes>"
      ]
     },
     "metadata": {
      "tags": []
     },
     "output_type": "display_data"
    }
   ],
   "source": [
    "# plot training and validation loss to detect over/underfitting\n",
    "% matplotlib inline\n",
    "\n",
    "sns.set(style=\"darkgrid\")\n",
    "plt.rcParams[\"figure.figsize\"] = (12, 6)\n",
    "\n",
    "plt.plot(training_stats[\"training loss\"], \"b-o\", label=\"training\")\n",
    "plt.plot(training_stats[\"valid. loss\"], \"g-o\", label=\"validation\")\n",
    "\n",
    "plt.title(\"Training & Validation loss\")\n",
    "plt.xlabel(\"epoch\")\n",
    "plt.ylabel(\"loss\")\n",
    "plt.legend()\n",
    "plt.xticks(range(1,n_epochs+1))"
   ]
  },
  {
   "cell_type": "code",
   "execution_count": 0,
   "metadata": {
    "colab": {},
    "colab_type": "code",
    "id": "PTA2mO9xoAYG"
   },
   "outputs": [],
   "source": [
    "# re-do of entire training process, but with lower number of epochs \n",
    "# NOTE: try to implement early stopping/caching of good models? \n",
    "n_epochs = np.argmin(training_stats[\"valid. loss\"]) + 1\n"
   ]
  },
  {
   "cell_type": "code",
   "execution_count": 0,
   "metadata": {
    "colab": {},
    "colab_type": "code",
    "id": "wIYD2yk3fQqo"
   },
   "outputs": [],
   "source": [
    "# for now, just use the overfitting model anyway on the test set \n",
    "\n",
    "token_ids = [] \n",
    "attention_masks = []\n",
    "\n",
    "for text in x_test.values:\n",
    "  encoded_dict = tokenizer.encode_plus(\n",
    "      text, add_special_tokens=True, max_length=max_length,\n",
    "      pad_to_max_length=True, return_attention_mask=True, return_tensors=\"pt\"\n",
    "  )\n",
    "\n",
    "  token_ids.append(encoded_dict[\"input_ids\"])\n",
    "  attention_masks.append(encoded_dict[\"attention_mask\"])\n",
    "\n",
    "token_ids = torch.cat(token_ids, dim=0)\n",
    "attention_masks = torch.cat(attention_masks, dim=0)\n",
    "\n",
    "labels = torch.tensor(y_test.values) \n",
    "dataset = TensorDataset(token_ids, attention_masks, labels)\n",
    "\n",
    "batch_size = 32 \n",
    "test_dataloader = DataLoader(\n",
    "    dataset, sampler=SequentialSampler(dataset), batch_size=batch_size\n",
    ")"
   ]
  },
  {
   "cell_type": "code",
   "execution_count": 33,
   "metadata": {
    "colab": {
     "base_uri": "https://localhost:8080/",
     "height": 34
    },
    "colab_type": "code",
    "id": "sZJ7W1xJgkbl",
    "outputId": "8124f054-e54d-4be7-b935-fd7e1d0e509d"
   },
   "outputs": [
    {
     "name": "stdout",
     "output_type": "stream",
     "text": [
      "  test accuracy: 0.784578488372093\n"
     ]
    }
   ],
   "source": [
    "# evaluating model on test_dataloader \n",
    "\n",
    "predictions = [] \n",
    "total_test_accuracy = 0\n",
    "\n",
    "model.eval() \n",
    "\n",
    "for batch in test_dataloader:  \n",
    "  b_input_ids  = batch[0].to(device)\n",
    "  b_input_mask = batch[1].to(device)\n",
    "  b_labels     = batch[2].to(device).long()\n",
    "\n",
    "  with torch.no_grad():\n",
    "    output = model(\n",
    "        b_input_ids, attention_mask=b_input_mask\n",
    "    )\n",
    "\n",
    "  logits = output[0]\n",
    "  logits = logits.detach().cpu().numpy()\n",
    "  label_ids = b_labels.to(\"cpu\").numpy()\n",
    "\n",
    "  predictions.append(logits)\n",
    "  total_test_accuracy += flat_accuracy(logits, label_ids)\n",
    "\n",
    "avg_test_accuracy = total_test_accuracy / len(test_dataloader)\n",
    "print(\"  test accuracy: {:}\".format(avg_test_accuracy))"
   ]
  }
 ],
 "metadata": {
  "accelerator": "GPU",
  "colab": {
   "collapsed_sections": [],
   "name": "DistilBertSequenceClassification with fine-tuning.ipynb",
   "provenance": []
  },
  "kernelspec": {
   "display_name": "Python 3",
   "language": "python",
   "name": "python3"
  },
  "language_info": {
   "codemirror_mode": {
    "name": "ipython",
    "version": 3
   },
   "file_extension": ".py",
   "mimetype": "text/x-python",
   "name": "python",
   "nbconvert_exporter": "python",
   "pygments_lexer": "ipython3",
   "version": "3.7.6"
  }
 },
 "nbformat": 4,
 "nbformat_minor": 1
}
