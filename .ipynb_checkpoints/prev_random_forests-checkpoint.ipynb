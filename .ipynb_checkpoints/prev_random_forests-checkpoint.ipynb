{
 "cells": [
  {
   "cell_type": "code",
   "execution_count": 0,
   "metadata": {
    "colab": {},
    "colab_type": "code",
    "id": "zjiyVuZWHqxM"
   },
   "outputs": [],
   "source": [
    "# importing libraries\n",
    "import pandas as pd\n",
    "from sklearn.model_selection import train_test_split\n",
    "from sklearn.tree import DecisionTreeClassifier\n",
    "from sklearn.ensemble import RandomForestClassifier\n",
    "from sklearn.metrics import accuracy_score\n",
    "from sklearn.metrics import confusion_matrix\n",
    "import numpy as np\n",
    "from collections import Counter"
   ]
  },
  {
   "cell_type": "code",
   "execution_count": 0,
   "metadata": {
    "colab": {},
    "colab_type": "code",
    "id": "zAVjquB-HqxT"
   },
   "outputs": [],
   "source": [
    "# loading the dataset and dropping one column, since we only need the text and sentiment\n",
    "dataset = pd.read_csv('train.csv')\n",
    "df = pd.DataFrame(data=dataset, columns=['text', 'sentiment'])\n",
    "df = df.dropna()\n",
    "#creating word count, uppercase and special char. word count\n",
    "import string\n",
    "df['Word Count'] = [len(review.split()) for review in df['text']]\n",
    "\n",
    "df['Uppercase Char Count'] = [sum(char.isupper() for char in review) \\\n",
    "                              for review in df['text']]                           \n",
    "\n",
    "df['Special Char Count'] = [sum(char in string.punctuation for char in review) \\\n",
    "                            for review in df['text']]   \n",
    "# Formatting the datatypes\n",
    "df['sentiment'] = df['sentiment'].map({'positive': 2, 'neutral': 1, 'negative': 0})"
   ]
  },
  {
   "cell_type": "code",
   "execution_count": 7,
   "metadata": {
    "colab": {
     "base_uri": "https://localhost:8080/",
     "height": 359
    },
    "colab_type": "code",
    "id": "8jUaQ7rgHqxY",
    "outputId": "9ac3ef2a-4b30-4b14-e05f-9c6dbb555ecc"
   },
   "outputs": [
    {
     "data": {
      "text/html": [
       "<div>\n",
       "<style scoped>\n",
       "    .dataframe tbody tr th:only-of-type {\n",
       "        vertical-align: middle;\n",
       "    }\n",
       "\n",
       "    .dataframe tbody tr th {\n",
       "        vertical-align: top;\n",
       "    }\n",
       "\n",
       "    .dataframe thead th {\n",
       "        text-align: right;\n",
       "    }\n",
       "</style>\n",
       "<table border=\"1\" class=\"dataframe\">\n",
       "  <thead>\n",
       "    <tr style=\"text-align: right;\">\n",
       "      <th></th>\n",
       "      <th>text</th>\n",
       "      <th>sentiment</th>\n",
       "      <th>Word Count</th>\n",
       "      <th>Uppercase Char Count</th>\n",
       "      <th>Special Char Count</th>\n",
       "    </tr>\n",
       "  </thead>\n",
       "  <tbody>\n",
       "    <tr>\n",
       "      <th>0</th>\n",
       "      <td>Spent the entire morning in a meeting w/ a ven...</td>\n",
       "      <td>1</td>\n",
       "      <td>28</td>\n",
       "      <td>3</td>\n",
       "      <td>5</td>\n",
       "    </tr>\n",
       "    <tr>\n",
       "      <th>1</th>\n",
       "      <td>Oh! Good idea about putting them on ice cream</td>\n",
       "      <td>2</td>\n",
       "      <td>9</td>\n",
       "      <td>2</td>\n",
       "      <td>1</td>\n",
       "    </tr>\n",
       "    <tr>\n",
       "      <th>2</th>\n",
       "      <td>says good (or should i say bad?) afternoon!  h...</td>\n",
       "      <td>1</td>\n",
       "      <td>9</td>\n",
       "      <td>0</td>\n",
       "      <td>10</td>\n",
       "    </tr>\n",
       "    <tr>\n",
       "      <th>3</th>\n",
       "      <td>i dont think you can vote anymore! i tried</td>\n",
       "      <td>0</td>\n",
       "      <td>9</td>\n",
       "      <td>0</td>\n",
       "      <td>1</td>\n",
       "    </tr>\n",
       "    <tr>\n",
       "      <th>4</th>\n",
       "      <td>haha better drunken tweeting you mean?</td>\n",
       "      <td>2</td>\n",
       "      <td>6</td>\n",
       "      <td>0</td>\n",
       "      <td>1</td>\n",
       "    </tr>\n",
       "    <tr>\n",
       "      <th>5</th>\n",
       "      <td>headache  wanna see my Julie</td>\n",
       "      <td>0</td>\n",
       "      <td>5</td>\n",
       "      <td>1</td>\n",
       "      <td>0</td>\n",
       "    </tr>\n",
       "    <tr>\n",
       "      <th>6</th>\n",
       "      <td>had an awsome salad! I recommend getting the S...</td>\n",
       "      <td>2</td>\n",
       "      <td>12</td>\n",
       "      <td>2</td>\n",
       "      <td>2</td>\n",
       "    </tr>\n",
       "    <tr>\n",
       "      <th>7</th>\n",
       "      <td>fine! Going to do my big walk today 20 or so ...</td>\n",
       "      <td>2</td>\n",
       "      <td>12</td>\n",
       "      <td>1</td>\n",
       "      <td>1</td>\n",
       "    </tr>\n",
       "    <tr>\n",
       "      <th>8</th>\n",
       "      <td>Thank a yoou  how are you? #TwitterTakeover</td>\n",
       "      <td>2</td>\n",
       "      <td>7</td>\n",
       "      <td>3</td>\n",
       "      <td>2</td>\n",
       "    </tr>\n",
       "    <tr>\n",
       "      <th>9</th>\n",
       "      <td>Why don't adobe realise no one WANTS to pay fo...</td>\n",
       "      <td>1</td>\n",
       "      <td>23</td>\n",
       "      <td>7</td>\n",
       "      <td>1</td>\n",
       "    </tr>\n",
       "  </tbody>\n",
       "</table>\n",
       "</div>"
      ],
      "text/plain": [
       "                                                text  ...  Special Char Count\n",
       "0  Spent the entire morning in a meeting w/ a ven...  ...                   5\n",
       "1      Oh! Good idea about putting them on ice cream  ...                   1\n",
       "2  says good (or should i say bad?) afternoon!  h...  ...                  10\n",
       "3         i dont think you can vote anymore! i tried  ...                   1\n",
       "4             haha better drunken tweeting you mean?  ...                   1\n",
       "5                       headache  wanna see my Julie  ...                   0\n",
       "6  had an awsome salad! I recommend getting the S...  ...                   2\n",
       "7   fine! Going to do my big walk today 20 or so ...  ...                   1\n",
       "8        Thank a yoou  how are you? #TwitterTakeover  ...                   2\n",
       "9  Why don't adobe realise no one WANTS to pay fo...  ...                   1\n",
       "\n",
       "[10 rows x 5 columns]"
      ]
     },
     "execution_count": 7,
     "metadata": {
      "tags": []
     },
     "output_type": "execute_result"
    }
   ],
   "source": [
    "df.head(10)"
   ]
  },
  {
   "cell_type": "code",
   "execution_count": 0,
   "metadata": {
    "colab": {},
    "colab_type": "code",
    "id": "Y4skjUfkHqxd"
   },
   "outputs": [],
   "source": [
    "# here should be shown that the descriptive statistcis (mean, median wordcount etc.) \n",
    "# are the same for all three groups."
   ]
  },
  {
   "cell_type": "code",
   "execution_count": 9,
   "metadata": {
    "colab": {
     "base_uri": "https://localhost:8080/",
     "height": 221
    },
    "colab_type": "code",
    "id": "yzWNqiZMHqxg",
    "outputId": "5294bc67-d801-4df8-9781-30d34ce3a5d8"
   },
   "outputs": [
    {
     "data": {
      "text/plain": [
       "0        Spent the entire morning in a meeting w/ a ven...\n",
       "1            Oh! Good idea about putting them on ice cream\n",
       "2        says good (or should i say bad?) afternoon!  h...\n",
       "3               i dont think you can vote anymore! i tried\n",
       "4                   haha better drunken tweeting you mean?\n",
       "                               ...                        \n",
       "27481    I want to go to VP, but no one is willing to c...\n",
       "27482                                Wah, why are you sad?\n",
       "27483    playing sudoku while mommy makes me breakfast ...\n",
       "27484                   see u bye see u!  i love the hot30\n",
       "27485           ha ha, and what game is that? i like games\n",
       "Name: text, Length: 27485, dtype: object"
      ]
     },
     "execution_count": 9,
     "metadata": {
      "tags": []
     },
     "output_type": "execute_result"
    }
   ],
   "source": [
    "df['text']"
   ]
  },
  {
   "cell_type": "code",
   "execution_count": 10,
   "metadata": {
    "colab": {
     "base_uri": "https://localhost:8080/",
     "height": 255
    },
    "colab_type": "code",
    "id": "Ci-yrZ6yHqxi",
    "outputId": "4d650334-aa78-420b-8ec4-a1de729680b8"
   },
   "outputs": [
    {
     "name": "stdout",
     "output_type": "stream",
     "text": [
      "[nltk_data] Downloading package stopwords to /root/nltk_data...\n",
      "[nltk_data]   Unzipping corpora/stopwords.zip.\n"
     ]
    },
    {
     "data": {
      "text/plain": [
       "0        [S, p, e, n,  , h, e,  , e, n, r, e,  , r, n, ...\n",
       "1        [ , O, h, !,  , G,  , e,  , b, u,  , p, u, n, ...\n",
       "2        [ , g,  , (, r,  , h, u, l,  ,  ,  , b, ?, ), ...\n",
       "3        [ ,  , n,  , h, n, k,  , u,  , c, n,  , v, e, ...\n",
       "4        [ , h, h,  , b, e, e, r,  , r, u, n, k, e, n, ...\n",
       "                               ...                        \n",
       "27481    [I,  , w, n,  ,  , g,  ,  , V, P, ,,  , b, u, ...\n",
       "27482           [ , W, h, ,,  , w, h,  , r, e,  , u,  , ?]\n",
       "27483    [p, l, n, g,  , u, k, u,  , w, h, l, e,  ,  , ...\n",
       "27484    [ , e, e,  , u,  , b, e,  , e, e,  , u, !,  , ...\n",
       "27485    [ ,  , h,  , h, ,,  , n,  , w, h,  , g, e,  , ...\n",
       "Name: text, Length: 27485, dtype: object"
      ]
     },
     "execution_count": 10,
     "metadata": {
      "tags": []
     },
     "output_type": "execute_result"
    }
   ],
   "source": [
    "import nltk\n",
    "nltk.download('stopwords')\n",
    "from nltk.corpus import stopwords\n",
    "stop = stopwords.words('english')\n",
    "df['text'].apply(lambda x: [item for item in x if item not in stop])"
   ]
  },
  {
   "cell_type": "code",
   "execution_count": 0,
   "metadata": {
    "colab": {},
    "colab_type": "code",
    "id": "mVk9twGbHqxl"
   },
   "outputs": [],
   "source": [
    "from sklearn.feature_extraction.text import TfidfVectorizer\n",
    "\n",
    "vectorizer = TfidfVectorizer()\n",
    "bow = vectorizer.fit_transform(df['text'])\n",
    "sentiment = df['sentiment']"
   ]
  },
  {
   "cell_type": "code",
   "execution_count": 12,
   "metadata": {
    "colab": {
     "base_uri": "https://localhost:8080/",
     "height": 34
    },
    "colab_type": "code",
    "id": "dH4PBY2CHqxm",
    "outputId": "efaa73b6-e7cf-4373-933b-c69a4dd666f3"
   },
   "outputs": [
    {
     "data": {
      "text/plain": [
       "26447"
      ]
     },
     "execution_count": 12,
     "metadata": {
      "tags": []
     },
     "output_type": "execute_result"
    }
   ],
   "source": [
    "len(vectorizer.get_feature_names())"
   ]
  },
  {
   "cell_type": "code",
   "execution_count": 13,
   "metadata": {
    "colab": {
     "base_uri": "https://localhost:8080/",
     "height": 34
    },
    "colab_type": "code",
    "id": "zfYgv5iKHqxo",
    "outputId": "59ad2449-0e10-4985-a9e8-f1edcca9ac9d"
   },
   "outputs": [
    {
     "data": {
      "text/plain": [
       "4454"
      ]
     },
     "execution_count": 13,
     "metadata": {
      "tags": []
     },
     "output_type": "execute_result"
    }
   ],
   "source": [
    "vectorizer = TfidfVectorizer(min_df=5)\n",
    "bow = vectorizer.fit_transform(df['text'])\n",
    "len(vectorizer.get_feature_names())"
   ]
  },
  {
   "cell_type": "code",
   "execution_count": 0,
   "metadata": {
    "colab": {},
    "colab_type": "code",
    "id": "0LODV0VMHqxq"
   },
   "outputs": [],
   "source": [
    "# Useless feature, don't run this!\n",
    "# Only getting about 0.4 accuracy with this opption turned on.\n",
    "# from sklearn.feature_selection import SelectKBest, chi2\n",
    "# select x features that have the strongest correlation to a class from the\n",
    "# remaining y features.\n",
    "# selected_features = \\\n",
    "# SelectKBest(chi2, k=3000).fit(bow, sentiment).get_support(indices=True)"
   ]
  },
  {
   "cell_type": "code",
   "execution_count": 15,
   "metadata": {
    "colab": {
     "base_uri": "https://localhost:8080/",
     "height": 51
    },
    "colab_type": "code",
    "id": "B6oWpTYrHqxs",
    "outputId": "9eff0199-6dd0-456f-c847-822232d53092"
   },
   "outputs": [
    {
     "data": {
      "text/plain": [
       "<27485x4454 sparse matrix of type '<class 'numpy.float64'>'\n",
       "\twith 285423 stored elements in Compressed Sparse Row format>"
      ]
     },
     "execution_count": 15,
     "metadata": {
      "tags": []
     },
     "output_type": "execute_result"
    }
   ],
   "source": [
    "vectorizer = TfidfVectorizer(min_df=5)\n",
    "bow = vectorizer.fit_transform(df['text'])\n",
    "bow"
   ]
  },
  {
   "cell_type": "code",
   "execution_count": 0,
   "metadata": {
    "colab": {},
    "colab_type": "code",
    "id": "B9VNYiLvHqxt"
   },
   "outputs": [],
   "source": [
    "from sklearn.model_selection import train_test_split\n",
    "\n",
    "X_train, X_test, y_train, y_test = train_test_split(bow, sentiment, test_size=0.33)"
   ]
  },
  {
   "cell_type": "code",
   "execution_count": 58,
   "metadata": {
    "cellView": "both",
    "colab": {
     "base_uri": "https://localhost:8080/",
     "height": 34
    },
    "colab_type": "code",
    "id": "1D4MbVp3Hqxv",
    "outputId": "4c669a70-c3c7-451c-981e-70f19c588213"
   },
   "outputs": [
    {
     "data": {
      "text/plain": [
       "0.6783155109690222"
      ]
     },
     "execution_count": 58,
     "metadata": {
      "tags": []
     },
     "output_type": "execute_result"
    }
   ],
   "source": [
    "# Training the classifier\n",
    "from sklearn.ensemble import RandomForestClassifier as rfc\n",
    "classifier = rfc(random_state=42, bootstrap=False)\n",
    "classifier.fit(X_train,y_train)\n",
    "classifier.score(X_test,y_test)"
   ]
  },
  {
   "cell_type": "code",
   "execution_count": 41,
   "metadata": {
    "colab": {
     "base_uri": "https://localhost:8080/",
     "height": 578
    },
    "colab_type": "code",
    "id": "9XCR-lssHqxw",
    "outputId": "009fe572-d55c-410a-e4e5-05b0fd73091b"
   },
   "outputs": [
    {
     "name": "stdout",
     "output_type": "stream",
     "text": [
      "Fitting 3 folds for each of 3 candidates, totalling 9 fits\n"
     ]
    },
    {
     "name": "stderr",
     "output_type": "stream",
     "text": [
      "[Parallel(n_jobs=-1)]: Using backend LokyBackend with 2 concurrent workers.\n",
      "[Parallel(n_jobs=-1)]: Done   9 out of   9 | elapsed: 11.9min finished\n"
     ]
    },
    {
     "data": {
      "text/plain": [
       "RandomizedSearchCV(cv=3, error_score=nan,\n",
       "                   estimator=RandomForestClassifier(bootstrap=True,\n",
       "                                                    ccp_alpha=0.0,\n",
       "                                                    class_weight=None,\n",
       "                                                    criterion='gini',\n",
       "                                                    max_depth=None,\n",
       "                                                    max_features='auto',\n",
       "                                                    max_leaf_nodes=None,\n",
       "                                                    max_samples=None,\n",
       "                                                    min_impurity_decrease=0.0,\n",
       "                                                    min_impurity_split=None,\n",
       "                                                    min_samples_leaf=1,\n",
       "                                                    min_samples_split=2,\n",
       "                                                    min_weight_fraction_leaf=0.0,\n",
       "                                                    n_estimators=100,\n",
       "                                                    n_jobs...\n",
       "                                        'max_features': ['sqrt'],\n",
       "                                        'min_samples_leaf': [16, 32],\n",
       "                                        'min_samples_split': [320, 640, 1280,\n",
       "                                                              2560],\n",
       "                                        'n_estimators': [2000, 2010, 2020, 2030,\n",
       "                                                         2040, 2050, 2060, 2070,\n",
       "                                                         2080, 2090, 2100, 2110,\n",
       "                                                         2120, 2130, 2140, 2150,\n",
       "                                                         2160, 2170, 2180, 2190,\n",
       "                                                         2201, 2211, 2221, 2231,\n",
       "                                                         2241, 2251, 2261, 2271,\n",
       "                                                         2281, 2291, ...]},\n",
       "                   pre_dispatch='2*n_jobs', random_state=42, refit=True,\n",
       "                   return_train_score=True, scoring=None, verbose=2)"
      ]
     },
     "execution_count": 41,
     "metadata": {
      "tags": []
     },
     "output_type": "execute_result"
    }
   ],
   "source": [
    "# BONUS: hyperparameter optimization\n",
    "from sklearn.model_selection import RandomizedSearchCV \n",
    "from scipy import stats\n",
    "\n",
    "# Number of trees in random forest\n",
    "n_estimators = [int(x) for x in np.linspace(start = 2000, stop = 4000, num = 200)]\n",
    "# Number of features to consider at every split\n",
    "max_features = ['sqrt']\n",
    "# Maximum number of levels in tree\n",
    "max_depth = [int(x) for x in np.linspace(100, 2000, num = 100)]\n",
    "max_depth.append(None)\n",
    "# Minimum number of samples required to split a node\n",
    "min_samples_split = [320, 640, 1280, 2560]\n",
    "# Minimum number of samples required at each leaf node\n",
    "min_samples_leaf = [16, 32]\n",
    "# Method of selecting samples for training each tree\n",
    "bootstrap = [False]\n",
    "# Create the random grid\n",
    "random_grid = {'n_estimators': n_estimators,\n",
    "               'max_features': max_features,\n",
    "               'max_depth': max_depth,\n",
    "               'min_samples_split': min_samples_split,\n",
    "               'min_samples_leaf': min_samples_leaf,\n",
    "               'bootstrap': bootstrap}\n",
    "\n",
    "classifier = rfc()\n",
    "\n",
    "random_search = RandomizedSearchCV(estimator = classifier, param_distributions = random_grid,\n",
    "                                   cv = 3, verbose = 2, random_state = 42, \n",
    "                                   n_iter=3, n_jobs= -1, return_train_score = True)\n",
    "\n",
    "random_search.fit(X_train,y_train)"
   ]
  },
  {
   "cell_type": "code",
   "execution_count": 42,
   "metadata": {
    "colab": {
     "base_uri": "https://localhost:8080/",
     "height": 119
    },
    "colab_type": "code",
    "id": "XID5-hzyHqxy",
    "outputId": "ae6e386b-63d7-4c7f-e417-c39b6058cd12"
   },
   "outputs": [
    {
     "data": {
      "text/plain": [
       "{'bootstrap': False,\n",
       " 'max_depth': 1558,\n",
       " 'max_features': 'sqrt',\n",
       " 'min_samples_leaf': 16,\n",
       " 'min_samples_split': 640,\n",
       " 'n_estimators': 3587}"
      ]
     },
     "execution_count": 42,
     "metadata": {
      "tags": []
     },
     "output_type": "execute_result"
    }
   ],
   "source": [
    "# Take the best of the 6 trained models\n",
    "random_search.best_params_"
   ]
  }
 ],
 "metadata": {
  "colab": {
   "name": "Copy of random_forests.ipynb",
   "provenance": [],
   "toc_visible": true
  },
  "kernelspec": {
   "display_name": "Python 3",
   "language": "python",
   "name": "python3"
  },
  "language_info": {
   "codemirror_mode": {
    "name": "ipython",
    "version": 3
   },
   "file_extension": ".py",
   "mimetype": "text/x-python",
   "name": "python",
   "nbconvert_exporter": "python",
   "pygments_lexer": "ipython3",
   "version": "3.7.6"
  }
 },
 "nbformat": 4,
 "nbformat_minor": 1
}
