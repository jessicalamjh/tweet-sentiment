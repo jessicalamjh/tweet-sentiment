{
 "cells": [
  {
   "cell_type": "markdown",
   "metadata": {},
   "source": [
    "# tweet-sentiment with DistilBERT\n",
    "\n",
    "In this notebook, we analyse the tweet-sentiment dataset with Google's DistilBERT model. This is a distilled version of the original BERT model, and it promises to be \"smaller, faster, cheaper, and lighter\" than BERT. Below is a comparison of *distilbert-base-uncased* against the full *bert-base-uncased* as measured on the GLUE language understanding benchmark: \n",
    "- 40% fewer parameters; \n",
    "- runs 60% faster; \n",
    "- preserves over 95% of *bert-base-uncased*'s performance. \n",
    "\n",
    "Please note that this notebook and the BERT notebook are identical except in choice of model and tokenizer. "
   ]
  },
  {
   "cell_type": "markdown",
   "metadata": {},
   "source": [
    "## 0. Set-up\n",
    "\n",
    "The first step is to load all the necessary libraries. For this project, we use the pretrained models and tokenizers provided in the Transformers library. "
   ]
  },
  {
   "cell_type": "code",
   "execution_count": 3,
   "metadata": {
    "colab": {
     "base_uri": "https://localhost:8080/",
     "height": 697
    },
    "colab_type": "code",
    "id": "nx74fjZQuGIT",
    "outputId": "6d78091a-968a-4ff0-a16c-678e3fdb6188",
    "scrolled": false
   },
   "outputs": [
    {
     "name": "stdout",
     "output_type": "stream",
     "text": [
      "Collecting transformers\n",
      "\u001b[?25l  Downloading https://files.pythonhosted.org/packages/a3/78/92cedda05552398352ed9784908b834ee32a0bd071a9b32de287327370b7/transformers-2.8.0-py3-none-any.whl (563kB)\n",
      "\u001b[K     |████████████████████████████████| 573kB 4.9MB/s \n",
      "\u001b[?25hCollecting sentencepiece\n",
      "\u001b[?25l  Downloading https://files.pythonhosted.org/packages/98/2c/8df20f3ac6c22ac224fff307ebc102818206c53fc454ecd37d8ac2060df5/sentencepiece-0.1.86-cp36-cp36m-manylinux1_x86_64.whl (1.0MB)\n",
      "\u001b[K     |████████████████████████████████| 1.0MB 19.7MB/s \n",
      "\u001b[?25hRequirement already satisfied: dataclasses; python_version < \"3.7\" in /usr/local/lib/python3.6/dist-packages (from transformers) (0.7)\n",
      "Collecting tokenizers==0.5.2\n",
      "\u001b[?25l  Downloading https://files.pythonhosted.org/packages/d1/3f/73c881ea4723e43c1e9acf317cf407fab3a278daab3a69c98dcac511c04f/tokenizers-0.5.2-cp36-cp36m-manylinux1_x86_64.whl (3.7MB)\n",
      "\u001b[K     |████████████████████████████████| 3.7MB 37.1MB/s \n",
      "\u001b[?25hRequirement already satisfied: boto3 in /usr/local/lib/python3.6/dist-packages (from transformers) (1.13.1)\n",
      "Requirement already satisfied: tqdm>=4.27 in /usr/local/lib/python3.6/dist-packages (from transformers) (4.38.0)\n",
      "Requirement already satisfied: requests in /usr/local/lib/python3.6/dist-packages (from transformers) (2.23.0)\n",
      "Requirement already satisfied: filelock in /usr/local/lib/python3.6/dist-packages (from transformers) (3.0.12)\n",
      "Requirement already satisfied: numpy in /usr/local/lib/python3.6/dist-packages (from transformers) (1.18.3)\n",
      "Requirement already satisfied: regex!=2019.12.17 in /usr/local/lib/python3.6/dist-packages (from transformers) (2019.12.20)\n",
      "Collecting sacremoses\n",
      "\u001b[?25l  Downloading https://files.pythonhosted.org/packages/7d/34/09d19aff26edcc8eb2a01bed8e98f13a1537005d31e95233fd48216eed10/sacremoses-0.0.43.tar.gz (883kB)\n",
      "\u001b[K     |████████████████████████████████| 890kB 35.5MB/s \n",
      "\u001b[?25hRequirement already satisfied: s3transfer<0.4.0,>=0.3.0 in /usr/local/lib/python3.6/dist-packages (from boto3->transformers) (0.3.3)\n",
      "Requirement already satisfied: jmespath<1.0.0,>=0.7.1 in /usr/local/lib/python3.6/dist-packages (from boto3->transformers) (0.9.5)\n",
      "Requirement already satisfied: botocore<1.17.0,>=1.16.1 in /usr/local/lib/python3.6/dist-packages (from boto3->transformers) (1.16.1)\n",
      "Requirement already satisfied: idna<3,>=2.5 in /usr/local/lib/python3.6/dist-packages (from requests->transformers) (2.9)\n",
      "Requirement already satisfied: certifi>=2017.4.17 in /usr/local/lib/python3.6/dist-packages (from requests->transformers) (2020.4.5.1)\n",
      "Requirement already satisfied: urllib3!=1.25.0,!=1.25.1,<1.26,>=1.21.1 in /usr/local/lib/python3.6/dist-packages (from requests->transformers) (1.24.3)\n",
      "Requirement already satisfied: chardet<4,>=3.0.2 in /usr/local/lib/python3.6/dist-packages (from requests->transformers) (3.0.4)\n",
      "Requirement already satisfied: six in /usr/local/lib/python3.6/dist-packages (from sacremoses->transformers) (1.12.0)\n",
      "Requirement already satisfied: click in /usr/local/lib/python3.6/dist-packages (from sacremoses->transformers) (7.1.2)\n",
      "Requirement already satisfied: joblib in /usr/local/lib/python3.6/dist-packages (from sacremoses->transformers) (0.14.1)\n",
      "Requirement already satisfied: docutils<0.16,>=0.10 in /usr/local/lib/python3.6/dist-packages (from botocore<1.17.0,>=1.16.1->boto3->transformers) (0.15.2)\n",
      "Requirement already satisfied: python-dateutil<3.0.0,>=2.1 in /usr/local/lib/python3.6/dist-packages (from botocore<1.17.0,>=1.16.1->boto3->transformers) (2.8.1)\n",
      "Building wheels for collected packages: sacremoses\n",
      "  Building wheel for sacremoses (setup.py) ... \u001b[?25l\u001b[?25hdone\n",
      "  Created wheel for sacremoses: filename=sacremoses-0.0.43-cp36-none-any.whl size=893260 sha256=fa3bb72b7566abe28e2eeec873e0abc276dfa7d84cb360f2a812d45ae10e38ee\n",
      "  Stored in directory: /root/.cache/pip/wheels/29/3c/fd/7ce5c3f0666dab31a50123635e6fb5e19ceb42ce38d4e58f45\n",
      "Successfully built sacremoses\n",
      "Installing collected packages: sentencepiece, tokenizers, sacremoses, transformers\n",
      "Successfully installed sacremoses-0.0.43 sentencepiece-0.1.86 tokenizers-0.5.2 transformers-2.8.0\n"
     ]
    },
    {
     "name": "stderr",
     "output_type": "stream",
     "text": [
      "/usr/local/lib/python3.6/dist-packages/statsmodels/tools/_testing.py:19: FutureWarning: pandas.util.testing is deprecated. Use the functions in the public API at pandas.testing instead.\n",
      "  import pandas.util.testing as tm\n"
     ]
    }
   ],
   "source": [
    "!pip install transformers \n",
    "\n",
    "import numpy as np \n",
    "import pandas as pd \n",
    "import tensorflow as tf\n",
    "import torch \n",
    "\n",
    "from sklearn.model_selection import train_test_split \n",
    "\n",
    "from torch.utils.data import TensorDataset, random_split \n",
    "from torch.utils.data import DataLoader, RandomSampler, SequentialSampler\n",
    "\n",
    "from transformers import DistilBertTokenizer\n",
    "from transformers import DistilBertForSequenceClassification, BertConfig\n",
    "from transformers import get_linear_schedule_with_warmup, AdamW\n",
    "\n",
    "import matplotlib.pyplot as plt\n",
    "import seaborn as sns\n",
    "\n",
    "import time \n",
    "import datetime\n",
    "import random"
   ]
  },
  {
   "cell_type": "markdown",
   "metadata": {},
   "source": [
    "For reproducibility purposes we also fix a seed value of 42 throughout the project. "
   ]
  },
  {
   "cell_type": "code",
   "execution_count": 1,
   "metadata": {
    "colab": {},
    "colab_type": "code",
    "id": "tjW_sWRpuGIc"
   },
   "outputs": [],
   "source": [
    "seed = 42"
   ]
  },
  {
   "cell_type": "code",
   "execution_count": 5,
   "metadata": {
    "colab": {
     "base_uri": "https://localhost:8080/",
     "height": 68
    },
    "colab_type": "code",
    "id": "anCFh6eLuGIm",
    "outputId": "8b2eb173-df0e-4f17-cc59-d7bcd995111d"
   },
   "outputs": [
    {
     "name": "stdout",
     "output_type": "stream",
     "text": [
      "Found GPU at /device:GPU:0\n",
      "There are 1 GPU(s) available\n",
      "We will use the GPU Tesla P100-PCIE-16GB\n"
     ]
    }
   ],
   "source": [
    "# check for GPU \n",
    "device_name = tf.test.gpu_device_name()\n",
    "\n",
    "if device_name == \"/device:GPU:0\":\n",
    "  print(\"Found GPU at {}\".format(device_name))\n",
    "else:\n",
    "  raise SystemError(\"GPU device not found\")\n",
    "  \n",
    "if torch.cuda.is_available():\n",
    "  device = torch.device(\"cuda\")\n",
    "  print(\"There are {} GPU(s) available\".format(torch.cuda.device_count()))\n",
    "  print(\"We will use the GPU\", torch.cuda.get_device_name(0))\n",
    "else: \n",
    "  device = torch.device(\"cpu\")\n",
    "  print(\"No GPU available, we use the CPU instead\")"
   ]
  },
  {
   "cell_type": "markdown",
   "metadata": {
    "colab_type": "text",
    "id": "Vmu-PpcFuGIt"
   },
   "source": [
    "## 1. Load the Dataset\n",
    "\n",
    "Using the functions defined in our eda module, we load and do simple cleaning of the dataset. This includes: \n",
    "- removing NA values; \n",
    "- converting the categorical variable `sentiment` to numerical values. \n",
    "\n",
    "The functions `load_dataset` and `clean_data` are copied from the eda module because of importing difficulties when using Google Colab to run the notebook."
   ]
  },
  {
   "cell_type": "code",
   "execution_count": 0,
   "metadata": {
    "colab": {},
    "colab_type": "code",
    "id": "ki8orJxuuGIu"
   },
   "outputs": [],
   "source": [
    "def load_dataset(url):\n",
    "    # load dataset \n",
    "    dat = pd.read_csv(url)\n",
    "    return pd.DataFrame(data=dat, columns=[\"text\", \"sentiment\"])\n",
    "\n",
    "def clean_dataset(df):\n",
    "    # convert sentiment (categorical) to label (numerical)\n",
    "    # negative = 0, neutral = 1, positive = 2\n",
    "    df[\"sentiment\"]  = df.sentiment.map({\"negative\": 0, \"neutral\": 1, \"positive\": 2}) \n",
    "\n",
    "    # remove missing values \n",
    "    df = df[df.text.notna()]\n",
    "    return df"
   ]
  },
  {
   "cell_type": "code",
   "execution_count": 7,
   "metadata": {
    "colab": {
     "base_uri": "https://localhost:8080/",
     "height": 221
    },
    "colab_type": "code",
    "id": "U5vyAOBnuGI0",
    "outputId": "9c3e7673-c3c7-4d47-8762-1b66cb8ee3dc",
    "scrolled": true
   },
   "outputs": [
    {
     "name": "stdout",
     "output_type": "stream",
     "text": [
      "This dataset consists of 27485 tweets.\n"
     ]
    },
    {
     "data": {
      "text/html": [
       "<div>\n",
       "<style scoped>\n",
       "    .dataframe tbody tr th:only-of-type {\n",
       "        vertical-align: middle;\n",
       "    }\n",
       "\n",
       "    .dataframe tbody tr th {\n",
       "        vertical-align: top;\n",
       "    }\n",
       "\n",
       "    .dataframe thead th {\n",
       "        text-align: right;\n",
       "    }\n",
       "</style>\n",
       "<table border=\"1\" class=\"dataframe\">\n",
       "  <thead>\n",
       "    <tr style=\"text-align: right;\">\n",
       "      <th></th>\n",
       "      <th>text</th>\n",
       "      <th>sentiment</th>\n",
       "    </tr>\n",
       "  </thead>\n",
       "  <tbody>\n",
       "    <tr>\n",
       "      <th>0</th>\n",
       "      <td>Spent the entire morning in a meeting w/ a ven...</td>\n",
       "      <td>1</td>\n",
       "    </tr>\n",
       "    <tr>\n",
       "      <th>1</th>\n",
       "      <td>Oh! Good idea about putting them on ice cream</td>\n",
       "      <td>2</td>\n",
       "    </tr>\n",
       "    <tr>\n",
       "      <th>2</th>\n",
       "      <td>says good (or should i say bad?) afternoon!  h...</td>\n",
       "      <td>1</td>\n",
       "    </tr>\n",
       "    <tr>\n",
       "      <th>3</th>\n",
       "      <td>i dont think you can vote anymore! i tried</td>\n",
       "      <td>0</td>\n",
       "    </tr>\n",
       "    <tr>\n",
       "      <th>4</th>\n",
       "      <td>haha better drunken tweeting you mean?</td>\n",
       "      <td>2</td>\n",
       "    </tr>\n",
       "  </tbody>\n",
       "</table>\n",
       "</div>"
      ],
      "text/plain": [
       "                                                text  sentiment\n",
       "0  Spent the entire morning in a meeting w/ a ven...          1\n",
       "1      Oh! Good idea about putting them on ice cream          2\n",
       "2  says good (or should i say bad?) afternoon!  h...          1\n",
       "3         i dont think you can vote anymore! i tried          0\n",
       "4             haha better drunken tweeting you mean?          2"
      ]
     },
     "execution_count": 7,
     "metadata": {
      "tags": []
     },
     "output_type": "execute_result"
    }
   ],
   "source": [
    "df = load_dataset(url=\"https://raw.github.com/ant1code/tweet-sentiment/master/data/train.csv\")\n",
    "\n",
    "# clean the data: remove na, convert categorical to numerical\n",
    "df = clean_dataset(df)\n",
    "\n",
    "print(f\"This dataset consists of {len(df)} tweets.\")\n",
    "df.head()"
   ]
  },
  {
   "cell_type": "markdown",
   "metadata": {
    "colab_type": "text",
    "id": "_Pwi5H7CuGI5"
   },
   "source": [
    "## 2. Data Processing \n",
    "\n",
    "We have already verified that the dataset is balanced, so we go straight into the processing of the data. Note that for BERT models (and its variants), there are very specific formatting requirements for the input: \n",
    "- all tweets must have (or be padded to) the same length; \n",
    "- all tweets require special tokens to separate sentences and for padding; \n",
    "- each tweet has an *attention mask* that indicates where real tokens end and padding tokens begin. \n",
    "\n",
    "This part is somewhat involved, so we first work with the following made-up tweet to explain the details. "
   ]
  },
  {
   "cell_type": "code",
   "execution_count": 0,
   "metadata": {
    "colab": {},
    "colab_type": "code",
    "id": "vpuDpY5quGI6"
   },
   "outputs": [],
   "source": [
    "tweet = \"I'm in LOVE with this game! It makes me happy @nintendo\" "
   ]
  },
  {
   "cell_type": "markdown",
   "metadata": {
    "colab_type": "text",
    "id": "M6xGj7mOuGJE"
   },
   "source": [
    "The first step is to load a pretrained DistilBERT tokenizer: "
   ]
  },
  {
   "cell_type": "code",
   "execution_count": 9,
   "metadata": {
    "colab": {
     "base_uri": "https://localhost:8080/",
     "height": 66,
     "referenced_widgets": [
      "aaaa4a01be514e3596d979efb3349cb9",
      "1bbe3ff82e3441889ee50dd8db263ec1",
      "418e00f0073741b88a96cbed72890f9f",
      "fb150cc3632c46a68ca457a578049726",
      "0b7781e935314ccd9a983f0fffe8a47f",
      "4759fa9657cc4de7bdfe5881828a6294",
      "5ae69ce0f811454b88b1e32f4fd3c511",
      "e57ef0bad00a4de5ad2a0f934f0dc702"
     ]
    },
    "colab_type": "code",
    "id": "42KnWM-4uGJF",
    "outputId": "b6c5117f-03de-47c3-dad3-b7ead82aef7d"
   },
   "outputs": [
    {
     "data": {
      "application/vnd.jupyter.widget-view+json": {
       "model_id": "aaaa4a01be514e3596d979efb3349cb9",
       "version_major": 2,
       "version_minor": 0
      },
      "text/plain": [
       "HBox(children=(IntProgress(value=0, description='Downloading', max=231508, style=ProgressStyle(description_wid…"
      ]
     },
     "metadata": {
      "tags": []
     },
     "output_type": "display_data"
    },
    {
     "name": "stdout",
     "output_type": "stream",
     "text": [
      "\n"
     ]
    }
   ],
   "source": [
    "tokenizer = DistilBertTokenizer.from_pretrained(\"distilbert-base-uncased\") "
   ]
  },
  {
   "cell_type": "markdown",
   "metadata": {
    "colab_type": "text",
    "id": "rohs8hp6uGJK"
   },
   "source": [
    "Using this tokenizer, we can convert the words in our tweet to tokens, then assign unique integers (token ids) to these tokens: "
   ]
  },
  {
   "cell_type": "code",
   "execution_count": 10,
   "metadata": {
    "colab": {
     "base_uri": "https://localhost:8080/",
     "height": 68
    },
    "colab_type": "code",
    "id": "8o05hI0SuGJL",
    "outputId": "49bb36d9-0897-41ff-86e6-776bb819978d"
   },
   "outputs": [
    {
     "name": "stdout",
     "output_type": "stream",
     "text": [
      "Text: I'm in LOVE with this game! It makes me happy @nintendo\n",
      "Tokens: ['i', \"'\", 'm', 'in', 'love', 'with', 'this', 'game', '!', 'it', 'makes', 'me', 'happy', '@', 'nintendo']\n",
      "Token IDs: [1045, 1005, 1049, 1999, 2293, 2007, 2023, 2208, 999, 2009, 3084, 2033, 3407, 1030, 10022]\n"
     ]
    }
   ],
   "source": [
    "tokens = tokenizer.tokenize(tweet)\n",
    "token_ids = tokenizer.convert_tokens_to_ids(tokens)\n",
    "\n",
    "print(f\"Text: {tweet}\")\n",
    "print(f\"Tokens: {tokens}\")\n",
    "print(f\"Token IDs: {token_ids}\")"
   ]
  },
  {
   "cell_type": "markdown",
   "metadata": {
    "colab_type": "text",
    "id": "4z_HUymIuGJT"
   },
   "source": [
    "The next step is to add special tokens to the tweet. These special tokens (and their token ids) are: \n",
    "- `[CLS], 101`: to specify the start of a sentence and to tell DistilBERT that we are doing classification\n",
    "- `[SEP], 102`: to specify the end of a sentence \n",
    "- `[PAD], 0`  : used to pad all tweets to the same length \n",
    "\n",
    "This step can be accomplished easily with the help of the `encode_plus()` method like so: "
   ]
  },
  {
   "cell_type": "code",
   "execution_count": 11,
   "metadata": {
    "colab": {
     "base_uri": "https://localhost:8080/",
     "height": 34
    },
    "colab_type": "code",
    "id": "2JMFe4MouGJU",
    "outputId": "e547ca0b-f45e-48a8-af37-fba8ec23837b"
   },
   "outputs": [
    {
     "name": "stdout",
     "output_type": "stream",
     "text": [
      "[101, 1045, 1005, 1049, 1999, 2293, 2007, 2023, 2208, 999, 2009, 3084, 2033, 3407, 1030, 10022, 102, 0, 0, 0]\n"
     ]
    }
   ],
   "source": [
    "encoded_dict = tokenizer.encode_plus(\n",
    "    tweet, add_special_tokens=True, max_length=20, \n",
    "    pad_to_max_length=True\n",
    ")\n",
    "\n",
    "print(encoded_dict[\"input_ids\"])"
   ]
  },
  {
   "cell_type": "markdown",
   "metadata": {
    "colab_type": "text",
    "id": "6_zltnHXuGJZ"
   },
   "source": [
    "The final step is to make an attention mask for the tokenized tweet, which is a list of zeros and ones that represent whether or not the respective token is a real token or a padding token. This can also be done with the `encode_plus` function: "
   ]
  },
  {
   "cell_type": "code",
   "execution_count": 12,
   "metadata": {
    "colab": {
     "base_uri": "https://localhost:8080/",
     "height": 51
    },
    "colab_type": "code",
    "id": "npBKeGmHuGJg",
    "outputId": "1719a475-52ef-4bb5-82f7-fff4cbe67da9"
   },
   "outputs": [
    {
     "name": "stdout",
     "output_type": "stream",
     "text": [
      "[101, 1045, 1005, 1049, 1999, 2293, 2007, 2023, 2208, 999, 2009, 3084, 2033, 3407, 1030, 10022, 102, 0, 0, 0]\n",
      "[1, 1, 1, 1, 1, 1, 1, 1, 1, 1, 1, 1, 1, 1, 1, 1, 1, 0, 0, 0]\n"
     ]
    }
   ],
   "source": [
    "encoded_dict = tokenizer.encode_plus(\n",
    "    tweet, add_special_tokens=True, max_length=20, \n",
    "    pad_to_max_length=True, return_attention_mask=True\n",
    ")\n",
    "\n",
    "print(encoded_dict[\"input_ids\"])\n",
    "print(encoded_dict[\"attention_mask\"])"
   ]
  },
  {
   "cell_type": "markdown",
   "metadata": {
    "colab_type": "text",
    "id": "CercQDjeuGJo"
   },
   "source": [
    "The tokenization of a single tweet is a simple process. however when dealing with an entire dataset, it is important to have a suitable value for the `max_length` parameter; once fixed, Bert (and its variants) will only be able to work with sequences with no more than `max_length` many tokens. \n",
    "\n",
    "Let us plot the distribution of number of tokens in the entire dataset: "
   ]
  },
  {
   "cell_type": "code",
   "execution_count": 13,
   "metadata": {
    "colab": {
     "base_uri": "https://localhost:8080/",
     "height": 51
    },
    "colab_type": "code",
    "id": "enLMZKm-uGJp",
    "outputId": "4131d8a7-837d-4383-9705-a5a5da1a5144"
   },
   "outputs": [
    {
     "name": "stdout",
     "output_type": "stream",
     "text": [
      "The highest number of tokens in the entire dataset is 110.\n",
      "There are 2 tweets with more than 80 tokens.\n"
     ]
    }
   ],
   "source": [
    "token_lengths = []\n",
    "\n",
    "max_tokens = 0\n",
    "count_more_than_80 = 0\n",
    "for text in df.text: \n",
    "    tokens = tokenizer.encode(text, max_length=160)\n",
    "    n = len(tokens)\n",
    "    token_lengths.append(n)\n",
    "    \n",
    "    if n > 80: count_more_than_80 += 1\n",
    "    if n > max_tokens: max_tokens = n\n",
    "    \n",
    "print(f\"The highest number of tokens in the entire dataset is {max_tokens}.\")\n",
    "print(f\"There are {count_more_than_80} tweets with more than 80 tokens.\")"
   ]
  },
  {
   "cell_type": "code",
   "execution_count": 14,
   "metadata": {
    "colab": {
     "base_uri": "https://localhost:8080/",
     "height": 1000
    },
    "colab_type": "code",
    "id": "hqTYNikNuGJw",
    "outputId": "b92080ba-668e-4e18-e67f-92b88aa885d7"
   },
   "outputs": [
    {
     "data": {
      "image/png": "[encoded data removed]",
      "text/plain": [
       "<Figure size 3600x2160 with 1 Axes>"
      ]
     },
     "metadata": {
      "tags": []
     },
     "output_type": "display_data"
    }
   ],
   "source": [
    "# plot token lengths \n",
    "plt.style.use([\"seaborn\"])\n",
    "plt.figure(figsize=(50,30))\n",
    "\n",
    "sns.distplot(token_lengths)\n",
    "\n",
    "plt.title(\"Frequency Distribution of Number of Tokens\", fontsize=80)\n",
    "plt.xlabel(\"Number of tokens\", fontsize=50)\n",
    "plt.xticks(fontsize=50)\n",
    "plt.ylabel(\"Frequency\", fontsize=50)\n",
    "plt.yticks(fontsize=50)\n",
    "\n",
    "plt.show()"
   ]
  },
  {
   "cell_type": "markdown",
   "metadata": {
    "colab_type": "text",
    "id": "NYUD26uNuGJ4"
   },
   "source": [
    "Most tweets have fewer than 60 tokens, but there are two tweets with more than 80 tokens, and the highest number of tokens is 110. To avoid changing the dataset too much we leave the dataset as-is. For future projects, removing these two tweets may be a good idea as the resulting DistilBert model would be smaller and less complex, and fewer padding tokens would be needed. \n",
    "\n",
    "Having analysed our dataset, we can safely set a maximum length of 120 tokens (to be on the safe side) and proceed with tokenizing all tweets. "
   ]
  },
  {
   "cell_type": "code",
   "execution_count": 0,
   "metadata": {
    "colab": {},
    "colab_type": "code",
    "id": "w1PPh1GFuGJ5"
   },
   "outputs": [],
   "source": [
    "token_ids = [] \n",
    "attention_masks = []\n",
    "\n",
    "for text in df.text:\n",
    "  encoded_dict = tokenizer.encode_plus(\n",
    "      text, add_special_tokens=True, max_length=120,\n",
    "      pad_to_max_length=True, return_attention_mask=True, return_tensors=\"pt\"\n",
    "  )\n",
    "\n",
    "  token_ids.append(encoded_dict[\"input_ids\"])\n",
    "  attention_masks.append(encoded_dict[\"attention_mask\"])"
   ]
  },
  {
   "cell_type": "code",
   "execution_count": 0,
   "metadata": {
    "colab": {},
    "colab_type": "code",
    "id": "A_lISd6TuGJ-"
   },
   "outputs": [],
   "source": [
    "# create torch tensors size(train_set) x max_length\n",
    "token_ids = torch.cat(token_ids, dim=0)\n",
    "attention_masks = torch.cat(attention_masks, dim=0)"
   ]
  },
  {
   "cell_type": "markdown",
   "metadata": {
    "colab_type": "text",
    "id": "fzwpM2n7uGKI"
   },
   "source": [
    "Now that all data preprocessing is complete, it remains to split the dataset into train, validation, and test sets. We also make use of data loaders, which help reduce RAM usage by loading data in batches instead of all at once. "
   ]
  },
  {
   "cell_type": "code",
   "execution_count": 17,
   "metadata": {
    "colab": {
     "base_uri": "https://localhost:8080/",
     "height": 34
    },
    "colab_type": "code",
    "id": "-SKvng6PuGKK",
    "outputId": "b1156c9b-30f3-4032-e08d-0bc19a4ac4fa"
   },
   "outputs": [
    {
     "name": "stdout",
     "output_type": "stream",
     "text": [
      "The training, validation, and testing sets consist of 16491, 5497, and 5497 tweets respectively.\n"
     ]
    }
   ],
   "source": [
    "labels = torch.tensor(df.sentiment.values) \n",
    "dataset = TensorDataset(token_ids, attention_masks, labels)\n",
    "\n",
    "# split into train, validation, test sets (60-20-20)\n",
    "train_dataset, remainder = train_test_split(dataset, test_size=0.4, random_state=seed)\n",
    "valid_dataset, test_dataset = train_test_split(remainder, test_size=0.5, random_state=seed)\n",
    "\n",
    "print(f\"The training, validation, and testing sets consist of {len(train_dataset)}, {len(valid_dataset)}, and {len(test_dataset)} tweets respectively.\")"
   ]
  },
  {
   "cell_type": "code",
   "execution_count": 0,
   "metadata": {
    "colab": {},
    "colab_type": "code",
    "id": "ZUhAl6HAuGKP"
   },
   "outputs": [],
   "source": [
    "# create train, validation, test dataloaders\n",
    "batch_size = 32\n",
    "\n",
    "train_dataloader = DataLoader(\n",
    "    train_dataset, sampler=RandomSampler(train_dataset), batch_size=batch_size\n",
    ")\n",
    "\n",
    "valid_dataloader = DataLoader(\n",
    "    valid_dataset, sampler=SequentialSampler(valid_dataset), batch_size=batch_size\n",
    ")\n",
    "\n",
    "test_dataloader = DataLoader(\n",
    "    test_dataset, sampler=SequentialSampler(test_dataset), batch_size=batch_size\n",
    ")"
   ]
  },
  {
   "cell_type": "markdown",
   "metadata": {
    "colab_type": "text",
    "id": "WyvtMcv7uGKX"
   },
   "source": [
    "## 4. Fine-Tuning DistilBERT\n",
    "\n",
    "The main point of this part is the training loop, which is used to fine-tune a pretrained DistilBERT model to our dataset. "
   ]
  },
  {
   "cell_type": "code",
   "execution_count": 19,
   "metadata": {
    "colab": {
     "base_uri": "https://localhost:8080/",
     "height": 115,
     "referenced_widgets": [
      "6a6b465fda1b4943880e1f53bd2f7ecd",
      "cd83a0f06eb34f799f00efdd328d54c8",
      "597ec97daa5b45ef9d38a22b32e596cf",
      "507afd284abc4e3c8bebf6ac7754bcea",
      "b01ba53ff1ac4092bc779d8c3ffca356",
      "6ff6a9dc38fe49daaa4621f26d8934c1",
      "388b89c211b54d7797aba0ca5534f546",
      "d66b88e67c1d441d87e1e2fdcfdcada7",
      "52e8fb5dd74a452fb2769892a902c12e",
      "15d9df83c8784863b1591c0135bb8780",
      "d8e8128e51b34fd4ba191c7769b5a1f9",
      "8dc341e4832940118c50b05d1a325c22",
      "6c0e797fbb7341c8b58d9b3c99255c4c",
      "2f6348d7a82840bf8011b69dc04f7855",
      "9018d9bec1204ec7af6439a5f932994a",
      "db7db5c4be444e61a414e53d619fcb65"
     ]
    },
    "colab_type": "code",
    "id": "YMRUOJONuGKZ",
    "outputId": "42b01132-9f80-4a84-8fb2-337cb3ef66b4"
   },
   "outputs": [
    {
     "data": {
      "application/vnd.jupyter.widget-view+json": {
       "model_id": "6a6b465fda1b4943880e1f53bd2f7ecd",
       "version_major": 2,
       "version_minor": 0
      },
      "text/plain": [
       "HBox(children=(IntProgress(value=0, description='Downloading', max=442, style=ProgressStyle(description_width=…"
      ]
     },
     "metadata": {
      "tags": []
     },
     "output_type": "display_data"
    },
    {
     "name": "stdout",
     "output_type": "stream",
     "text": [
      "\n"
     ]
    },
    {
     "data": {
      "application/vnd.jupyter.widget-view+json": {
       "model_id": "52e8fb5dd74a452fb2769892a902c12e",
       "version_major": 2,
       "version_minor": 0
      },
      "text/plain": [
       "HBox(children=(IntProgress(value=0, description='Downloading', max=267967963, style=ProgressStyle(description_…"
      ]
     },
     "metadata": {
      "tags": []
     },
     "output_type": "display_data"
    },
    {
     "name": "stdout",
     "output_type": "stream",
     "text": [
      "\n"
     ]
    }
   ],
   "source": [
    "model = DistilBertForSequenceClassification.from_pretrained(\n",
    "    \"distilbert-base-uncased\", num_labels=3, output_attentions=False, output_hidden_states=False\n",
    ")"
   ]
  },
  {
   "cell_type": "markdown",
   "metadata": {
    "colab_type": "text",
    "id": "nxoN3C1_uGKd"
   },
   "source": [
    "The following command puts the model on the current GPU device, which was set at the beginning of this notebook. Doing this allows us to make use of sophisticated parallel computing architecture to speed up computations and therefore train the model more efficiently. "
   ]
  },
  {
   "cell_type": "code",
   "execution_count": 20,
   "metadata": {
    "colab": {
     "base_uri": "https://localhost:8080/",
     "height": 1000
    },
    "colab_type": "code",
    "id": "lUSyAmGQuGKe",
    "outputId": "54218e31-8a57-4ebe-92b3-93e6f9d1096e"
   },
   "outputs": [
    {
     "data": {
      "text/plain": [
       "DistilBertForSequenceClassification(\n",
       "  (distilbert): DistilBertModel(\n",
       "    (embeddings): Embeddings(\n",
       "      (word_embeddings): Embedding(30522, 768, padding_idx=0)\n",
       "      (position_embeddings): Embedding(512, 768)\n",
       "      (LayerNorm): LayerNorm((768,), eps=1e-12, elementwise_affine=True)\n",
       "      (dropout): Dropout(p=0.1, inplace=False)\n",
       "    )\n",
       "    (transformer): Transformer(\n",
       "      (layer): ModuleList(\n",
       "        (0): TransformerBlock(\n",
       "          (attention): MultiHeadSelfAttention(\n",
       "            (dropout): Dropout(p=0.1, inplace=False)\n",
       "            (q_lin): Linear(in_features=768, out_features=768, bias=True)\n",
       "            (k_lin): Linear(in_features=768, out_features=768, bias=True)\n",
       "            (v_lin): Linear(in_features=768, out_features=768, bias=True)\n",
       "            (out_lin): Linear(in_features=768, out_features=768, bias=True)\n",
       "          )\n",
       "          (sa_layer_norm): LayerNorm((768,), eps=1e-12, elementwise_affine=True)\n",
       "          (ffn): FFN(\n",
       "            (dropout): Dropout(p=0.1, inplace=False)\n",
       "            (lin1): Linear(in_features=768, out_features=3072, bias=True)\n",
       "            (lin2): Linear(in_features=3072, out_features=768, bias=True)\n",
       "          )\n",
       "          (output_layer_norm): LayerNorm((768,), eps=1e-12, elementwise_affine=True)\n",
       "        )\n",
       "        (1): TransformerBlock(\n",
       "          (attention): MultiHeadSelfAttention(\n",
       "            (dropout): Dropout(p=0.1, inplace=False)\n",
       "            (q_lin): Linear(in_features=768, out_features=768, bias=True)\n",
       "            (k_lin): Linear(in_features=768, out_features=768, bias=True)\n",
       "            (v_lin): Linear(in_features=768, out_features=768, bias=True)\n",
       "            (out_lin): Linear(in_features=768, out_features=768, bias=True)\n",
       "          )\n",
       "          (sa_layer_norm): LayerNorm((768,), eps=1e-12, elementwise_affine=True)\n",
       "          (ffn): FFN(\n",
       "            (dropout): Dropout(p=0.1, inplace=False)\n",
       "            (lin1): Linear(in_features=768, out_features=3072, bias=True)\n",
       "            (lin2): Linear(in_features=3072, out_features=768, bias=True)\n",
       "          )\n",
       "          (output_layer_norm): LayerNorm((768,), eps=1e-12, elementwise_affine=True)\n",
       "        )\n",
       "        (2): TransformerBlock(\n",
       "          (attention): MultiHeadSelfAttention(\n",
       "            (dropout): Dropout(p=0.1, inplace=False)\n",
       "            (q_lin): Linear(in_features=768, out_features=768, bias=True)\n",
       "            (k_lin): Linear(in_features=768, out_features=768, bias=True)\n",
       "            (v_lin): Linear(in_features=768, out_features=768, bias=True)\n",
       "            (out_lin): Linear(in_features=768, out_features=768, bias=True)\n",
       "          )\n",
       "          (sa_layer_norm): LayerNorm((768,), eps=1e-12, elementwise_affine=True)\n",
       "          (ffn): FFN(\n",
       "            (dropout): Dropout(p=0.1, inplace=False)\n",
       "            (lin1): Linear(in_features=768, out_features=3072, bias=True)\n",
       "            (lin2): Linear(in_features=3072, out_features=768, bias=True)\n",
       "          )\n",
       "          (output_layer_norm): LayerNorm((768,), eps=1e-12, elementwise_affine=True)\n",
       "        )\n",
       "        (3): TransformerBlock(\n",
       "          (attention): MultiHeadSelfAttention(\n",
       "            (dropout): Dropout(p=0.1, inplace=False)\n",
       "            (q_lin): Linear(in_features=768, out_features=768, bias=True)\n",
       "            (k_lin): Linear(in_features=768, out_features=768, bias=True)\n",
       "            (v_lin): Linear(in_features=768, out_features=768, bias=True)\n",
       "            (out_lin): Linear(in_features=768, out_features=768, bias=True)\n",
       "          )\n",
       "          (sa_layer_norm): LayerNorm((768,), eps=1e-12, elementwise_affine=True)\n",
       "          (ffn): FFN(\n",
       "            (dropout): Dropout(p=0.1, inplace=False)\n",
       "            (lin1): Linear(in_features=768, out_features=3072, bias=True)\n",
       "            (lin2): Linear(in_features=3072, out_features=768, bias=True)\n",
       "          )\n",
       "          (output_layer_norm): LayerNorm((768,), eps=1e-12, elementwise_affine=True)\n",
       "        )\n",
       "        (4): TransformerBlock(\n",
       "          (attention): MultiHeadSelfAttention(\n",
       "            (dropout): Dropout(p=0.1, inplace=False)\n",
       "            (q_lin): Linear(in_features=768, out_features=768, bias=True)\n",
       "            (k_lin): Linear(in_features=768, out_features=768, bias=True)\n",
       "            (v_lin): Linear(in_features=768, out_features=768, bias=True)\n",
       "            (out_lin): Linear(in_features=768, out_features=768, bias=True)\n",
       "          )\n",
       "          (sa_layer_norm): LayerNorm((768,), eps=1e-12, elementwise_affine=True)\n",
       "          (ffn): FFN(\n",
       "            (dropout): Dropout(p=0.1, inplace=False)\n",
       "            (lin1): Linear(in_features=768, out_features=3072, bias=True)\n",
       "            (lin2): Linear(in_features=3072, out_features=768, bias=True)\n",
       "          )\n",
       "          (output_layer_norm): LayerNorm((768,), eps=1e-12, elementwise_affine=True)\n",
       "        )\n",
       "        (5): TransformerBlock(\n",
       "          (attention): MultiHeadSelfAttention(\n",
       "            (dropout): Dropout(p=0.1, inplace=False)\n",
       "            (q_lin): Linear(in_features=768, out_features=768, bias=True)\n",
       "            (k_lin): Linear(in_features=768, out_features=768, bias=True)\n",
       "            (v_lin): Linear(in_features=768, out_features=768, bias=True)\n",
       "            (out_lin): Linear(in_features=768, out_features=768, bias=True)\n",
       "          )\n",
       "          (sa_layer_norm): LayerNorm((768,), eps=1e-12, elementwise_affine=True)\n",
       "          (ffn): FFN(\n",
       "            (dropout): Dropout(p=0.1, inplace=False)\n",
       "            (lin1): Linear(in_features=768, out_features=3072, bias=True)\n",
       "            (lin2): Linear(in_features=3072, out_features=768, bias=True)\n",
       "          )\n",
       "          (output_layer_norm): LayerNorm((768,), eps=1e-12, elementwise_affine=True)\n",
       "        )\n",
       "      )\n",
       "    )\n",
       "  )\n",
       "  (pre_classifier): Linear(in_features=768, out_features=768, bias=True)\n",
       "  (classifier): Linear(in_features=768, out_features=3, bias=True)\n",
       "  (dropout): Dropout(p=0.2, inplace=False)\n",
       ")"
      ]
     },
     "execution_count": 20,
     "metadata": {
      "tags": []
     },
     "output_type": "execute_result"
    }
   ],
   "source": [
    "model.cuda()"
   ]
  },
  {
   "cell_type": "markdown",
   "metadata": {
    "colab_type": "text",
    "id": "W9zbq736uGKl"
   },
   "source": [
    "Before going into the fine-tuning process, we have to take care of a few more details, namely: \n",
    "- loss function \n",
    "- optimization algorithm \n",
    "- scheduler\n",
    "\n",
    "The choice of loss function is straightforward; since the problem is one of classification, we can simply use the accuracy of predictions as a loss function: "
   ]
  },
  {
   "cell_type": "code",
   "execution_count": 0,
   "metadata": {
    "colab": {},
    "colab_type": "code",
    "id": "uQXZe8giuGKm"
   },
   "outputs": [],
   "source": [
    "def flat_accuracy(logits, labels):\n",
    "  # let prediction be the logit with highest value \n",
    "  pred_flat = np.argmax(logits, axis=1).flatten()\n",
    "  labels_flat = labels.flatten()\n",
    "  return np.sum(pred_flat == labels_flat) / len(labels_flat)"
   ]
  },
  {
   "cell_type": "markdown",
   "metadata": {
    "colab_type": "text",
    "id": "o62o0uuauGKs"
   },
   "source": [
    "Next, we choose an optimization algorithm, which are meant to help in minimizing the loss function. There are many good algorithms to choose from, but for this project, we opt for a variant of the well-known Adam optimization algorithm that is known to be suitable for fine-tuning models:  "
   ]
  },
  {
   "cell_type": "code",
   "execution_count": 0,
   "metadata": {
    "colab": {},
    "colab_type": "code",
    "id": "v9FHIZkMuGKs"
   },
   "outputs": [],
   "source": [
    "optimizer = AdamW(\n",
    "    model.parameters(), lr=2e-5, eps=1e-8\n",
    ") "
   ]
  },
  {
   "cell_type": "markdown",
   "metadata": {
    "colab_type": "text",
    "id": "Jpt4nInfuGKx"
   },
   "source": [
    "For the scheduler, we choose a linear schedule with warmup steps. The idea is that initial steps should be large because it is unlikely that we start near the minima, but as time goes on and we approach the minima, the steps taken should be smaller so that we can converge towards it. \n",
    "\n",
    "As recommended by the authors of Bert, the number of epochs is set to 3. (It turns out that even just 3 epochs results in overfitting of the model, and ultimately we will only fine-tune over 2 epochs.)"
   ]
  },
  {
   "cell_type": "code",
   "execution_count": 0,
   "metadata": {
    "colab": {},
    "colab_type": "code",
    "id": "JeBHXpZ5uGKz"
   },
   "outputs": [],
   "source": [
    "n_epochs = 3\n",
    "total_steps = len(train_dataloader) * n_epochs\n",
    "\n",
    "scheduler = get_linear_schedule_with_warmup(\n",
    "    optimizer, num_warmup_steps=0, num_training_steps=total_steps\n",
    ")"
   ]
  },
  {
   "cell_type": "markdown",
   "metadata": {
    "colab_type": "text",
    "id": "Qmm3849QuGK8"
   },
   "source": [
    "We are finally ready for fine-tuning the DistilBERT model on our dataset! This involves: \n",
    "- letting the model train on the train set; \n",
    "- evaluating the model on the validation set;\n",
    "- repeating the above for 2 more epochs"
   ]
  },
  {
   "cell_type": "code",
   "execution_count": 0,
   "metadata": {
    "colab": {},
    "colab_type": "code",
    "id": "TPOhC_iKuGK9"
   },
   "outputs": [],
   "source": [
    "# for nicer formatting\n",
    "def format_time(elapsed):\n",
    "  elapsed_rounded = int(round(elapsed)) \n",
    "  return str(datetime.timedelta(seconds=elapsed_rounded))\n",
    "\n",
    "# for reproducibility purposes \n",
    "random.seed(seed)\n",
    "np.random.seed(seed)\n",
    "torch.manual_seed(seed)\n",
    "torch.cuda.manual_seed_all(seed)"
   ]
  },
  {
   "cell_type": "code",
   "execution_count": 25,
   "metadata": {
    "colab": {
     "base_uri": "https://localhost:8080/",
     "height": 952
    },
    "colab_type": "code",
    "id": "K7VS323iuGLA",
    "outputId": "d744fa24-e623-483e-cf42-20f90aa9f1aa"
   },
   "outputs": [
    {
     "name": "stdout",
     "output_type": "stream",
     "text": [
      "\n",
      "=============== Epoch 1 / 3 ===============\n",
      "Training...\n"
     ]
    },
    {
     "name": "stderr",
     "output_type": "stream",
     "text": [
      "/pytorch/torch/csrc/utils/python_arg_parser.cpp:756: UserWarning: This overload of add_ is deprecated:\n",
      "\tadd_(Number alpha, Tensor other)\n",
      "Consider using one of the following signatures instead:\n",
      "\tadd_(Tensor other, *, Number alpha)\n"
     ]
    },
    {
     "name": "stdout",
     "output_type": "stream",
     "text": [
      "  batch   100 of   516;    elapsed: 0:00:19\n",
      "  batch   200 of   516;    elapsed: 0:00:38\n",
      "  batch   300 of   516;    elapsed: 0:00:56\n",
      "  batch   400 of   516;    elapsed: 0:01:15\n",
      "  batch   500 of   516;    elapsed: 0:01:33\n",
      "\n",
      "  average training loss: 0.64\n",
      "  time taken for training: 0:01:36\n",
      "\n",
      "Running validation...\n",
      "  accuracy: 0.77\n",
      "  validation loss: 0.56\n",
      "  time taken for validation: 0:00:10\n",
      "\n",
      "=============== Epoch 2 / 3 ===============\n",
      "Training...\n",
      "  batch   100 of   516;    elapsed: 0:00:19\n",
      "  batch   200 of   516;    elapsed: 0:00:37\n",
      "  batch   300 of   516;    elapsed: 0:00:56\n",
      "  batch   400 of   516;    elapsed: 0:01:14\n",
      "  batch   500 of   516;    elapsed: 0:01:33\n",
      "\n",
      "  average training loss: 0.45\n",
      "  time taken for training: 0:01:36\n",
      "\n",
      "Running validation...\n",
      "  accuracy: 0.79\n",
      "  validation loss: 0.56\n",
      "  time taken for validation: 0:00:10\n",
      "\n",
      "=============== Epoch 3 / 3 ===============\n",
      "Training...\n",
      "  batch   100 of   516;    elapsed: 0:00:19\n",
      "  batch   200 of   516;    elapsed: 0:00:37\n",
      "  batch   300 of   516;    elapsed: 0:00:56\n",
      "  batch   400 of   516;    elapsed: 0:01:14\n",
      "  batch   500 of   516;    elapsed: 0:01:33\n",
      "\n",
      "  average training loss: 0.37\n",
      "  time taken for training: 0:01:36\n",
      "\n",
      "Running validation...\n",
      "  accuracy: 0.78\n",
      "  validation loss: 0.58\n",
      "  time taken for validation: 0:00:10\n",
      "\n",
      "Training is complete.\n",
      "Training time: 0:05:17\n"
     ]
    }
   ],
   "source": [
    "# main training loop \n",
    "training_stats = []\n",
    "total_t0 = time.time()\n",
    "\n",
    "for epoch_i in range(0, n_epochs): \n",
    "  print(\"\")\n",
    "  print(\"=============== Epoch {:} / {:} ===============\".format(epoch_i+1, n_epochs))\n",
    "  print(\"Training...\")\n",
    "\n",
    "  t0 = time.time()\n",
    "  total_train_loss = 0\n",
    "\n",
    "  # put model in training mode \n",
    "  model.train() \n",
    "  \n",
    "  for step, batch in enumerate(train_dataloader):\n",
    "    # unpack input and labels \n",
    "    b_input_ids  = batch[0].to(device)\n",
    "    b_input_mask = batch[1].to(device)\n",
    "    b_labels     = batch[2].to(device)\n",
    "\n",
    "    # clear previously calculated gradients - must be done before backward pass! \n",
    "    model.zero_grad()\n",
    "\n",
    "    # forward pass to evaluate model on this batch \n",
    "    loss, logits = model(\n",
    "        input_ids      = b_input_ids, \n",
    "        attention_mask = b_input_mask, \n",
    "        labels         = b_labels.long() \n",
    "    ) \n",
    "\n",
    "    # increment by this batch's training loss \n",
    "    total_train_loss += loss.item() \n",
    "\n",
    "    # backward pass to calculate gradients \n",
    "    loss.backward() \n",
    "\n",
    "    # limit gradients to 1.0 to avoid infinite gradients \n",
    "    torch.nn.utils.clip_grad_norm_(model.parameters(), 1.0)\n",
    "\n",
    "    # update parameters (according to optimizer) \n",
    "    optimizer.step() \n",
    "    \n",
    "    # update learning rate (according to scheduler)\n",
    "    scheduler.step() \n",
    "\n",
    "    # print training progress every 100 batches \n",
    "    if step % 100 == 0 and not step == 0:\n",
    "      elapsed = format_time(time.time() - t0)\n",
    "      print(\"  batch {:>5,} of {:>5,};    elapsed: {:}\".format(step, len(train_dataloader), elapsed))\n",
    "\n",
    "  # average training loss for this epoch \n",
    "  avg_train_loss = total_train_loss / len(train_dataloader)\n",
    "  \n",
    "  # time taken for training in this epoch\n",
    "  training_time = format_time(time.time() - t0)\n",
    "\n",
    "  print(\"\")\n",
    "  print(\"  average training loss: {0:.2f}\".format(avg_train_loss))\n",
    "  print(\"  time taken for training: {:}\".format(training_time))\n",
    "\n",
    "  print(\"\")\n",
    "  print(\"Running validation...\")\n",
    "\n",
    "  t0 = time.time() \n",
    "  total_eval_accuracy = 0\n",
    "  total_eval_loss = 0 \n",
    "  nb_eval_steps = 0 \n",
    "\n",
    "  # put model in evaluation mode\n",
    "  model.eval()\n",
    "\n",
    "  for batch in valid_dataloader: \n",
    "    # unpack input and labels \n",
    "    b_input_ids  = batch[0].to(device)\n",
    "    b_input_mask = batch[1].to(device)\n",
    "    b_labels     = batch[2].to(device).long()\n",
    "\n",
    "    # disable gradient calculation, since there are no backward passes \n",
    "    with torch.no_grad(): \n",
    "      # forward pass to evaluate model on this batch \n",
    "      loss, logits = model(\n",
    "          b_input_ids, attention_mask=b_input_mask, labels=b_labels\n",
    "      ) \n",
    "    \n",
    "    # increment by this batch's validation loss \n",
    "    total_eval_loss += loss.item()\n",
    "\n",
    "    # move logits and labels to cpu \n",
    "    logits = logits.detach().cpu().numpy()\n",
    "    label_ids = b_labels.to(\"cpu\").numpy()\n",
    "\n",
    "    total_eval_accuracy += flat_accuracy(logits, label_ids)\n",
    "\n",
    "  # average validation statistics for this epoch\n",
    "  avg_val_accuracy = total_eval_accuracy / len(valid_dataloader)\n",
    "  avg_val_loss = total_eval_loss / len(valid_dataloader)\n",
    "  valid_time = format_time(time.time() - t0)\n",
    "  print(\"  accuracy: {0:.2f}\".format(avg_val_accuracy))\n",
    "  print(\"  validation loss: {0:.2f}\".format(avg_val_loss))\n",
    "  print(\"  time taken for validation: {:}\".format(valid_time))\n",
    "  \n",
    "  valid_time = format_time(time.time() - t0)\n",
    "\n",
    "  # record this epoch's train/validation statistics\n",
    "  training_stats.append(\n",
    "      {\n",
    "          \"epoch\": epoch_i+1, \n",
    "          \"training loss\": avg_train_loss, \n",
    "          \"valid. loss\": avg_val_loss, \n",
    "          \"valid. accuracy\": avg_val_accuracy, \n",
    "          \"training time\": training_time, \n",
    "          \"valid. time\": valid_time\n",
    "      }\n",
    "  )\n",
    "\n",
    "print(\"\")\n",
    "print(\"Training is complete.\")\n",
    "print(\"Training time: {:}\".format(format_time(time.time() - total_t0)))"
   ]
  },
  {
   "cell_type": "markdown",
   "metadata": {
    "colab_type": "text",
    "id": "K3UZRuMIEs-_"
   },
   "source": [
    "Let us visualise the training and validation information:"
   ]
  },
  {
   "cell_type": "code",
   "execution_count": 26,
   "metadata": {
    "colab": {
     "base_uri": "https://localhost:8080/",
     "height": 173
    },
    "colab_type": "code",
    "id": "vLAxwl8BuGLK",
    "outputId": "b7bf1746-259b-490e-f855-9deaf26ddc0a"
   },
   "outputs": [
    {
     "data": {
      "text/html": [
       "<div>\n",
       "<style scoped>\n",
       "    .dataframe tbody tr th:only-of-type {\n",
       "        vertical-align: middle;\n",
       "    }\n",
       "\n",
       "    .dataframe tbody tr th {\n",
       "        vertical-align: top;\n",
       "    }\n",
       "\n",
       "    .dataframe thead th {\n",
       "        text-align: right;\n",
       "    }\n",
       "</style>\n",
       "<table border=\"1\" class=\"dataframe\">\n",
       "  <thead>\n",
       "    <tr style=\"text-align: right;\">\n",
       "      <th></th>\n",
       "      <th>training loss</th>\n",
       "      <th>valid. loss</th>\n",
       "      <th>valid. accuracy</th>\n",
       "      <th>training time</th>\n",
       "      <th>valid. time</th>\n",
       "    </tr>\n",
       "    <tr>\n",
       "      <th>epoch</th>\n",
       "      <th></th>\n",
       "      <th></th>\n",
       "      <th></th>\n",
       "      <th></th>\n",
       "      <th></th>\n",
       "    </tr>\n",
       "  </thead>\n",
       "  <tbody>\n",
       "    <tr>\n",
       "      <th>1</th>\n",
       "      <td>0.64</td>\n",
       "      <td>0.56</td>\n",
       "      <td>0.77</td>\n",
       "      <td>0:01:36</td>\n",
       "      <td>0:00:10</td>\n",
       "    </tr>\n",
       "    <tr>\n",
       "      <th>2</th>\n",
       "      <td>0.45</td>\n",
       "      <td>0.56</td>\n",
       "      <td>0.79</td>\n",
       "      <td>0:01:36</td>\n",
       "      <td>0:00:10</td>\n",
       "    </tr>\n",
       "    <tr>\n",
       "      <th>3</th>\n",
       "      <td>0.37</td>\n",
       "      <td>0.58</td>\n",
       "      <td>0.78</td>\n",
       "      <td>0:01:36</td>\n",
       "      <td>0:00:10</td>\n",
       "    </tr>\n",
       "  </tbody>\n",
       "</table>\n",
       "</div>"
      ],
      "text/plain": [
       "       training loss  valid. loss  valid. accuracy training time valid. time\n",
       "epoch                                                                       \n",
       "1               0.64         0.56             0.77       0:01:36     0:00:10\n",
       "2               0.45         0.56             0.79       0:01:36     0:00:10\n",
       "3               0.37         0.58             0.78       0:01:36     0:00:10"
      ]
     },
     "execution_count": 26,
     "metadata": {
      "tags": []
     },
     "output_type": "execute_result"
    }
   ],
   "source": [
    "pd.set_option(\"precision\", 2)\n",
    "training_stats = pd.DataFrame(data=training_stats)\n",
    "training_stats = training_stats.set_index(\"epoch\")\n",
    "\n",
    "training_stats"
   ]
  },
  {
   "cell_type": "code",
   "execution_count": 1,
   "metadata": {
    "colab": {
     "base_uri": "https://localhost:8080/",
     "height": 647
    },
    "colab_type": "code",
    "id": "GO7kqF1euGLO",
    "outputId": "5946da29-4cc9-4c2a-f274-df06702c179f"
   },
   "outputs": [
    {
     "name": "stderr",
     "output_type": "stream",
     "text": [
      "UsageError: Line magic function `%` not found.\n"
     ]
    }
   ],
   "source": [
    "% matplotlib inline\n",
    "\n",
    "sns.set(style=\"darkgrid\")\n",
    "plt.figure(figsize=(50, 30))\n",
    "\n",
    "plt.plot(training_stats[\"training loss\"], \"b-o\", label=\"training\")\n",
    "plt.plot(training_stats[\"valid. loss\"], \"g-o\", label=\"validation\")\n",
    "\n",
    "plt.title(\"Training & Validation loss\")\n",
    "plt.xlabel(\"epoch\")\n",
    "plt.xticks(range(1,n_epochs+1))\n",
    "plt.ylabel(\"loss\")\n",
    "plt.legend()"
   ]
  },
  {
   "cell_type": "markdown",
   "metadata": {
    "colab_type": "text",
    "id": "ET6eLl24GKM1"
   },
   "source": [
    "Observe how there is an increase in validation loss after the third epoch. This indicates that the classifier starts to the training set after the second epoch. \n",
    "\n",
    "Below, we repeat the fine-tuning process with a new instance of the pretrained DistilBERT model, but this time with only two epochs. \n",
    "\n",
    "Note: a better way to go about this would be to implement early-stopping in the training loop, so as to avoid spending too much time on re-training. "
   ]
  },
  {
   "cell_type": "code",
   "execution_count": 30,
   "metadata": {
    "colab": {
     "base_uri": "https://localhost:8080/",
     "height": 612
    },
    "colab_type": "code",
    "id": "hCi8HntxuGLU",
    "outputId": "d65416db-224b-4f6e-bf87-06909a6c9cc1"
   },
   "outputs": [
    {
     "name": "stdout",
     "output_type": "stream",
     "text": [
      "\n",
      "=============== Epoch 1 / 2 ===============\n",
      "Training...\n",
      "  batch   100 of   516;    elapsed: 0:00:19\n",
      "  batch   200 of   516;    elapsed: 0:00:37\n",
      "  batch   300 of   516;    elapsed: 0:00:56\n",
      "  batch   400 of   516;    elapsed: 0:01:14\n",
      "  batch   500 of   516;    elapsed: 0:01:33\n",
      "\n",
      "  average training loss: 0.63\n",
      "  time taken for training: 0:01:36\n",
      "\n",
      "Running validation...\n",
      "  accuracy: 0.78\n",
      "  validation loss: 0.57\n",
      "  time taken for validation: 0:00:10\n",
      "\n",
      "=============== Epoch 2 / 2 ===============\n",
      "Training...\n",
      "  batch   100 of   516;    elapsed: 0:00:19\n",
      "  batch   200 of   516;    elapsed: 0:00:37\n",
      "  batch   300 of   516;    elapsed: 0:00:56\n",
      "  batch   400 of   516;    elapsed: 0:01:14\n",
      "  batch   500 of   516;    elapsed: 0:01:33\n",
      "\n",
      "  average training loss: 0.46\n",
      "  time taken for training: 0:01:36\n",
      "\n",
      "Running validation...\n",
      "  accuracy: 0.78\n",
      "  validation loss: 0.55\n",
      "  time taken for validation: 0:00:10\n",
      "\n",
      "Training is complete.\n",
      "Training time: 0:03:31\n"
     ]
    }
   ],
   "source": [
    "# load pretrained model \n",
    "model = DistilBertForSequenceClassification.from_pretrained(\n",
    "    \"distilbert-base-uncased\", num_labels=3, output_attentions=False, output_hidden_states=False\n",
    ")\n",
    "\n",
    "# put model on cuda\n",
    "model.cuda()\n",
    "\n",
    "# optimizer \n",
    "optimizer = AdamW(\n",
    "    model.parameters(), lr=2e-5, eps=1e-8\n",
    ") \n",
    "\n",
    "# scheduler\n",
    "n_epochs = 2\n",
    "total_steps = len(train_dataloader) * n_epochs\n",
    "\n",
    "scheduler = get_linear_schedule_with_warmup(\n",
    "    optimizer, num_warmup_steps=0, num_training_steps=total_steps\n",
    ")\n",
    "\n",
    "# main training loop \n",
    "training_stats = []\n",
    "total_t0 = time.time()\n",
    "\n",
    "for epoch_i in range(0, n_epochs): \n",
    "  print(\"\")\n",
    "  print(\"=============== Epoch {:} / {:} ===============\".format(epoch_i+1, n_epochs))\n",
    "  print(\"Training...\")\n",
    "\n",
    "  t0 = time.time()\n",
    "  total_train_loss = 0\n",
    "\n",
    "  # put model in training mode \n",
    "  model.train() \n",
    "  \n",
    "  for step, batch in enumerate(train_dataloader):\n",
    "    # unpack input and labels \n",
    "    b_input_ids  = batch[0].to(device)\n",
    "    b_input_mask = batch[1].to(device)\n",
    "    b_labels     = batch[2].to(device)\n",
    "\n",
    "    # clear previously calculated gradients - must be done before backward pass! \n",
    "    model.zero_grad()\n",
    "\n",
    "    # forward pass to evaluate model on this batch \n",
    "    loss, logits = model(\n",
    "        input_ids      = b_input_ids, \n",
    "        attention_mask = b_input_mask, \n",
    "        labels         = b_labels.long() \n",
    "    ) \n",
    "\n",
    "    # increment by this batch's training loss \n",
    "    total_train_loss += loss.item() \n",
    "\n",
    "    # backward pass to calculate gradients \n",
    "    loss.backward() \n",
    "\n",
    "    # limit gradients to 1.0 to avoid infinite gradients \n",
    "    torch.nn.utils.clip_grad_norm_(model.parameters(), 1.0)\n",
    "\n",
    "    # update parameters (according to optimizer) \n",
    "    optimizer.step() \n",
    "    \n",
    "    # update learning rate (according to scheduler)\n",
    "    scheduler.step() \n",
    "\n",
    "    # print training progress every 100 batches \n",
    "    if step % 100 == 0 and not step == 0:\n",
    "      elapsed = format_time(time.time() - t0)\n",
    "      print(\"  batch {:>5,} of {:>5,};    elapsed: {:}\".format(step, len(train_dataloader), elapsed))\n",
    "\n",
    "  # average training loss for this epoch \n",
    "  avg_train_loss = total_train_loss / len(train_dataloader)\n",
    "  \n",
    "  # time taken for training in this epoch\n",
    "  training_time = format_time(time.time() - t0)\n",
    "\n",
    "  print(\"\")\n",
    "  print(\"  average training loss: {0:.2f}\".format(avg_train_loss))\n",
    "  print(\"  time taken for training: {:}\".format(training_time))\n",
    "\n",
    "  print(\"\")\n",
    "  print(\"Running validation...\")\n",
    "\n",
    "  t0 = time.time() \n",
    "  total_eval_accuracy = 0\n",
    "  total_eval_loss = 0 \n",
    "  nb_eval_steps = 0 \n",
    "\n",
    "  # put model in evaluation mode\n",
    "  model.eval()\n",
    "\n",
    "  for batch in valid_dataloader: \n",
    "    # unpack input and labels \n",
    "    b_input_ids  = batch[0].to(device)\n",
    "    b_input_mask = batch[1].to(device)\n",
    "    b_labels     = batch[2].to(device).long()\n",
    "\n",
    "    # disable gradient calculation, since there are no backward passes \n",
    "    with torch.no_grad(): \n",
    "      # forward pass to evaluate model on this batch \n",
    "      loss, logits = model(\n",
    "          b_input_ids, attention_mask=b_input_mask, labels=b_labels\n",
    "      ) \n",
    "    \n",
    "    # increment by this batch's validation loss \n",
    "    total_eval_loss += loss.item()\n",
    "\n",
    "    # move logits and labels to cpu \n",
    "    logits = logits.detach().cpu().numpy()\n",
    "    label_ids = b_labels.to(\"cpu\").numpy()\n",
    "\n",
    "    total_eval_accuracy += flat_accuracy(logits, label_ids)\n",
    "\n",
    "  # average validation statistics for this epoch\n",
    "  avg_val_accuracy = total_eval_accuracy / len(valid_dataloader)\n",
    "  avg_val_loss = total_eval_loss / len(valid_dataloader)\n",
    "  valid_time = format_time(time.time() - t0)\n",
    "  print(\"  accuracy: {0:.2f}\".format(avg_val_accuracy))\n",
    "  print(\"  validation loss: {0:.2f}\".format(avg_val_loss))\n",
    "  print(\"  time taken for validation: {:}\".format(valid_time))\n",
    "  \n",
    "  valid_time = format_time(time.time() - t0)\n",
    "\n",
    "  # record this epoch's train/validation statistics\n",
    "  training_stats.append(\n",
    "      {\n",
    "          \"epoch\": epoch_i+1, \n",
    "          \"training loss\": avg_train_loss, \n",
    "          \"valid. loss\": avg_val_loss, \n",
    "          \"valid. accuracy\": avg_val_accuracy, \n",
    "          \"training time\": training_time, \n",
    "          \"valid. time\": valid_time\n",
    "      }\n",
    "  )\n",
    "\n",
    "print(\"\")\n",
    "print(\"Training is complete.\")\n",
    "print(\"Training time: {:}\".format(format_time(time.time() - total_t0)))"
   ]
  },
  {
   "cell_type": "markdown",
   "metadata": {
    "colab_type": "text",
    "id": "aQgzkAyQN2Bt"
   },
   "source": [
    "## 5. Testing DistilBERT\n",
    "\n",
    "To truly understand the performance of our classifier, it is important to test it on data it has not seen. Here we make use of the earlier-defined `test_dataloader` to evaluate how accurate the classifier is. "
   ]
  },
  {
   "cell_type": "code",
   "execution_count": 31,
   "metadata": {
    "colab": {
     "base_uri": "https://localhost:8080/",
     "height": 34
    },
    "colab_type": "code",
    "id": "v16RSfVbuGLc",
    "outputId": "cb1ca6f8-14c7-4bc2-cec1-ad91cca7d159"
   },
   "outputs": [
    {
     "name": "stdout",
     "output_type": "stream",
     "text": [
      "  test accuracy: 0.7876162790697674\n"
     ]
    }
   ],
   "source": [
    "predictions = [] \n",
    "total_test_accuracy = 0\n",
    "\n",
    "model.eval() \n",
    "\n",
    "for batch in test_dataloader:  \n",
    "  b_input_ids  = batch[0].to(device)\n",
    "  b_input_mask = batch[1].to(device)\n",
    "  b_labels     = batch[2].to(device).long()\n",
    "\n",
    "  with torch.no_grad():\n",
    "    output = model(\n",
    "        b_input_ids, attention_mask=b_input_mask\n",
    "    )\n",
    "\n",
    "  logits = output[0]\n",
    "  logits = logits.detach().cpu().numpy()\n",
    "  label_ids = b_labels.to(\"cpu\").numpy()\n",
    "\n",
    "  predictions.append(logits)\n",
    "  total_test_accuracy += flat_accuracy(logits, label_ids)\n",
    "\n",
    "avg_test_accuracy = total_test_accuracy / len(test_dataloader)\n",
    "print(\"  test accuracy: {:}\".format(avg_test_accuracy))"
   ]
  }
 ],
 "metadata": {
  "accelerator": "GPU",
  "colab": {
   "name": "DistilBert_SequenceClassification.ipynb",
   "provenance": []
  },
  "kernelspec": {
   "display_name": "Python 3",
   "language": "python",
   "name": "python3"
  },
  "language_info": {
   "codemirror_mode": {
    "name": "ipython",
    "version": 3
   },
   "file_extension": ".py",
   "mimetype": "text/x-python",
   "name": "python",
   "nbconvert_exporter": "python",
   "pygments_lexer": "ipython3",
   "version": "3.7.6"
  },
  "widgets": {
   "application/vnd.jupyter.widget-state+json": {
    "0b7781e935314ccd9a983f0fffe8a47f": {
     "model_module": "@jupyter-widgets/controls",
     "model_name": "ProgressStyleModel",
     "state": {
      "_model_module": "@jupyter-widgets/controls",
      "_model_module_version": "1.5.0",
      "_model_name": "ProgressStyleModel",
      "_view_count": null,
      "_view_module": "@jupyter-widgets/base",
      "_view_module_version": "1.2.0",
      "_view_name": "StyleView",
      "bar_color": null,
      "description_width": "initial"
     }
    },
    "15d9df83c8784863b1591c0135bb8780": {
     "model_module": "@jupyter-widgets/base",
     "model_name": "LayoutModel",
     "state": {
      "_model_module": "@jupyter-widgets/base",
      "_model_module_version": "1.2.0",
      "_model_name": "LayoutModel",
      "_view_count": null,
      "_view_module": "@jupyter-widgets/base",
      "_view_module_version": "1.2.0",
      "_view_name": "LayoutView",
      "align_content": null,
      "align_items": null,
      "align_self": null,
      "border": null,
      "bottom": null,
      "display": null,
      "flex": null,
      "flex_flow": null,
      "grid_area": null,
      "grid_auto_columns": null,
      "grid_auto_flow": null,
      "grid_auto_rows": null,
      "grid_column": null,
      "grid_gap": null,
      "grid_row": null,
      "grid_template_areas": null,
      "grid_template_columns": null,
      "grid_template_rows": null,
      "height": null,
      "justify_content": null,
      "justify_items": null,
      "left": null,
      "margin": null,
      "max_height": null,
      "max_width": null,
      "min_height": null,
      "min_width": null,
      "object_fit": null,
      "object_position": null,
      "order": null,
      "overflow": null,
      "overflow_x": null,
      "overflow_y": null,
      "padding": null,
      "right": null,
      "top": null,
      "visibility": null,
      "width": null
     }
    },
    "1bbe3ff82e3441889ee50dd8db263ec1": {
     "model_module": "@jupyter-widgets/base",
     "model_name": "LayoutModel",
     "state": {
      "_model_module": "@jupyter-widgets/base",
      "_model_module_version": "1.2.0",
      "_model_name": "LayoutModel",
      "_view_count": null,
      "_view_module": "@jupyter-widgets/base",
      "_view_module_version": "1.2.0",
      "_view_name": "LayoutView",
      "align_content": null,
      "align_items": null,
      "align_self": null,
      "border": null,
      "bottom": null,
      "display": null,
      "flex": null,
      "flex_flow": null,
      "grid_area": null,
      "grid_auto_columns": null,
      "grid_auto_flow": null,
      "grid_auto_rows": null,
      "grid_column": null,
      "grid_gap": null,
      "grid_row": null,
      "grid_template_areas": null,
      "grid_template_columns": null,
      "grid_template_rows": null,
      "height": null,
      "justify_content": null,
      "justify_items": null,
      "left": null,
      "margin": null,
      "max_height": null,
      "max_width": null,
      "min_height": null,
      "min_width": null,
      "object_fit": null,
      "object_position": null,
      "order": null,
      "overflow": null,
      "overflow_x": null,
      "overflow_y": null,
      "padding": null,
      "right": null,
      "top": null,
      "visibility": null,
      "width": null
     }
    },
    "2f6348d7a82840bf8011b69dc04f7855": {
     "model_module": "@jupyter-widgets/base",
     "model_name": "LayoutModel",
     "state": {
      "_model_module": "@jupyter-widgets/base",
      "_model_module_version": "1.2.0",
      "_model_name": "LayoutModel",
      "_view_count": null,
      "_view_module": "@jupyter-widgets/base",
      "_view_module_version": "1.2.0",
      "_view_name": "LayoutView",
      "align_content": null,
      "align_items": null,
      "align_self": null,
      "border": null,
      "bottom": null,
      "display": null,
      "flex": null,
      "flex_flow": null,
      "grid_area": null,
      "grid_auto_columns": null,
      "grid_auto_flow": null,
      "grid_auto_rows": null,
      "grid_column": null,
      "grid_gap": null,
      "grid_row": null,
      "grid_template_areas": null,
      "grid_template_columns": null,
      "grid_template_rows": null,
      "height": null,
      "justify_content": null,
      "justify_items": null,
      "left": null,
      "margin": null,
      "max_height": null,
      "max_width": null,
      "min_height": null,
      "min_width": null,
      "object_fit": null,
      "object_position": null,
      "order": null,
      "overflow": null,
      "overflow_x": null,
      "overflow_y": null,
      "padding": null,
      "right": null,
      "top": null,
      "visibility": null,
      "width": null
     }
    },
    "388b89c211b54d7797aba0ca5534f546": {
     "model_module": "@jupyter-widgets/controls",
     "model_name": "DescriptionStyleModel",
     "state": {
      "_model_module": "@jupyter-widgets/controls",
      "_model_module_version": "1.5.0",
      "_model_name": "DescriptionStyleModel",
      "_view_count": null,
      "_view_module": "@jupyter-widgets/base",
      "_view_module_version": "1.2.0",
      "_view_name": "StyleView",
      "description_width": ""
     }
    },
    "418e00f0073741b88a96cbed72890f9f": {
     "model_module": "@jupyter-widgets/controls",
     "model_name": "IntProgressModel",
     "state": {
      "_dom_classes": [],
      "_model_module": "@jupyter-widgets/controls",
      "_model_module_version": "1.5.0",
      "_model_name": "IntProgressModel",
      "_view_count": null,
      "_view_module": "@jupyter-widgets/controls",
      "_view_module_version": "1.5.0",
      "_view_name": "ProgressView",
      "bar_style": "success",
      "description": "Downloading: 100%",
      "description_tooltip": null,
      "layout": "IPY_MODEL_4759fa9657cc4de7bdfe5881828a6294",
      "max": 231508,
      "min": 0,
      "orientation": "horizontal",
      "style": "IPY_MODEL_0b7781e935314ccd9a983f0fffe8a47f",
      "value": 231508
     }
    },
    "4759fa9657cc4de7bdfe5881828a6294": {
     "model_module": "@jupyter-widgets/base",
     "model_name": "LayoutModel",
     "state": {
      "_model_module": "@jupyter-widgets/base",
      "_model_module_version": "1.2.0",
      "_model_name": "LayoutModel",
      "_view_count": null,
      "_view_module": "@jupyter-widgets/base",
      "_view_module_version": "1.2.0",
      "_view_name": "LayoutView",
      "align_content": null,
      "align_items": null,
      "align_self": null,
      "border": null,
      "bottom": null,
      "display": null,
      "flex": null,
      "flex_flow": null,
      "grid_area": null,
      "grid_auto_columns": null,
      "grid_auto_flow": null,
      "grid_auto_rows": null,
      "grid_column": null,
      "grid_gap": null,
      "grid_row": null,
      "grid_template_areas": null,
      "grid_template_columns": null,
      "grid_template_rows": null,
      "height": null,
      "justify_content": null,
      "justify_items": null,
      "left": null,
      "margin": null,
      "max_height": null,
      "max_width": null,
      "min_height": null,
      "min_width": null,
      "object_fit": null,
      "object_position": null,
      "order": null,
      "overflow": null,
      "overflow_x": null,
      "overflow_y": null,
      "padding": null,
      "right": null,
      "top": null,
      "visibility": null,
      "width": null
     }
    },
    "507afd284abc4e3c8bebf6ac7754bcea": {
     "model_module": "@jupyter-widgets/controls",
     "model_name": "HTMLModel",
     "state": {
      "_dom_classes": [],
      "_model_module": "@jupyter-widgets/controls",
      "_model_module_version": "1.5.0",
      "_model_name": "HTMLModel",
      "_view_count": null,
      "_view_module": "@jupyter-widgets/controls",
      "_view_module_version": "1.5.0",
      "_view_name": "HTMLView",
      "description": "",
      "description_tooltip": null,
      "layout": "IPY_MODEL_d66b88e67c1d441d87e1e2fdcfdcada7",
      "placeholder": "​",
      "style": "IPY_MODEL_388b89c211b54d7797aba0ca5534f546",
      "value": " 442/442 [00:10&lt;00:00, 43.8B/s]"
     }
    },
    "52e8fb5dd74a452fb2769892a902c12e": {
     "model_module": "@jupyter-widgets/controls",
     "model_name": "HBoxModel",
     "state": {
      "_dom_classes": [],
      "_model_module": "@jupyter-widgets/controls",
      "_model_module_version": "1.5.0",
      "_model_name": "HBoxModel",
      "_view_count": null,
      "_view_module": "@jupyter-widgets/controls",
      "_view_module_version": "1.5.0",
      "_view_name": "HBoxView",
      "box_style": "",
      "children": [
       "IPY_MODEL_d8e8128e51b34fd4ba191c7769b5a1f9",
       "IPY_MODEL_8dc341e4832940118c50b05d1a325c22"
      ],
      "layout": "IPY_MODEL_15d9df83c8784863b1591c0135bb8780"
     }
    },
    "597ec97daa5b45ef9d38a22b32e596cf": {
     "model_module": "@jupyter-widgets/controls",
     "model_name": "IntProgressModel",
     "state": {
      "_dom_classes": [],
      "_model_module": "@jupyter-widgets/controls",
      "_model_module_version": "1.5.0",
      "_model_name": "IntProgressModel",
      "_view_count": null,
      "_view_module": "@jupyter-widgets/controls",
      "_view_module_version": "1.5.0",
      "_view_name": "ProgressView",
      "bar_style": "success",
      "description": "Downloading: 100%",
      "description_tooltip": null,
      "layout": "IPY_MODEL_6ff6a9dc38fe49daaa4621f26d8934c1",
      "max": 442,
      "min": 0,
      "orientation": "horizontal",
      "style": "IPY_MODEL_b01ba53ff1ac4092bc779d8c3ffca356",
      "value": 442
     }
    },
    "5ae69ce0f811454b88b1e32f4fd3c511": {
     "model_module": "@jupyter-widgets/controls",
     "model_name": "DescriptionStyleModel",
     "state": {
      "_model_module": "@jupyter-widgets/controls",
      "_model_module_version": "1.5.0",
      "_model_name": "DescriptionStyleModel",
      "_view_count": null,
      "_view_module": "@jupyter-widgets/base",
      "_view_module_version": "1.2.0",
      "_view_name": "StyleView",
      "description_width": ""
     }
    },
    "6a6b465fda1b4943880e1f53bd2f7ecd": {
     "model_module": "@jupyter-widgets/controls",
     "model_name": "HBoxModel",
     "state": {
      "_dom_classes": [],
      "_model_module": "@jupyter-widgets/controls",
      "_model_module_version": "1.5.0",
      "_model_name": "HBoxModel",
      "_view_count": null,
      "_view_module": "@jupyter-widgets/controls",
      "_view_module_version": "1.5.0",
      "_view_name": "HBoxView",
      "box_style": "",
      "children": [
       "IPY_MODEL_597ec97daa5b45ef9d38a22b32e596cf",
       "IPY_MODEL_507afd284abc4e3c8bebf6ac7754bcea"
      ],
      "layout": "IPY_MODEL_cd83a0f06eb34f799f00efdd328d54c8"
     }
    },
    "6c0e797fbb7341c8b58d9b3c99255c4c": {
     "model_module": "@jupyter-widgets/controls",
     "model_name": "ProgressStyleModel",
     "state": {
      "_model_module": "@jupyter-widgets/controls",
      "_model_module_version": "1.5.0",
      "_model_name": "ProgressStyleModel",
      "_view_count": null,
      "_view_module": "@jupyter-widgets/base",
      "_view_module_version": "1.2.0",
      "_view_name": "StyleView",
      "bar_color": null,
      "description_width": "initial"
     }
    },
    "6ff6a9dc38fe49daaa4621f26d8934c1": {
     "model_module": "@jupyter-widgets/base",
     "model_name": "LayoutModel",
     "state": {
      "_model_module": "@jupyter-widgets/base",
      "_model_module_version": "1.2.0",
      "_model_name": "LayoutModel",
      "_view_count": null,
      "_view_module": "@jupyter-widgets/base",
      "_view_module_version": "1.2.0",
      "_view_name": "LayoutView",
      "align_content": null,
      "align_items": null,
      "align_self": null,
      "border": null,
      "bottom": null,
      "display": null,
      "flex": null,
      "flex_flow": null,
      "grid_area": null,
      "grid_auto_columns": null,
      "grid_auto_flow": null,
      "grid_auto_rows": null,
      "grid_column": null,
      "grid_gap": null,
      "grid_row": null,
      "grid_template_areas": null,
      "grid_template_columns": null,
      "grid_template_rows": null,
      "height": null,
      "justify_content": null,
      "justify_items": null,
      "left": null,
      "margin": null,
      "max_height": null,
      "max_width": null,
      "min_height": null,
      "min_width": null,
      "object_fit": null,
      "object_position": null,
      "order": null,
      "overflow": null,
      "overflow_x": null,
      "overflow_y": null,
      "padding": null,
      "right": null,
      "top": null,
      "visibility": null,
      "width": null
     }
    },
    "8dc341e4832940118c50b05d1a325c22": {
     "model_module": "@jupyter-widgets/controls",
     "model_name": "HTMLModel",
     "state": {
      "_dom_classes": [],
      "_model_module": "@jupyter-widgets/controls",
      "_model_module_version": "1.5.0",
      "_model_name": "HTMLModel",
      "_view_count": null,
      "_view_module": "@jupyter-widgets/controls",
      "_view_module_version": "1.5.0",
      "_view_name": "HTMLView",
      "description": "",
      "description_tooltip": null,
      "layout": "IPY_MODEL_db7db5c4be444e61a414e53d619fcb65",
      "placeholder": "​",
      "style": "IPY_MODEL_9018d9bec1204ec7af6439a5f932994a",
      "value": " 268M/268M [00:08&lt;00:00, 33.2MB/s]"
     }
    },
    "9018d9bec1204ec7af6439a5f932994a": {
     "model_module": "@jupyter-widgets/controls",
     "model_name": "DescriptionStyleModel",
     "state": {
      "_model_module": "@jupyter-widgets/controls",
      "_model_module_version": "1.5.0",
      "_model_name": "DescriptionStyleModel",
      "_view_count": null,
      "_view_module": "@jupyter-widgets/base",
      "_view_module_version": "1.2.0",
      "_view_name": "StyleView",
      "description_width": ""
     }
    },
    "aaaa4a01be514e3596d979efb3349cb9": {
     "model_module": "@jupyter-widgets/controls",
     "model_name": "HBoxModel",
     "state": {
      "_dom_classes": [],
      "_model_module": "@jupyter-widgets/controls",
      "_model_module_version": "1.5.0",
      "_model_name": "HBoxModel",
      "_view_count": null,
      "_view_module": "@jupyter-widgets/controls",
      "_view_module_version": "1.5.0",
      "_view_name": "HBoxView",
      "box_style": "",
      "children": [
       "IPY_MODEL_418e00f0073741b88a96cbed72890f9f",
       "IPY_MODEL_fb150cc3632c46a68ca457a578049726"
      ],
      "layout": "IPY_MODEL_1bbe3ff82e3441889ee50dd8db263ec1"
     }
    },
    "b01ba53ff1ac4092bc779d8c3ffca356": {
     "model_module": "@jupyter-widgets/controls",
     "model_name": "ProgressStyleModel",
     "state": {
      "_model_module": "@jupyter-widgets/controls",
      "_model_module_version": "1.5.0",
      "_model_name": "ProgressStyleModel",
      "_view_count": null,
      "_view_module": "@jupyter-widgets/base",
      "_view_module_version": "1.2.0",
      "_view_name": "StyleView",
      "bar_color": null,
      "description_width": "initial"
     }
    },
    "cd83a0f06eb34f799f00efdd328d54c8": {
     "model_module": "@jupyter-widgets/base",
     "model_name": "LayoutModel",
     "state": {
      "_model_module": "@jupyter-widgets/base",
      "_model_module_version": "1.2.0",
      "_model_name": "LayoutModel",
      "_view_count": null,
      "_view_module": "@jupyter-widgets/base",
      "_view_module_version": "1.2.0",
      "_view_name": "LayoutView",
      "align_content": null,
      "align_items": null,
      "align_self": null,
      "border": null,
      "bottom": null,
      "display": null,
      "flex": null,
      "flex_flow": null,
      "grid_area": null,
      "grid_auto_columns": null,
      "grid_auto_flow": null,
      "grid_auto_rows": null,
      "grid_column": null,
      "grid_gap": null,
      "grid_row": null,
      "grid_template_areas": null,
      "grid_template_columns": null,
      "grid_template_rows": null,
      "height": null,
      "justify_content": null,
      "justify_items": null,
      "left": null,
      "margin": null,
      "max_height": null,
      "max_width": null,
      "min_height": null,
      "min_width": null,
      "object_fit": null,
      "object_position": null,
      "order": null,
      "overflow": null,
      "overflow_x": null,
      "overflow_y": null,
      "padding": null,
      "right": null,
      "top": null,
      "visibility": null,
      "width": null
     }
    },
    "d66b88e67c1d441d87e1e2fdcfdcada7": {
     "model_module": "@jupyter-widgets/base",
     "model_name": "LayoutModel",
     "state": {
      "_model_module": "@jupyter-widgets/base",
      "_model_module_version": "1.2.0",
      "_model_name": "LayoutModel",
      "_view_count": null,
      "_view_module": "@jupyter-widgets/base",
      "_view_module_version": "1.2.0",
      "_view_name": "LayoutView",
      "align_content": null,
      "align_items": null,
      "align_self": null,
      "border": null,
      "bottom": null,
      "display": null,
      "flex": null,
      "flex_flow": null,
      "grid_area": null,
      "grid_auto_columns": null,
      "grid_auto_flow": null,
      "grid_auto_rows": null,
      "grid_column": null,
      "grid_gap": null,
      "grid_row": null,
      "grid_template_areas": null,
      "grid_template_columns": null,
      "grid_template_rows": null,
      "height": null,
      "justify_content": null,
      "justify_items": null,
      "left": null,
      "margin": null,
      "max_height": null,
      "max_width": null,
      "min_height": null,
      "min_width": null,
      "object_fit": null,
      "object_position": null,
      "order": null,
      "overflow": null,
      "overflow_x": null,
      "overflow_y": null,
      "padding": null,
      "right": null,
      "top": null,
      "visibility": null,
      "width": null
     }
    },
    "d8e8128e51b34fd4ba191c7769b5a1f9": {
     "model_module": "@jupyter-widgets/controls",
     "model_name": "IntProgressModel",
     "state": {
      "_dom_classes": [],
      "_model_module": "@jupyter-widgets/controls",
      "_model_module_version": "1.5.0",
      "_model_name": "IntProgressModel",
      "_view_count": null,
      "_view_module": "@jupyter-widgets/controls",
      "_view_module_version": "1.5.0",
      "_view_name": "ProgressView",
      "bar_style": "success",
      "description": "Downloading: 100%",
      "description_tooltip": null,
      "layout": "IPY_MODEL_2f6348d7a82840bf8011b69dc04f7855",
      "max": 267967963,
      "min": 0,
      "orientation": "horizontal",
      "style": "IPY_MODEL_6c0e797fbb7341c8b58d9b3c99255c4c",
      "value": 267967963
     }
    },
    "db7db5c4be444e61a414e53d619fcb65": {
     "model_module": "@jupyter-widgets/base",
     "model_name": "LayoutModel",
     "state": {
      "_model_module": "@jupyter-widgets/base",
      "_model_module_version": "1.2.0",
      "_model_name": "LayoutModel",
      "_view_count": null,
      "_view_module": "@jupyter-widgets/base",
      "_view_module_version": "1.2.0",
      "_view_name": "LayoutView",
      "align_content": null,
      "align_items": null,
      "align_self": null,
      "border": null,
      "bottom": null,
      "display": null,
      "flex": null,
      "flex_flow": null,
      "grid_area": null,
      "grid_auto_columns": null,
      "grid_auto_flow": null,
      "grid_auto_rows": null,
      "grid_column": null,
      "grid_gap": null,
      "grid_row": null,
      "grid_template_areas": null,
      "grid_template_columns": null,
      "grid_template_rows": null,
      "height": null,
      "justify_content": null,
      "justify_items": null,
      "left": null,
      "margin": null,
      "max_height": null,
      "max_width": null,
      "min_height": null,
      "min_width": null,
      "object_fit": null,
      "object_position": null,
      "order": null,
      "overflow": null,
      "overflow_x": null,
      "overflow_y": null,
      "padding": null,
      "right": null,
      "top": null,
      "visibility": null,
      "width": null
     }
    },
    "e57ef0bad00a4de5ad2a0f934f0dc702": {
     "model_module": "@jupyter-widgets/base",
     "model_name": "LayoutModel",
     "state": {
      "_model_module": "@jupyter-widgets/base",
      "_model_module_version": "1.2.0",
      "_model_name": "LayoutModel",
      "_view_count": null,
      "_view_module": "@jupyter-widgets/base",
      "_view_module_version": "1.2.0",
      "_view_name": "LayoutView",
      "align_content": null,
      "align_items": null,
      "align_self": null,
      "border": null,
      "bottom": null,
      "display": null,
      "flex": null,
      "flex_flow": null,
      "grid_area": null,
      "grid_auto_columns": null,
      "grid_auto_flow": null,
      "grid_auto_rows": null,
      "grid_column": null,
      "grid_gap": null,
      "grid_row": null,
      "grid_template_areas": null,
      "grid_template_columns": null,
      "grid_template_rows": null,
      "height": null,
      "justify_content": null,
      "justify_items": null,
      "left": null,
      "margin": null,
      "max_height": null,
      "max_width": null,
      "min_height": null,
      "min_width": null,
      "object_fit": null,
      "object_position": null,
      "order": null,
      "overflow": null,
      "overflow_x": null,
      "overflow_y": null,
      "padding": null,
      "right": null,
      "top": null,
      "visibility": null,
      "width": null
     }
    },
    "fb150cc3632c46a68ca457a578049726": {
     "model_module": "@jupyter-widgets/controls",
     "model_name": "HTMLModel",
     "state": {
      "_dom_classes": [],
      "_model_module": "@jupyter-widgets/controls",
      "_model_module_version": "1.5.0",
      "_model_name": "HTMLModel",
      "_view_count": null,
      "_view_module": "@jupyter-widgets/controls",
      "_view_module_version": "1.5.0",
      "_view_name": "HTMLView",
      "description": "",
      "description_tooltip": null,
      "layout": "IPY_MODEL_e57ef0bad00a4de5ad2a0f934f0dc702",
      "placeholder": "​",
      "style": "IPY_MODEL_5ae69ce0f811454b88b1e32f4fd3c511",
      "value": " 232k/232k [00:00&lt;00:00, 950kB/s]"
     }
    }
   }
  }
 },
 "nbformat": 4,
 "nbformat_minor": 1
}
